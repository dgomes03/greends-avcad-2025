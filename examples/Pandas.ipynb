{
 "cells": [
  {
   "cell_type": "markdown",
   "metadata": {},
   "source": [
    "# Analysis and Visualization of Complex Agro-Environmental Data\n",
    "---\n",
    "## Introduction to Pandas\n",
    "The name `pandas` is derived from \"panel data\" and it is the ideal package to deal with structured data, most typically in the form of relational tables, i.e. a table of columns (fields or variables) that describe a listing, or rows, of data (or observations). In pandas (as in R software), a data table is called a [DataFrame](https://pandas.pydata.org/docs/reference/api/pandas.DataFrame.html#pandas.DataFrame), which is defined as a two-dimensional, size-mutable (rows and/or columns may be added or deleted), potentially heterogeneous (may contain string, numeric, boolean and missing data) tabular data. Pandas offers a wide range of tools to explore, clean, and process your data.\n",
    "\n",
    "The first step will be to [install](https://pandas.pydata.org/docs/getting_started/install.html#) pandas. Then, you will need to import pandas to your work session:"
   ]
  },
  {
   "cell_type": "code",
   "execution_count": 5,
   "metadata": {},
   "outputs": [],
   "source": [
    "import pandas as pd"
   ]
  },
  {
   "cell_type": "markdown",
   "metadata": {},
   "source": [
    "We may import tabular data from a *.csv file or a *.xlsx file directly to a DataFrame using, respectively, the `read_csv` and `read_excel` funcions. Let's run an example with the table `penguins_lter.csv`, available on the \"examples\" folder of our github repository (you may run `help(pd. read_csv)` to check the arguments)"
   ]
  },
  {
   "cell_type": "code",
   "execution_count": 6,
   "metadata": {},
   "outputs": [
    {
     "data": {
      "text/html": [
       "<div>\n",
       "<style scoped>\n",
       "    .dataframe tbody tr th:only-of-type {\n",
       "        vertical-align: middle;\n",
       "    }\n",
       "\n",
       "    .dataframe tbody tr th {\n",
       "        vertical-align: top;\n",
       "    }\n",
       "\n",
       "    .dataframe thead th {\n",
       "        text-align: right;\n",
       "    }\n",
       "</style>\n",
       "<table border=\"1\" class=\"dataframe\">\n",
       "  <thead>\n",
       "    <tr style=\"text-align: right;\">\n",
       "      <th></th>\n",
       "      <th>studyName</th>\n",
       "      <th>Sample Number</th>\n",
       "      <th>Species</th>\n",
       "      <th>Region</th>\n",
       "      <th>Island</th>\n",
       "      <th>Stage</th>\n",
       "      <th>Individual ID</th>\n",
       "      <th>Clutch Completion</th>\n",
       "      <th>Date Egg</th>\n",
       "      <th>Culmen Length (mm)</th>\n",
       "      <th>Culmen Depth (mm)</th>\n",
       "      <th>Flipper Length (mm)</th>\n",
       "      <th>Body Mass (g)</th>\n",
       "      <th>Sex</th>\n",
       "      <th>Delta 15 N (o/oo)</th>\n",
       "      <th>Delta 13 C (o/oo)</th>\n",
       "      <th>Comments</th>\n",
       "    </tr>\n",
       "  </thead>\n",
       "  <tbody>\n",
       "    <tr>\n",
       "      <th>0</th>\n",
       "      <td>PAL0708</td>\n",
       "      <td>1</td>\n",
       "      <td>Adelie Penguin (Pygoscelis adeliae)</td>\n",
       "      <td>Anvers</td>\n",
       "      <td>Torgersen</td>\n",
       "      <td>Adult, 1 Egg Stage</td>\n",
       "      <td>N1A1</td>\n",
       "      <td>Yes</td>\n",
       "      <td>11/11/07</td>\n",
       "      <td>39.1</td>\n",
       "      <td>18.7</td>\n",
       "      <td>181.0</td>\n",
       "      <td>3750.0</td>\n",
       "      <td>MALE</td>\n",
       "      <td>NaN</td>\n",
       "      <td>NaN</td>\n",
       "      <td>Not enough blood for isotopes.</td>\n",
       "    </tr>\n",
       "    <tr>\n",
       "      <th>1</th>\n",
       "      <td>PAL0708</td>\n",
       "      <td>2</td>\n",
       "      <td>Adelie Penguin (Pygoscelis adeliae)</td>\n",
       "      <td>Anvers</td>\n",
       "      <td>Torgersen</td>\n",
       "      <td>Adult, 1 Egg Stage</td>\n",
       "      <td>N1A2</td>\n",
       "      <td>Yes</td>\n",
       "      <td>11/11/07</td>\n",
       "      <td>39.5</td>\n",
       "      <td>17.4</td>\n",
       "      <td>186.0</td>\n",
       "      <td>3800.0</td>\n",
       "      <td>FEMALE</td>\n",
       "      <td>8.94956</td>\n",
       "      <td>-24.69454</td>\n",
       "      <td>NaN</td>\n",
       "    </tr>\n",
       "    <tr>\n",
       "      <th>2</th>\n",
       "      <td>PAL0708</td>\n",
       "      <td>3</td>\n",
       "      <td>Adelie Penguin (Pygoscelis adeliae)</td>\n",
       "      <td>Anvers</td>\n",
       "      <td>Torgersen</td>\n",
       "      <td>Adult, 1 Egg Stage</td>\n",
       "      <td>N2A1</td>\n",
       "      <td>Yes</td>\n",
       "      <td>11/16/07</td>\n",
       "      <td>40.3</td>\n",
       "      <td>18.0</td>\n",
       "      <td>195.0</td>\n",
       "      <td>3250.0</td>\n",
       "      <td>FEMALE</td>\n",
       "      <td>8.36821</td>\n",
       "      <td>-25.33302</td>\n",
       "      <td>NaN</td>\n",
       "    </tr>\n",
       "    <tr>\n",
       "      <th>3</th>\n",
       "      <td>PAL0708</td>\n",
       "      <td>4</td>\n",
       "      <td>Adelie Penguin (Pygoscelis adeliae)</td>\n",
       "      <td>Anvers</td>\n",
       "      <td>Torgersen</td>\n",
       "      <td>Adult, 1 Egg Stage</td>\n",
       "      <td>N2A2</td>\n",
       "      <td>Yes</td>\n",
       "      <td>11/16/07</td>\n",
       "      <td>NaN</td>\n",
       "      <td>NaN</td>\n",
       "      <td>NaN</td>\n",
       "      <td>NaN</td>\n",
       "      <td>NaN</td>\n",
       "      <td>NaN</td>\n",
       "      <td>NaN</td>\n",
       "      <td>Adult not sampled.</td>\n",
       "    </tr>\n",
       "    <tr>\n",
       "      <th>4</th>\n",
       "      <td>PAL0708</td>\n",
       "      <td>5</td>\n",
       "      <td>Adelie Penguin (Pygoscelis adeliae)</td>\n",
       "      <td>Anvers</td>\n",
       "      <td>Torgersen</td>\n",
       "      <td>Adult, 1 Egg Stage</td>\n",
       "      <td>N3A1</td>\n",
       "      <td>Yes</td>\n",
       "      <td>11/16/07</td>\n",
       "      <td>36.7</td>\n",
       "      <td>19.3</td>\n",
       "      <td>193.0</td>\n",
       "      <td>3450.0</td>\n",
       "      <td>FEMALE</td>\n",
       "      <td>8.76651</td>\n",
       "      <td>-25.32426</td>\n",
       "      <td>NaN</td>\n",
       "    </tr>\n",
       "    <tr>\n",
       "      <th>...</th>\n",
       "      <td>...</td>\n",
       "      <td>...</td>\n",
       "      <td>...</td>\n",
       "      <td>...</td>\n",
       "      <td>...</td>\n",
       "      <td>...</td>\n",
       "      <td>...</td>\n",
       "      <td>...</td>\n",
       "      <td>...</td>\n",
       "      <td>...</td>\n",
       "      <td>...</td>\n",
       "      <td>...</td>\n",
       "      <td>...</td>\n",
       "      <td>...</td>\n",
       "      <td>...</td>\n",
       "      <td>...</td>\n",
       "      <td>...</td>\n",
       "    </tr>\n",
       "    <tr>\n",
       "      <th>339</th>\n",
       "      <td>PAL0910</td>\n",
       "      <td>120</td>\n",
       "      <td>Gentoo penguin (Pygoscelis papua)</td>\n",
       "      <td>Anvers</td>\n",
       "      <td>Biscoe</td>\n",
       "      <td>Adult, 1 Egg Stage</td>\n",
       "      <td>N38A2</td>\n",
       "      <td>No</td>\n",
       "      <td>12/1/09</td>\n",
       "      <td>NaN</td>\n",
       "      <td>NaN</td>\n",
       "      <td>NaN</td>\n",
       "      <td>NaN</td>\n",
       "      <td>NaN</td>\n",
       "      <td>NaN</td>\n",
       "      <td>NaN</td>\n",
       "      <td>NaN</td>\n",
       "    </tr>\n",
       "    <tr>\n",
       "      <th>340</th>\n",
       "      <td>PAL0910</td>\n",
       "      <td>121</td>\n",
       "      <td>Gentoo penguin (Pygoscelis papua)</td>\n",
       "      <td>Anvers</td>\n",
       "      <td>Biscoe</td>\n",
       "      <td>Adult, 1 Egg Stage</td>\n",
       "      <td>N39A1</td>\n",
       "      <td>Yes</td>\n",
       "      <td>11/22/09</td>\n",
       "      <td>46.8</td>\n",
       "      <td>14.3</td>\n",
       "      <td>215.0</td>\n",
       "      <td>4850.0</td>\n",
       "      <td>FEMALE</td>\n",
       "      <td>8.41151</td>\n",
       "      <td>-26.13832</td>\n",
       "      <td>NaN</td>\n",
       "    </tr>\n",
       "    <tr>\n",
       "      <th>341</th>\n",
       "      <td>PAL0910</td>\n",
       "      <td>122</td>\n",
       "      <td>Gentoo penguin (Pygoscelis papua)</td>\n",
       "      <td>Anvers</td>\n",
       "      <td>Biscoe</td>\n",
       "      <td>Adult, 1 Egg Stage</td>\n",
       "      <td>N39A2</td>\n",
       "      <td>Yes</td>\n",
       "      <td>11/22/09</td>\n",
       "      <td>50.4</td>\n",
       "      <td>15.7</td>\n",
       "      <td>222.0</td>\n",
       "      <td>5750.0</td>\n",
       "      <td>MALE</td>\n",
       "      <td>8.30166</td>\n",
       "      <td>-26.04117</td>\n",
       "      <td>NaN</td>\n",
       "    </tr>\n",
       "    <tr>\n",
       "      <th>342</th>\n",
       "      <td>PAL0910</td>\n",
       "      <td>123</td>\n",
       "      <td>Gentoo penguin (Pygoscelis papua)</td>\n",
       "      <td>Anvers</td>\n",
       "      <td>Biscoe</td>\n",
       "      <td>Adult, 1 Egg Stage</td>\n",
       "      <td>N43A1</td>\n",
       "      <td>Yes</td>\n",
       "      <td>11/22/09</td>\n",
       "      <td>45.2</td>\n",
       "      <td>14.8</td>\n",
       "      <td>212.0</td>\n",
       "      <td>5200.0</td>\n",
       "      <td>FEMALE</td>\n",
       "      <td>8.24246</td>\n",
       "      <td>-26.11969</td>\n",
       "      <td>NaN</td>\n",
       "    </tr>\n",
       "    <tr>\n",
       "      <th>343</th>\n",
       "      <td>PAL0910</td>\n",
       "      <td>124</td>\n",
       "      <td>Gentoo penguin (Pygoscelis papua)</td>\n",
       "      <td>Anvers</td>\n",
       "      <td>Biscoe</td>\n",
       "      <td>Adult, 1 Egg Stage</td>\n",
       "      <td>N43A2</td>\n",
       "      <td>Yes</td>\n",
       "      <td>11/22/09</td>\n",
       "      <td>49.9</td>\n",
       "      <td>16.1</td>\n",
       "      <td>213.0</td>\n",
       "      <td>5400.0</td>\n",
       "      <td>MALE</td>\n",
       "      <td>8.36390</td>\n",
       "      <td>-26.15531</td>\n",
       "      <td>NaN</td>\n",
       "    </tr>\n",
       "  </tbody>\n",
       "</table>\n",
       "<p>344 rows × 17 columns</p>\n",
       "</div>"
      ],
      "text/plain": [
       "    studyName  Sample Number                              Species  Region  \\\n",
       "0     PAL0708              1  Adelie Penguin (Pygoscelis adeliae)  Anvers   \n",
       "1     PAL0708              2  Adelie Penguin (Pygoscelis adeliae)  Anvers   \n",
       "2     PAL0708              3  Adelie Penguin (Pygoscelis adeliae)  Anvers   \n",
       "3     PAL0708              4  Adelie Penguin (Pygoscelis adeliae)  Anvers   \n",
       "4     PAL0708              5  Adelie Penguin (Pygoscelis adeliae)  Anvers   \n",
       "..        ...            ...                                  ...     ...   \n",
       "339   PAL0910            120    Gentoo penguin (Pygoscelis papua)  Anvers   \n",
       "340   PAL0910            121    Gentoo penguin (Pygoscelis papua)  Anvers   \n",
       "341   PAL0910            122    Gentoo penguin (Pygoscelis papua)  Anvers   \n",
       "342   PAL0910            123    Gentoo penguin (Pygoscelis papua)  Anvers   \n",
       "343   PAL0910            124    Gentoo penguin (Pygoscelis papua)  Anvers   \n",
       "\n",
       "        Island               Stage Individual ID Clutch Completion  Date Egg  \\\n",
       "0    Torgersen  Adult, 1 Egg Stage          N1A1               Yes  11/11/07   \n",
       "1    Torgersen  Adult, 1 Egg Stage          N1A2               Yes  11/11/07   \n",
       "2    Torgersen  Adult, 1 Egg Stage          N2A1               Yes  11/16/07   \n",
       "3    Torgersen  Adult, 1 Egg Stage          N2A2               Yes  11/16/07   \n",
       "4    Torgersen  Adult, 1 Egg Stage          N3A1               Yes  11/16/07   \n",
       "..         ...                 ...           ...               ...       ...   \n",
       "339     Biscoe  Adult, 1 Egg Stage         N38A2                No   12/1/09   \n",
       "340     Biscoe  Adult, 1 Egg Stage         N39A1               Yes  11/22/09   \n",
       "341     Biscoe  Adult, 1 Egg Stage         N39A2               Yes  11/22/09   \n",
       "342     Biscoe  Adult, 1 Egg Stage         N43A1               Yes  11/22/09   \n",
       "343     Biscoe  Adult, 1 Egg Stage         N43A2               Yes  11/22/09   \n",
       "\n",
       "     Culmen Length (mm)  Culmen Depth (mm)  Flipper Length (mm)  \\\n",
       "0                  39.1               18.7                181.0   \n",
       "1                  39.5               17.4                186.0   \n",
       "2                  40.3               18.0                195.0   \n",
       "3                   NaN                NaN                  NaN   \n",
       "4                  36.7               19.3                193.0   \n",
       "..                  ...                ...                  ...   \n",
       "339                 NaN                NaN                  NaN   \n",
       "340                46.8               14.3                215.0   \n",
       "341                50.4               15.7                222.0   \n",
       "342                45.2               14.8                212.0   \n",
       "343                49.9               16.1                213.0   \n",
       "\n",
       "     Body Mass (g)     Sex  Delta 15 N (o/oo)  Delta 13 C (o/oo)  \\\n",
       "0           3750.0    MALE                NaN                NaN   \n",
       "1           3800.0  FEMALE            8.94956          -24.69454   \n",
       "2           3250.0  FEMALE            8.36821          -25.33302   \n",
       "3              NaN     NaN                NaN                NaN   \n",
       "4           3450.0  FEMALE            8.76651          -25.32426   \n",
       "..             ...     ...                ...                ...   \n",
       "339            NaN     NaN                NaN                NaN   \n",
       "340         4850.0  FEMALE            8.41151          -26.13832   \n",
       "341         5750.0    MALE            8.30166          -26.04117   \n",
       "342         5200.0  FEMALE            8.24246          -26.11969   \n",
       "343         5400.0    MALE            8.36390          -26.15531   \n",
       "\n",
       "                           Comments  \n",
       "0    Not enough blood for isotopes.  \n",
       "1                               NaN  \n",
       "2                               NaN  \n",
       "3                Adult not sampled.  \n",
       "4                               NaN  \n",
       "..                              ...  \n",
       "339                             NaN  \n",
       "340                             NaN  \n",
       "341                             NaN  \n",
       "342                             NaN  \n",
       "343                             NaN  \n",
       "\n",
       "[344 rows x 17 columns]"
      ]
     },
     "execution_count": 6,
     "metadata": {},
     "output_type": "execute_result"
    }
   ],
   "source": [
    "df = pd.read_csv (r\"C:\\Users\\Rayza\\AVCAD\\greends-avcad-2025\\examples\\penguins_lter.csv\", # the path to the file (\"r\" is used when the bars in the path are inverted)\n",
    "              sep=',', # the list separator in *.csv\n",
    "              header = 'infer', # automatically infers the header row.\n",
    "              index_col = None) # if no row indexing will be needed\n",
    "df"
   ]
  },
  {
   "cell_type": "code",
   "execution_count": 7,
   "metadata": {},
   "outputs": [
    {
     "data": {
      "text/plain": [
       "pandas.core.frame.DataFrame"
      ]
     },
     "execution_count": 7,
     "metadata": {},
     "output_type": "execute_result"
    }
   ],
   "source": [
    "type(df)"
   ]
  },
  {
   "cell_type": "code",
   "execution_count": 8,
   "metadata": {},
   "outputs": [
    {
     "data": {
      "text/plain": [
       "344"
      ]
     },
     "execution_count": 8,
     "metadata": {},
     "output_type": "execute_result"
    }
   ],
   "source": [
    "len(df) # number of rows of the DataFrame"
   ]
  },
  {
   "cell_type": "markdown",
   "metadata": {},
   "source": [
    "### Handling data with pandas\n",
    "\n",
    "#### Accessing data atributes `dataframe.atribute`\n"
   ]
  },
  {
   "cell_type": "code",
   "execution_count": 9,
   "metadata": {},
   "outputs": [
    {
     "data": {
      "text/plain": [
       "array([['PAL0708', 1, 'Adelie Penguin (Pygoscelis adeliae)', ..., nan,\n",
       "        nan, 'Not enough blood for isotopes.'],\n",
       "       ['PAL0708', 2, 'Adelie Penguin (Pygoscelis adeliae)', ...,\n",
       "        8.94956, -24.69454, nan],\n",
       "       ['PAL0708', 3, 'Adelie Penguin (Pygoscelis adeliae)', ...,\n",
       "        8.36821, -25.33302, nan],\n",
       "       ...,\n",
       "       ['PAL0910', 122, 'Gentoo penguin (Pygoscelis papua)', ...,\n",
       "        8.30166, -26.04117, nan],\n",
       "       ['PAL0910', 123, 'Gentoo penguin (Pygoscelis papua)', ...,\n",
       "        8.24246, -26.11969, nan],\n",
       "       ['PAL0910', 124, 'Gentoo penguin (Pygoscelis papua)', ..., 8.3639,\n",
       "        -26.15531, nan]], dtype=object)"
      ]
     },
     "execution_count": 9,
     "metadata": {},
     "output_type": "execute_result"
    }
   ],
   "source": [
    "df.values # returns a N dimensional matrix (array)"
   ]
  },
  {
   "cell_type": "code",
   "execution_count": 10,
   "metadata": {},
   "outputs": [
    {
     "data": {
      "text/plain": [
       "Index(['studyName', 'Sample Number', 'Species', 'Region', 'Island', 'Stage',\n",
       "       'Individual ID', 'Clutch Completion', 'Date Egg', 'Culmen Length (mm)',\n",
       "       'Culmen Depth (mm)', 'Flipper Length (mm)', 'Body Mass (g)', 'Sex',\n",
       "       'Delta 15 N (o/oo)', 'Delta 13 C (o/oo)', 'Comments'],\n",
       "      dtype='object')"
      ]
     },
     "execution_count": 10,
     "metadata": {},
     "output_type": "execute_result"
    }
   ],
   "source": [
    "df.columns # returns a list with the header (variables) names."
   ]
  },
  {
   "cell_type": "code",
   "execution_count": 11,
   "metadata": {},
   "outputs": [
    {
     "name": "stdout",
     "output_type": "stream",
     "text": [
      "  studyName  Sample Number                              Species  Region  \\\n",
      "0   PAL0708              1  Adelie Penguin (Pygoscelis adeliae)  Anvers   \n",
      "1   PAL0708              2  Adelie Penguin (Pygoscelis adeliae)  Anvers   \n",
      "2   PAL0708              3  Adelie Penguin (Pygoscelis adeliae)  Anvers   \n",
      "3   PAL0708              4  Adelie Penguin (Pygoscelis adeliae)  Anvers   \n",
      "4   PAL0708              5  Adelie Penguin (Pygoscelis adeliae)  Anvers   \n",
      "5   PAL0708              6  Adelie Penguin (Pygoscelis adeliae)  Anvers   \n",
      "6   PAL0708              7  Adelie Penguin (Pygoscelis adeliae)  Anvers   \n",
      "7   PAL0708              8  Adelie Penguin (Pygoscelis adeliae)  Anvers   \n",
      "8   PAL0708              9  Adelie Penguin (Pygoscelis adeliae)  Anvers   \n",
      "9   PAL0708             10  Adelie Penguin (Pygoscelis adeliae)  Anvers   \n",
      "\n",
      "      Island               Stage Individual ID Clutch Completion  Date Egg  \\\n",
      "0  Torgersen  Adult, 1 Egg Stage          N1A1               Yes  11/11/07   \n",
      "1  Torgersen  Adult, 1 Egg Stage          N1A2               Yes  11/11/07   \n",
      "2  Torgersen  Adult, 1 Egg Stage          N2A1               Yes  11/16/07   \n",
      "3  Torgersen  Adult, 1 Egg Stage          N2A2               Yes  11/16/07   \n",
      "4  Torgersen  Adult, 1 Egg Stage          N3A1               Yes  11/16/07   \n",
      "5  Torgersen  Adult, 1 Egg Stage          N3A2               Yes  11/16/07   \n",
      "6  Torgersen  Adult, 1 Egg Stage          N4A1                No  11/15/07   \n",
      "7  Torgersen  Adult, 1 Egg Stage          N4A2                No  11/15/07   \n",
      "8  Torgersen  Adult, 1 Egg Stage          N5A1               Yes   11/9/07   \n",
      "9  Torgersen  Adult, 1 Egg Stage          N5A2               Yes   11/9/07   \n",
      "\n",
      "   Culmen Length (mm)  Culmen Depth (mm)  Flipper Length (mm)  Body Mass (g)  \\\n",
      "0                39.1               18.7                181.0         3750.0   \n",
      "1                39.5               17.4                186.0         3800.0   \n",
      "2                40.3               18.0                195.0         3250.0   \n",
      "3                 NaN                NaN                  NaN            NaN   \n",
      "4                36.7               19.3                193.0         3450.0   \n",
      "5                39.3               20.6                190.0         3650.0   \n",
      "6                38.9               17.8                181.0         3625.0   \n",
      "7                39.2               19.6                195.0         4675.0   \n",
      "8                34.1               18.1                193.0         3475.0   \n",
      "9                42.0               20.2                190.0         4250.0   \n",
      "\n",
      "      Sex  Delta 15 N (o/oo)  Delta 13 C (o/oo)  \\\n",
      "0    MALE                NaN                NaN   \n",
      "1  FEMALE            8.94956          -24.69454   \n",
      "2  FEMALE            8.36821          -25.33302   \n",
      "3     NaN                NaN                NaN   \n",
      "4  FEMALE            8.76651          -25.32426   \n",
      "5    MALE            8.66496          -25.29805   \n",
      "6  FEMALE            9.18718          -25.21799   \n",
      "7    MALE            9.46060          -24.89958   \n",
      "8     NaN                NaN                NaN   \n",
      "9     NaN            9.13362          -25.09368   \n",
      "\n",
      "                                Comments  \n",
      "0         Not enough blood for isotopes.  \n",
      "1                                    NaN  \n",
      "2                                    NaN  \n",
      "3                     Adult not sampled.  \n",
      "4                                    NaN  \n",
      "5                                    NaN  \n",
      "6  Nest never observed with full clutch.  \n",
      "7  Nest never observed with full clutch.  \n",
      "8              No blood sample obtained.  \n",
      "9   No blood sample obtained for sexing.  \n"
     ]
    }
   ],
   "source": [
    "print(df. head(10)) # prints the first 10 rows."
   ]
  },
  {
   "cell_type": "markdown",
   "metadata": {},
   "source": [
    "#### Accessing and subsetting data\n",
    "\n",
    "##### Variable subsetting"
   ]
  },
  {
   "cell_type": "code",
   "execution_count": 12,
   "metadata": {},
   "outputs": [
    {
     "data": {
      "text/plain": [
       "0      Adelie Penguin (Pygoscelis adeliae)\n",
       "1      Adelie Penguin (Pygoscelis adeliae)\n",
       "2      Adelie Penguin (Pygoscelis adeliae)\n",
       "3      Adelie Penguin (Pygoscelis adeliae)\n",
       "4      Adelie Penguin (Pygoscelis adeliae)\n",
       "                      ...                 \n",
       "339      Gentoo penguin (Pygoscelis papua)\n",
       "340      Gentoo penguin (Pygoscelis papua)\n",
       "341      Gentoo penguin (Pygoscelis papua)\n",
       "342      Gentoo penguin (Pygoscelis papua)\n",
       "343      Gentoo penguin (Pygoscelis papua)\n",
       "Name: Species, Length: 344, dtype: object"
      ]
     },
     "execution_count": 12,
     "metadata": {},
     "output_type": "execute_result"
    }
   ],
   "source": [
    "# extract 'Species' column from df\n",
    "df['Species']"
   ]
  },
  {
   "cell_type": "code",
   "execution_count": 13,
   "metadata": {},
   "outputs": [
    {
     "data": {
      "text/plain": [
       "0      Adelie Penguin (Pygoscelis adeliae)\n",
       "1      Adelie Penguin (Pygoscelis adeliae)\n",
       "2      Adelie Penguin (Pygoscelis adeliae)\n",
       "3      Adelie Penguin (Pygoscelis adeliae)\n",
       "4      Adelie Penguin (Pygoscelis adeliae)\n",
       "                      ...                 \n",
       "339      Gentoo penguin (Pygoscelis papua)\n",
       "340      Gentoo penguin (Pygoscelis papua)\n",
       "341      Gentoo penguin (Pygoscelis papua)\n",
       "342      Gentoo penguin (Pygoscelis papua)\n",
       "343      Gentoo penguin (Pygoscelis papua)\n",
       "Name: Species, Length: 344, dtype: object"
      ]
     },
     "execution_count": 13,
     "metadata": {},
     "output_type": "execute_result"
    }
   ],
   "source": [
    "# or\n",
    "df.Species"
   ]
  },
  {
   "cell_type": "code",
   "execution_count": 14,
   "metadata": {},
   "outputs": [
    {
     "data": {
      "text/html": [
       "<div>\n",
       "<style scoped>\n",
       "    .dataframe tbody tr th:only-of-type {\n",
       "        vertical-align: middle;\n",
       "    }\n",
       "\n",
       "    .dataframe tbody tr th {\n",
       "        vertical-align: top;\n",
       "    }\n",
       "\n",
       "    .dataframe thead th {\n",
       "        text-align: right;\n",
       "    }\n",
       "</style>\n",
       "<table border=\"1\" class=\"dataframe\">\n",
       "  <thead>\n",
       "    <tr style=\"text-align: right;\">\n",
       "      <th></th>\n",
       "      <th>Species</th>\n",
       "      <th>Culmen Length (mm)</th>\n",
       "    </tr>\n",
       "  </thead>\n",
       "  <tbody>\n",
       "    <tr>\n",
       "      <th>0</th>\n",
       "      <td>Adelie Penguin (Pygoscelis adeliae)</td>\n",
       "      <td>39.1</td>\n",
       "    </tr>\n",
       "    <tr>\n",
       "      <th>1</th>\n",
       "      <td>Adelie Penguin (Pygoscelis adeliae)</td>\n",
       "      <td>39.5</td>\n",
       "    </tr>\n",
       "    <tr>\n",
       "      <th>2</th>\n",
       "      <td>Adelie Penguin (Pygoscelis adeliae)</td>\n",
       "      <td>40.3</td>\n",
       "    </tr>\n",
       "    <tr>\n",
       "      <th>3</th>\n",
       "      <td>Adelie Penguin (Pygoscelis adeliae)</td>\n",
       "      <td>NaN</td>\n",
       "    </tr>\n",
       "    <tr>\n",
       "      <th>4</th>\n",
       "      <td>Adelie Penguin (Pygoscelis adeliae)</td>\n",
       "      <td>36.7</td>\n",
       "    </tr>\n",
       "    <tr>\n",
       "      <th>...</th>\n",
       "      <td>...</td>\n",
       "      <td>...</td>\n",
       "    </tr>\n",
       "    <tr>\n",
       "      <th>339</th>\n",
       "      <td>Gentoo penguin (Pygoscelis papua)</td>\n",
       "      <td>NaN</td>\n",
       "    </tr>\n",
       "    <tr>\n",
       "      <th>340</th>\n",
       "      <td>Gentoo penguin (Pygoscelis papua)</td>\n",
       "      <td>46.8</td>\n",
       "    </tr>\n",
       "    <tr>\n",
       "      <th>341</th>\n",
       "      <td>Gentoo penguin (Pygoscelis papua)</td>\n",
       "      <td>50.4</td>\n",
       "    </tr>\n",
       "    <tr>\n",
       "      <th>342</th>\n",
       "      <td>Gentoo penguin (Pygoscelis papua)</td>\n",
       "      <td>45.2</td>\n",
       "    </tr>\n",
       "    <tr>\n",
       "      <th>343</th>\n",
       "      <td>Gentoo penguin (Pygoscelis papua)</td>\n",
       "      <td>49.9</td>\n",
       "    </tr>\n",
       "  </tbody>\n",
       "</table>\n",
       "<p>344 rows × 2 columns</p>\n",
       "</div>"
      ],
      "text/plain": [
       "                                 Species  Culmen Length (mm)\n",
       "0    Adelie Penguin (Pygoscelis adeliae)                39.1\n",
       "1    Adelie Penguin (Pygoscelis adeliae)                39.5\n",
       "2    Adelie Penguin (Pygoscelis adeliae)                40.3\n",
       "3    Adelie Penguin (Pygoscelis adeliae)                 NaN\n",
       "4    Adelie Penguin (Pygoscelis adeliae)                36.7\n",
       "..                                   ...                 ...\n",
       "339    Gentoo penguin (Pygoscelis papua)                 NaN\n",
       "340    Gentoo penguin (Pygoscelis papua)                46.8\n",
       "341    Gentoo penguin (Pygoscelis papua)                50.4\n",
       "342    Gentoo penguin (Pygoscelis papua)                45.2\n",
       "343    Gentoo penguin (Pygoscelis papua)                49.9\n",
       "\n",
       "[344 rows x 2 columns]"
      ]
     },
     "execution_count": 14,
     "metadata": {},
     "output_type": "execute_result"
    }
   ],
   "source": [
    "# Extract more than one column\n",
    "df[['Species', 'Culmen Length (mm)']]"
   ]
  },
  {
   "cell_type": "code",
   "execution_count": 15,
   "metadata": {},
   "outputs": [
    {
     "ename": "SyntaxError",
     "evalue": "invalid syntax (3798321861.py, line 1)",
     "output_type": "error",
     "traceback": [
      "\u001b[1;36m  Cell \u001b[1;32mIn[15], line 1\u001b[1;36m\u001b[0m\n\u001b[1;33m    df.Culmen Length (mm) # ERROR - no spaces are allowed in variable names to extrac this way.\u001b[0m\n\u001b[1;37m              ^\u001b[0m\n\u001b[1;31mSyntaxError\u001b[0m\u001b[1;31m:\u001b[0m invalid syntax\n"
     ]
    }
   ],
   "source": [
    "df.Culmen Length (mm) # ERROR - no spaces are allowed in variable names to extrac this way."
   ]
  },
  {
   "cell_type": "markdown",
   "metadata": {},
   "source": [
    "##### Row subsetting"
   ]
  },
  {
   "cell_type": "code",
   "execution_count": null,
   "metadata": {},
   "outputs": [],
   "source": [
    "df[df.Species == \"Gentoo penguin (Pygoscelis papua)\"] # extract rows containing \"Gentoo penguin (Pygoscelis papua)\" in 'Species'"
   ]
  },
  {
   "cell_type": "code",
   "execution_count": null,
   "metadata": {},
   "outputs": [],
   "source": [
    "df[df.Species != \"Adelie Penguin (Pygoscelis adeliae)\"] # extract rows not containing \"Adelie penguin (Pygoscelis adeliae)\" in 'Species'"
   ]
  },
  {
   "cell_type": "code",
   "execution_count": null,
   "metadata": {},
   "outputs": [],
   "source": [
    "df[df['Culmen Length (mm)'] > 40] # extract all rows with Culmen Length > 40 mm"
   ]
  },
  {
   "cell_type": "code",
   "execution_count": null,
   "metadata": {},
   "outputs": [],
   "source": [
    "df.sample(n=5) # random sample of 5 rows"
   ]
  },
  {
   "cell_type": "markdown",
   "metadata": {},
   "source": [
    "##### Row and column subsetting\n",
    "\n",
    "Data subsetting in pandas are often based on the `.loc` and `iloc` methods. \n",
    "\n",
    "* The `loc` method uses rows and column names: `.loc[row names , column names]`\n",
    "\n",
    "* The `iloc` method uses indices instead: `.iloc[row index> , column index]`"
   ]
  },
  {
   "cell_type": "code",
   "execution_count": null,
   "metadata": {},
   "outputs": [],
   "source": [
    "df.loc[199,'Species'] # returns 'Species' at row with index = 199 (row 200)"
   ]
  },
  {
   "cell_type": "code",
   "execution_count": null,
   "metadata": {},
   "outputs": [],
   "source": [
    "df.loc[0:4,'Species'] # returns 'Species' from rows 0 to 4 (including 4, as it assumes as a name)."
   ]
  },
  {
   "cell_type": "code",
   "execution_count": null,
   "metadata": {},
   "outputs": [],
   "source": [
    "df.loc[:,['Species','Culmen Length (mm)']] # returns 'Species' and 'Culmen Length (mm)' for all rows"
   ]
  },
  {
   "cell_type": "code",
   "execution_count": null,
   "metadata": {},
   "outputs": [],
   "source": [
    "df.iloc[0:4, [2,9]] # returns 'Species' and 'Culmen Length (mm)' for rows 0 to 3."
   ]
  },
  {
   "cell_type": "code",
   "execution_count": null,
   "metadata": {},
   "outputs": [],
   "source": [
    "df.iloc[2:4,:] # returns all columns of lines 2 and 3."
   ]
  },
  {
   "cell_type": "markdown",
   "metadata": {},
   "source": [
    "##### Summary functions"
   ]
  },
  {
   "cell_type": "code",
   "execution_count": null,
   "metadata": {},
   "outputs": [],
   "source": [
    "df['Culmen Length (mm)'].sum() # Sums all the rowws of the selected column"
   ]
  },
  {
   "cell_type": "code",
   "execution_count": null,
   "metadata": {},
   "outputs": [],
   "source": [
    "df.count() # counts rows with data"
   ]
  },
  {
   "cell_type": "code",
   "execution_count": null,
   "metadata": {},
   "outputs": [],
   "source": [
    "df.mean() # computes the mean value of only the quantitative variables (columns)"
   ]
  },
  {
   "cell_type": "code",
   "execution_count": null,
   "metadata": {},
   "outputs": [],
   "source": [
    "df['Culmen Length (mm)'].mean() # computes the mean of the selected row"
   ]
  },
  {
   "cell_type": "code",
   "execution_count": null,
   "metadata": {},
   "outputs": [],
   "source": [
    "df.describe() # computes several statistics of only the quantitative variables (columns)"
   ]
  },
  {
   "cell_type": "code",
   "execution_count": null,
   "metadata": {},
   "outputs": [],
   "source": [
    "# Same thing but now using 'round' function\n",
    "round(df.describe() ,2)"
   ]
  },
  {
   "cell_type": "markdown",
   "metadata": {},
   "source": [
    "##### Convert to other data formats"
   ]
  },
  {
   "cell_type": "code",
   "execution_count": null,
   "metadata": {},
   "outputs": [],
   "source": [
    "dflist = df.values.tolist() # converts DataFrame to a list of lists\n",
    "print(*dflist, sep=\"\\n\") # print 'each list' (defined by *) within the overall list (dflist) in different rows (defined by sep=\"\\n\")."
   ]
  },
  {
   "cell_type": "code",
   "execution_count": null,
   "metadata": {},
   "outputs": [],
   "source": [
    "\n",
    "species = df['Species'].values.tolist() # converts the variable \"Species\" into a list.\n",
    "print(species) "
   ]
  },
  {
   "cell_type": "code",
   "execution_count": null,
   "metadata": {},
   "outputs": [],
   "source": [
    "# or\n",
    "print(*species, sep=\"\\n\")"
   ]
  },
  {
   "cell_type": "markdown",
   "metadata": {},
   "source": [
    "##### Creating DataFrames"
   ]
  },
  {
   "cell_type": "code",
   "execution_count": null,
   "metadata": {},
   "outputs": [],
   "source": [
    "# Create lists\n",
    "list1 = ['Cropland', 'Forest', 'Grassland ', 'Urban']\n",
    "list2 = [60 , 20, 5, 10]"
   ]
  },
  {
   "cell_type": "code",
   "execution_count": null,
   "metadata": {},
   "outputs": [],
   "source": [
    "# Defining each list as columns\n",
    "data = list(zip(list1, list2)) # list of tuples\n",
    "newdf = pd. DataFrame(data=data , columns =['LULC', '2010'])\n",
    "print(newdf)"
   ]
  },
  {
   "cell_type": "code",
   "execution_count": null,
   "metadata": {},
   "outputs": [],
   "source": [
    "# Defining each list as rows\n",
    "newdf2 = pd.DataFrame([list1 ,list2], index =['LULC','2010'])\n",
    "print(newdf2)"
   ]
  },
  {
   "cell_type": "code",
   "execution_count": null,
   "metadata": {},
   "outputs": [],
   "source": [
    "# transpose DataFrames\n",
    "print(newdf2.T)"
   ]
  },
  {
   "cell_type": "code",
   "execution_count": null,
   "metadata": {},
   "outputs": [],
   "source": [
    "# set first row as the header names\n",
    "newdf2.columns = newdf2.iloc[0]\n",
    "newdf2 = newdf2[1:] # remove duplicated row (1)\n",
    "print(newdf2)\n",
    "\n",
    "# alternatively: \n",
    "# newdf2.rename(columns=newdf2.iloc[0]).drop(newdf2.index[0])\n",
    "# print(newdf2)\n"
   ]
  },
  {
   "cell_type": "markdown",
   "metadata": {},
   "source": [
    "##### Adding and combining"
   ]
  },
  {
   "cell_type": "code",
   "execution_count": null,
   "metadata": {},
   "outputs": [],
   "source": [
    "# Adding rows\n",
    "newdf2.loc[2] = [55, 15, 10, 15] # inserts new row in row 2\n",
    "newdf2.rename(index={2: '2020'}, inplace=True) # replace the index name by '2020'\n",
    "print(newdf2)"
   ]
  },
  {
   "cell_type": "code",
   "execution_count": null,
   "metadata": {},
   "outputs": [],
   "source": [
    "# Adding columns\n",
    "newdf['2020'] = [55, 15, 10, 15]\n",
    "print(newdf)"
   ]
  },
  {
   "cell_type": "code",
   "execution_count": null,
   "metadata": {},
   "outputs": [],
   "source": [
    "# merging DataFrames based on common fields\n",
    "\n",
    "list3 = ['Cropland', 'Forest', 'Grassland ', 'Water']\n",
    "list4 = [55 , 15, 10, 2]\n",
    "\n",
    "data2 = list(zip(list3, list4))\n",
    "newdf3 = pd.DataFrame(data=data2 , columns =['LULC', '2030']) # produce new DataFrame\n",
    "\n"
   ]
  },
  {
   "cell_type": "code",
   "execution_count": null,
   "metadata": {},
   "outputs": [],
   "source": [
    "# merging matches rows from newdf\n",
    "pd.merge(newdf, newdf3, how='left', on='LULC') "
   ]
  },
  {
   "cell_type": "code",
   "execution_count": null,
   "metadata": {},
   "outputs": [],
   "source": [
    "# merging matches rows from newdf3\n",
    "pd.merge(newdf, newdf3, how='right', on='LULC') "
   ]
  },
  {
   "cell_type": "code",
   "execution_count": null,
   "metadata": {},
   "outputs": [],
   "source": [
    "# merging matches common rows\n",
    "pd.merge(newdf, newdf3, how='inner', on='LULC') "
   ]
  },
  {
   "cell_type": "code",
   "execution_count": null,
   "metadata": {},
   "outputs": [],
   "source": [
    "# merging matches all rows\n",
    "pd.merge(newdf, newdf3, how='outer', on='LULC')"
   ]
  },
  {
   "cell_type": "markdown",
   "metadata": {},
   "source": [
    "## References\n",
    "\n",
    "pandas documentation, Version 2.2.3, 2024. https://pandas.pydata.org/docs/index.html\n",
    "\n",
    "pandas cheat sheet. https://pandas.pydata.org/Pandas_Cheat_Sheet.pdf"
   ]
  }
 ],
 "metadata": {
  "kernelspec": {
   "display_name": "Python 3",
   "language": "python",
   "name": "python3"
  },
  "language_info": {
   "codemirror_mode": {
    "name": "ipython",
    "version": 3
   },
   "file_extension": ".py",
   "mimetype": "text/x-python",
   "name": "python",
   "nbconvert_exporter": "python",
   "pygments_lexer": "ipython3",
   "version": "3.13.0"
  }
 },
 "nbformat": 4,
 "nbformat_minor": 2
}
