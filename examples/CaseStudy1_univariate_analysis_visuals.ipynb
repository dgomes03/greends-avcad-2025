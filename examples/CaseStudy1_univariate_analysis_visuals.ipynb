{
 "cells": [
  {
   "attachments": {},
   "cell_type": "markdown",
   "metadata": {},
   "source": [
    "# Analysis and Visualization of Complex Agro-Environmental Data\n",
    "---\n",
    "## Descriptive statistics\n",
    "\n",
    "As an example we will work on a subset of a database that resulted from integrating information from several river fish biomonitoring programmes accross Europe. This subset includes data for some Mediterranean countries. Each case (rows) corresponds to a fish sampling point. Variables (columns) includes coordinates, country and catchment identifiers, local scale environmental variables, climatic variables, human pressures and fish presence/absence data.\n",
    "\n",
    "When working with a new dataset, one of the most useful things to do is to begin to visualize the data. By using tables, histograms, box plots, and other visual tools, we can get a better idea of what the data may be trying to tell us, and we can gain insights into the data that we may have not discovered otherwise.\n",
    "\n",
    "We will be going over how to perform some basic visualisations in Python, and, most importantly, we will learn how to begin exploring data from a graphical perspective."
   ]
  },
  {
   "cell_type": "code",
   "execution_count": null,
   "metadata": {},
   "outputs": [],
   "source": [
    "import pandas as pd\n",
    "import zipfile\n",
    "import seaborn as sns # For plotting\n",
    "import matplotlib.pyplot as plt # For showing plots\n",
    "import numpy as np"
   ]
  },
  {
   "attachments": {},
   "cell_type": "markdown",
   "metadata": {},
   "source": [
    "#### Import, visualize and summarize table properties"
   ]
  },
  {
   "cell_type": "code",
   "execution_count": null,
   "metadata": {},
   "outputs": [],
   "source": [
    "df = pd.read_csv('EFIplus_medit.zip',compression='zip', sep=\";\")"
   ]
  },
  {
   "cell_type": "code",
   "execution_count": null,
   "metadata": {},
   "outputs": [],
   "source": [
    "print(df)"
   ]
  },
  {
   "cell_type": "code",
   "execution_count": null,
   "metadata": {},
   "outputs": [],
   "source": [
    "df.head(10)"
   ]
  },
  {
   "cell_type": "code",
   "execution_count": null,
   "metadata": {},
   "outputs": [],
   "source": [
    "df.info()"
   ]
  },
  {
   "cell_type": "code",
   "execution_count": null,
   "metadata": {},
   "outputs": [],
   "source": [
    "list(df.columns)"
   ]
  },
  {
   "attachments": {},
   "cell_type": "markdown",
   "metadata": {},
   "source": [
    "#### Clean and reajust the dataset"
   ]
  },
  {
   "cell_type": "code",
   "execution_count": null,
   "metadata": {},
   "outputs": [],
   "source": [
    "# clean up the dataset to remove unnecessary columns (eg. REG) \n",
    "df.drop(df.iloc[:,5:15], axis=1, inplace=True) # axis=1 - columns; inplace=True - the changes will be saved to the original data frame. \n",
    "\n",
    "# let's rename some columns so that they make sense\n",
    "df.rename(columns={'Sum of Run1_number_all':'Total_fish_individuals'}, inplace=True) # inplace=\"True\" means that df will be updated\n",
    "\n",
    "# for consistency, let's also make all column labels of type string\n",
    "df.columns = list(map(str, df.columns))"
   ]
  },
  {
   "cell_type": "code",
   "execution_count": null,
   "metadata": {},
   "outputs": [],
   "source": [
    "# Check data types\n",
    "pd.options.display.max_rows = 154 # maximum number of rows displayed.\n",
    "df.dtypes"
   ]
  },
  {
   "cell_type": "code",
   "execution_count": null,
   "metadata": {},
   "outputs": [],
   "source": [
    "# Number of values per variable\n",
    "df.count()"
   ]
  },
  {
   "attachments": {},
   "cell_type": "markdown",
   "metadata": {},
   "source": [
    "### Handling missing data"
   ]
  },
  {
   "cell_type": "code",
   "execution_count": null,
   "metadata": {},
   "outputs": [],
   "source": [
    "# Number of missing values (NaN) per variable\n",
    "df.isnull().sum()"
   ]
  },
  {
   "cell_type": "code",
   "execution_count": null,
   "metadata": {},
   "outputs": [],
   "source": [
    "#df2 = df.dropna(how='all') # drops rows when all elements are missing values\n",
    "#df2.info()\n",
    "\n",
    "#df2 = df.dropna(how='all', axis=1) # drops columns when at least one element is a missing value\n",
    "#df2.info()\n",
    "\n",
    "df2 = df.dropna() # drops rows when at least one element is a missing value\n",
    "df2.info()"
   ]
  },
  {
   "attachments": {},
   "cell_type": "markdown",
   "metadata": {},
   "source": [
    "### Numerical summaries"
   ]
  },
  {
   "cell_type": "code",
   "execution_count": null,
   "metadata": {},
   "outputs": [],
   "source": [
    "# mean and median (rounded to 2 decimal cases)\n",
    "mean = round(df['prec_ann_catch'].mean(), 2)\n",
    "median = round(df['prec_ann_catch'].median(), 2)\n",
    "print(mean, median)"
   ]
  },
  {
   "cell_type": "code",
   "execution_count": null,
   "metadata": {},
   "outputs": [],
   "source": [
    "# the catchment with more data\n",
    "print(df['Catchment_name'].mode()) "
   ]
  },
  {
   "cell_type": "code",
   "execution_count": null,
   "metadata": {},
   "outputs": [],
   "source": [
    "# A fast way of getting a summary statistics of quantitative data (int or float)\n",
    "round(df.describe() ,2) # before dropping NaNs (rounded to 2 decimal cases)"
   ]
  },
  {
   "cell_type": "code",
   "execution_count": null,
   "metadata": {},
   "outputs": [],
   "source": [
    "round(df2.describe() ,2) # after dropping NaNs (rounded to 2 decimal cases)"
   ]
  },
  {
   "cell_type": "code",
   "execution_count": null,
   "metadata": {},
   "outputs": [],
   "source": [
    "country_count = pd.crosstab(index = df['Country'], columns='count')\n",
    "print(country_count)"
   ]
  },
  {
   "cell_type": "code",
   "execution_count": null,
   "metadata": {},
   "outputs": [],
   "source": [
    "catchment_count = pd.crosstab(index = df['Catchment_name'], columns='count')\n",
    "print(catchment_count)"
   ]
  },
  {
   "attachments": {},
   "cell_type": "markdown",
   "metadata": {},
   "source": [
    "### Plotting qualitative data\n",
    "\n",
    "Check here: https://seaborn.pydata.org/generated/seaborn.catplot.html"
   ]
  },
  {
   "cell_type": "markdown",
   "metadata": {},
   "source": [
    "##### Barplots (categorical plots)\n",
    "\n",
    "Number of sites per country"
   ]
  },
  {
   "cell_type": "code",
   "execution_count": null,
   "metadata": {},
   "outputs": [],
   "source": [
    "country_count.plot(kind='bar') # using pandas plot method\n",
    "plt.show()"
   ]
  },
  {
   "cell_type": "code",
   "execution_count": null,
   "metadata": {},
   "outputs": [],
   "source": [
    "catchment_count.plot(kind='bar') # using pandas plot method\n",
    "plt.show()"
   ]
  },
  {
   "cell_type": "code",
   "execution_count": null,
   "metadata": {},
   "outputs": [],
   "source": [
    "# dataset with NaNs\n",
    "sns.catplot(x=\"Country\", data=df, kind=\"count\", color=\"skyblue\")\n",
    "plt.show()"
   ]
  },
  {
   "cell_type": "code",
   "execution_count": null,
   "metadata": {},
   "outputs": [],
   "source": [
    "# dataset without NaNs\n",
    "sns.catplot(x=\"Country\", data=df2, kind=\"count\", color=\"skyblue\")\n",
    "plt.show()"
   ]
  },
  {
   "cell_type": "code",
   "execution_count": null,
   "metadata": {},
   "outputs": [],
   "source": [
    "# dataset with NaNs\n",
    "sns.catplot(x=\"Catchment_name\", data=df, kind=\"count\", color=\"skyblue\")\n",
    "plt.xticks(rotation=90)\n",
    "plt.show()"
   ]
  },
  {
   "cell_type": "code",
   "execution_count": null,
   "metadata": {},
   "outputs": [],
   "source": [
    "# dataset without NaNs\n",
    "sns.catplot(x=\"Catchment_name\", data=df2, kind=\"count\", color=\"skyblue\")\n",
    "plt.xticks(rotation=90)\n",
    "plt.show()"
   ]
  },
  {
   "cell_type": "markdown",
   "metadata": {},
   "source": [
    "##### Pie charts"
   ]
  },
  {
   "cell_type": "code",
   "execution_count": null,
   "metadata": {},
   "outputs": [],
   "source": [
    "# pie chart\n",
    "colors = sns.color_palette('pastel')\n",
    "labels = list(country_count.index) # list of country names\n",
    "plt.pie(list(country_count.iloc[:,0]), labels=labels, colors = colors, autopct = '%0.0f%%')\n",
    "plt.show()"
   ]
  },
  {
   "cell_type": "markdown",
   "metadata": {},
   "source": [
    "##### Treemaps\n",
    "\n",
    "To plot treemaps you'll need to install `squarify`: run `pip install squarify` in the terminal."
   ]
  },
  {
   "cell_type": "code",
   "execution_count": null,
   "metadata": {},
   "outputs": [],
   "source": [
    "import squarify as sqrf\n",
    "\n",
    "labels = list(country_count.index) # list of country names\n",
    "\n",
    "sqrf.plot(sizes=list(country_count.iloc[:,0]), # select all rows from the 1st column of data\n",
    "          label=labels, # names of countries\n",
    "          color=sns.color_palette('viridis',n_colors=len(labels)), # color palette\n",
    "          text_kwargs={'fontsize': 11, 'color':\"white\"}, # label format\n",
    "          pad=0.25) # define space between areas\n",
    "plt.show()\n"
   ]
  },
  {
   "attachments": {},
   "cell_type": "markdown",
   "metadata": {},
   "source": [
    "### Plotting quantitative data\n",
    "\n",
    "#### Strip plots\n",
    "check here: https://seaborn.pydata.org/generated/seaborn.stripplot.html"
   ]
  },
  {
   "cell_type": "code",
   "execution_count": null,
   "metadata": {},
   "outputs": [],
   "source": [
    "# plot the mean annual total precipitation in the upstream catchment of each site\n",
    "sns.stripplot(df2['prec_ann_catch'])\n",
    "plt.show()\n"
   ]
  },
  {
   "attachments": {},
   "cell_type": "markdown",
   "metadata": {},
   "source": [
    "#### Histograms\n",
    "check here: https://seaborn.pydata.org/generated/seaborn.histplot.html"
   ]
  },
  {
   "cell_type": "code",
   "execution_count": null,
   "metadata": {},
   "outputs": [],
   "source": [
    "# histogram of the mean annual total precipitation in the upstream catchment of each site\n",
    "sns.histplot(df2['prec_ann_catch'], kde = False).set_title(\"Histogram of precipitation in the upstream catchment\")\n",
    "plt.show()"
   ]
  },
  {
   "cell_type": "code",
   "execution_count": null,
   "metadata": {},
   "outputs": [],
   "source": [
    "# More variations\n",
    "sns.histplot(\n",
    "    df[\"prec_ann_catch\"], \n",
    "    kde=True,\n",
    "    stat=\"density\", # plot proportions instead of frequencies\n",
    "    kde_kws=dict(cut=3),\n",
    "    alpha=.4, # transparency\n",
    "    edgecolor=(1, 1, 1, 0.4), # bar contour lines (r, g, b, alpha)\n",
    ").set_title(\"Histogram of precipitation in the upstream catchment\")\n",
    "plt.show()"
   ]
  },
  {
   "cell_type": "markdown",
   "metadata": {},
   "source": [
    "### Bar plots\n",
    "\n",
    "Check here: https://seaborn.pydata.org/generated/seaborn.barplot.html"
   ]
  },
  {
   "cell_type": "code",
   "execution_count": null,
   "metadata": {},
   "outputs": [],
   "source": [
    "# bar plot of Total Annual Precipitation by country\n",
    "sns.barplot(x=\"Country\", y=\"prec_ann_catch\", data=df)\n",
    "plt.show()"
   ]
  },
  {
   "cell_type": "code",
   "execution_count": null,
   "metadata": {},
   "outputs": [],
   "source": [
    "# bar plot of Total Annual Precipitation by catchment\n",
    "sns.barplot(data=df, x=\"Catchment_name\", y=\"prec_ann_catch\")\n",
    "plt.xticks(rotation=90)\n",
    "plt.show()"
   ]
  },
  {
   "cell_type": "markdown",
   "metadata": {},
   "source": [
    "### Boxplots\n",
    "\n",
    "Check here: https://seaborn.pydata.org/generated/seaborn.boxplot.html"
   ]
  },
  {
   "cell_type": "code",
   "execution_count": null,
   "metadata": {},
   "outputs": [],
   "source": [
    "# Box plot of Total Annual Precipitation\n",
    "sns.boxplot(df[\"prec_ann_catch\"]).set_title(\"Box plot of Total Annual Precipitation\")\n",
    "plt.show()"
   ]
  },
  {
   "cell_type": "code",
   "execution_count": null,
   "metadata": {},
   "outputs": [],
   "source": [
    "# no whiskers (data points outside the box instead)\n",
    "sns.boxplot(df[\"prec_ann_catch\"], whis=0).set_title(\"Box plot of Total Annual Precipitation\")\n",
    "plt.show()"
   ]
  },
  {
   "cell_type": "code",
   "execution_count": null,
   "metadata": {},
   "outputs": [],
   "source": [
    "# Box plot of Total Annual Precipitation by country\n",
    "sns.boxplot(x=\"Country\", y=\"prec_ann_catch\", data=df).set_title(\"Box plot of Total Annual Precipitation\")\n",
    "plt.show()"
   ]
  },
  {
   "cell_type": "code",
   "execution_count": null,
   "metadata": {},
   "outputs": [],
   "source": [
    "# same thin but only for Portugal\n",
    "\n",
    "df_port = df[df['Country']=='Portugal']\n",
    "\n",
    "sns.histplot(\n",
    "    df_port[\"prec_ann_catch\"], \n",
    "    kde=True,\n",
    "    stat=\"density\",\n",
    "    kde_kws=dict(cut=3),\n",
    "    alpha=.4,\n",
    "    edgecolor=(1, 1, 1, 0.4),\n",
    ").set_title(\"Histogram of precipitation in the upstream catchment\")\n",
    "plt.show()\n"
   ]
  },
  {
   "attachments": {},
   "cell_type": "markdown",
   "metadata": {},
   "source": [
    "### Violin plots\n",
    "\n",
    "Check here: https://seaborn.pydata.org/generated/seaborn.violinplot.html"
   ]
  },
  {
   "cell_type": "code",
   "execution_count": null,
   "metadata": {},
   "outputs": [],
   "source": [
    "# violin plot of Total Annual Precipitation by country\n",
    "sns.violinplot(data=df, y=\"prec_ann_catch\").set_title(\"Violin plot of Total Annual Precipitation\")\n",
    "plt.show()"
   ]
  },
  {
   "cell_type": "markdown",
   "metadata": {},
   "source": [
    "### Raincloud plots\n",
    "\n",
    "Raincloud plots combine violin plots, boxplots and strip plots into a single chart. To plot raincloud plots it is helpful to use the `ptitprince` library."
   ]
  },
  {
   "cell_type": "code",
   "execution_count": null,
   "metadata": {},
   "outputs": [],
   "source": [
    "import ptitprince as pt"
   ]
  },
  {
   "cell_type": "code",
   "execution_count": null,
   "metadata": {},
   "outputs": [],
   "source": [
    "help(pt.RainCloud)"
   ]
  },
  {
   "cell_type": "code",
   "execution_count": null,
   "metadata": {},
   "outputs": [],
   "source": [
    "# Raincloud plot of Total Annual Precipitation\n",
    "\n",
    "pt.RainCloud(y=\"prec_ann_catch\", data=df, \n",
    "             bw=0.2, # defines how smooth is the distribution curve of the violin plot (cloud)\n",
    "             width_viol=0.4, # width of the half violin (cloud)\n",
    "             width_box=0.05, # wdth of the box\n",
    "             orient='h', # orientation\n",
    "             move=0.15, #position of the strip plot\n",
    "             offset=0,# relative position of the half violin (cloud) in relation to the boxplot\n",
    "             jitter=0.09) # allows to define the width of the strip plot (rain)\n",
    "\n",
    "plt.title(\"Raincloud plot of Total Annual Precipitation\")\n",
    "plt.show()"
   ]
  },
  {
   "cell_type": "code",
   "execution_count": null,
   "metadata": {},
   "outputs": [],
   "source": [
    "# Raincloud plot of Total Annual Precipitation by country\n",
    "\n",
    "pt.RainCloud(x='Country', y=\"prec_ann_catch\", data=df, \n",
    "             bw=0.2, # defines how smooth is the distribution curve of the violin plot (cloud)\n",
    "             width_viol=1.2, # width of the half violin (cloud)\n",
    "             width_box=0.15, # wdth of the box\n",
    "             orient='h', # orientation\n",
    "             move=0.15, #position of the strip plot\n",
    "             offset=0,# relative position of the half violin (cloud) in relation to the boxplot\n",
    "             jitter=0.09) # allows to define the width of the strip plot (rain)\n",
    "\n",
    "plt.title(\"Raincloud plot of Total Annual Precipitation\")\n",
    "plt.show()"
   ]
  },
  {
   "cell_type": "code",
   "execution_count": null,
   "metadata": {},
   "outputs": [],
   "source": [
    "# Vertical raincloud plot of Total Annual Precipitation by country\n",
    "\n",
    "pt.RainCloud(x='Country', y=\"prec_ann_catch\", data=df, \n",
    "             bw=0.2, # defines how smooth is the distribution curve of the violin plot (cloud)\n",
    "             width_viol=1.2, # width of the half violin (cloud)\n",
    "             width_box=0.08, # wdth of the box\n",
    "             move=0.15, #position of the strip plot\n",
    "             offset=0,# relative position of the half violin (cloud) in relation to the boxplot\n",
    "             jitter=0.08) # allows to define the width of the strip plot (rain)\n",
    "\n",
    "plt.title(\"Raincloud plot of Total Annual Precipitation\")\n",
    "plt.show()"
   ]
  }
 ],
 "metadata": {
  "kernelspec": {
   "display_name": "Python 3",
   "language": "python",
   "name": "python3"
  },
  "language_info": {
   "codemirror_mode": {
    "name": "ipython",
    "version": 3
   },
   "file_extension": ".py",
   "mimetype": "text/x-python",
   "name": "python",
   "nbconvert_exporter": "python",
   "pygments_lexer": "ipython3",
   "version": "3.11.2"
  },
  "orig_nbformat": 4,
  "vscode": {
   "interpreter": {
    "hash": "c1feabf7e8a865ca736166e32c78c4ec872a0ffdcd99b8b8313fe458b2adfcbf"
   }
  }
 },
 "nbformat": 4,
 "nbformat_minor": 2
}
