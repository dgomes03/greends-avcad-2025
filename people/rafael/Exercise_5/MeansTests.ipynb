{
 "cells": [
  {
   "cell_type": "markdown",
   "metadata": {},
   "source": [
    "## Exercise 5"
   ]
  },
  {
   "cell_type": "markdown",
   "metadata": {},
   "source": [
    "1. Standardize, using z-score, the “Mean Annual Temperature” (Temp_ann), calculate the new mean, SD\n",
    "and 95% confidence interval, and plot the histogram."
   ]
  },
  {
   "cell_type": "code",
   "execution_count": 89,
   "metadata": {},
   "outputs": [],
   "source": [
    "import pandas as pd\n",
    "import numpy as np\n",
    "import matplotlib.pyplot as plt\n",
    "import scipy.stats as stats\n",
    "from statsmodels.stats.multicomp import pairwise_tukeyhsd"
   ]
  },
  {
   "cell_type": "code",
   "execution_count": 90,
   "metadata": {},
   "outputs": [
    {
     "name": "stdout",
     "output_type": "stream",
     "text": [
      "0       17.6\n",
      "1        9.3\n",
      "2       10.1\n",
      "3       10.1\n",
      "4       10.3\n",
      "        ... \n",
      "5006    14.9\n",
      "5007    15.0\n",
      "5008    15.0\n",
      "5009    12.9\n",
      "5010    14.8\n",
      "Name: temp_ann, Length: 5011, dtype: float64\n"
     ]
    }
   ],
   "source": [
    "file_path = 'EFIplus_medit.zip'  # Path to the zip file\n",
    "df = pd.read_csv('EFIplus_medit.zip',compression='zip', sep=\";\")\n",
    "df_temp = df['temp_ann'] \n",
    "\n",
    "print(df_temp)"
   ]
  },
  {
   "cell_type": "code",
   "execution_count": 91,
   "metadata": {},
   "outputs": [
    {
     "name": "stdout",
     "output_type": "stream",
     "text": [
      "Original Values\n",
      "Mean: 13.262\n",
      "Standard Deviation: 2.1723\n",
      "\n",
      "After standarization (z-score)\n",
      "Mean: -0.0\n",
      "Standard Deviation: 1.0\n"
     ]
    }
   ],
   "source": [
    "mean = df_temp.mean()\n",
    "std = df_temp.std()\n",
    "df_temp_zscore = (df_temp - mean) / std\n",
    "\n",
    "mean_z = df_temp_zscore.mean()\n",
    "std_z = df_temp_zscore.std()\n",
    "\n",
    "print(\"Original Values\")\n",
    "print(f\"Mean: {round(mean,4)}\")\n",
    "print(f\"Standard Deviation: {round(std,4)}\")\n",
    "\n",
    "print(\"\\nAfter standarization (z-score)\")\n",
    "print(f\"Mean: {round(mean_z,4)}\")\n",
    "print(f\"Standard Deviation: {round(std_z,4)}\")"
   ]
  },
  {
   "cell_type": "code",
   "execution_count": 92,
   "metadata": {},
   "outputs": [
    {
     "name": "stdout",
     "output_type": "stream",
     "text": [
      "95% Confidence Interval:\n",
      "(-0.0277, 0.0277)\n"
     ]
    }
   ],
   "source": [
    "# Calculate the sample size\n",
    "n = len(df_temp_zscore)  # Sample size\n",
    "\n",
    "# The critical Z value for 95% confidence (approximately 1.96)\n",
    "z_critical = 1.96\n",
    "\n",
    "# Standard error\n",
    "standard_error = std_z / np.sqrt(n)\n",
    "\n",
    "# Confidence interval\n",
    "confidence_interval = (round(float(mean_z - z_critical * standard_error),4),round(float(mean_z + z_critical * standard_error),4))\n",
    "\n",
    "print(\"95% Confidence Interval:\")\n",
    "print(confidence_interval)"
   ]
  },
  {
   "cell_type": "code",
   "execution_count": 93,
   "metadata": {},
   "outputs": [
    {
     "data": {
      "image/png": "[encoded data removed]",
      "text/plain": [
       "<Figure size 640x480 with 1 Axes>"
      ]
     },
     "metadata": {},
     "output_type": "display_data"
    }
   ],
   "source": [
    "plt.hist(df_temp_zscore, bins=np.arange(-4, 4.25, 0.25), edgecolor='black')\n",
    "plt.xlabel(\"Z-value\")\n",
    "plt.ylabel(\"Frequency\")\n",
    "plt.xlim(-4, 4)\n",
    "plt.ylim(0, 800)\n",
    "plt.gca().spines['top'].set_visible(False)\n",
    "plt.gca().spines['right'].set_visible(False)\n",
    "plt.grid(False)\n",
    "plt.show()"
   ]
  },
  {
   "cell_type": "markdown",
   "metadata": {},
   "source": [
    "After standardisation, the distribution of the annual mean temperature is similar to a reduced normal distribution, the mean is 0 and the standard deviation is 1."
   ]
  },
  {
   "cell_type": "markdown",
   "metadata": {},
   "source": [
    "2. Test whether the means (or medians) of “Mean Annual Temperature” between presence and absence\n",
    "sites of Salmo trutta fario (Brown Trout) are equal using an appropriate test. Use both standardized and\n",
    "non-standardized values and compare results. Please state which is/are the null hypothesis of your\n",
    "test(s)."
   ]
  },
  {
   "cell_type": "code",
   "execution_count": 94,
   "metadata": {},
   "outputs": [
    {
     "name": "stdout",
     "output_type": "stream",
     "text": [
      "      temp_ann  Salmo trutta fario\n",
      "0         17.6                   0\n",
      "1          9.3                   1\n",
      "2         10.1                   1\n",
      "3         10.1                   1\n",
      "4         10.3                   1\n",
      "...        ...                 ...\n",
      "5006      14.9                   1\n",
      "5007      15.0                   1\n",
      "5008      15.0                   1\n",
      "5009      12.9                   1\n",
      "5010      14.8                   1\n",
      "\n",
      "[5011 rows x 2 columns]\n"
     ]
    }
   ],
   "source": [
    "df = pd.read_csv('EFIplus_medit.zip',compression='zip', sep=\";\")\n",
    "df_temp_salmo = df[['temp_ann','Salmo trutta fario']]\n",
    "df_temp_salmo_clean = df_temp_salmo.dropna(subset=['temp_ann', 'Salmo trutta fario'])\n",
    "\n",
    "print(df_temp_salmo)"
   ]
  },
  {
   "cell_type": "code",
   "execution_count": 95,
   "metadata": {},
   "outputs": [],
   "source": [
    "presence = df_temp_salmo_clean[df_temp_salmo_clean['Salmo trutta fario'] == 1]['temp_ann']\n",
    "absence = df_temp_salmo_clean[df_temp_salmo_clean['Salmo trutta fario'] == 0]['temp_ann']\n",
    "\n",
    "presence_zscore = stats.zscore(presence)\n",
    "absence_zscore = stats.zscore(absence)"
   ]
  },
  {
   "cell_type": "code",
   "execution_count": 96,
   "metadata": {},
   "outputs": [
    {
     "name": "stdout",
     "output_type": "stream",
     "text": [
      "Mean p: 12.336994219653178\n",
      "Mean a: 14.693684210526316\n",
      "\n",
      "Two-sample t test:\n",
      "H0: μₚ = μₐ\n",
      "H1: μₚ ≠ μₐ\n",
      "\n",
      "p-value = 0.0\n",
      "\n",
      "We reject the null hypothesis (H0) at 5% significance. There is a significant difference between the means.\n"
     ]
    }
   ],
   "source": [
    "mean_p = presence.mean()\n",
    "mean_a = absence.mean()\n",
    "\n",
    "print(f\"Mean p: {mean_p}\")\n",
    "print(f\"Mean a: {mean_a}\")\n",
    "\n",
    "print(\"\\nTwo-sample t test:\")\n",
    "print(\"H0: μₚ = μₐ\")\n",
    "print(\"H1: μₚ ≠ μₐ\")\n",
    "\n",
    "t_stat, p_value = stats.ttest_ind(presence, absence)\n",
    "print(f\"\\np-value = {p_value}\\n\")\n",
    "\n",
    "if p_value < 0.05:\n",
    "    print(r\"We reject the null hypothesis (H0) at 5% significance. There is a significant difference between the means.\")\n",
    "else:\n",
    "    print(r\"We do not reject the null hypothesis (H0). There is not enough evidence to conclude a difference between the means.\")\n"
   ]
  },
  {
   "cell_type": "code",
   "execution_count": 97,
   "metadata": {},
   "outputs": [
    {
     "name": "stdout",
     "output_type": "stream",
     "text": [
      "With standardized distribution:\n",
      "\n",
      "Mean p: 6.088295457720001e-16\n",
      "Mean a: 8.975276662232844e-17\n",
      "\n",
      "Two-sample t test:\n",
      "H0: μₚ = μₐ\n",
      "H1: μₚ ≠ μₐ\n",
      "\n",
      "p-value = 0.999999999999986\n",
      "\n",
      "We do not reject the null hypothesis (H0). There is not enough evidence to conclude a difference between the means.\n"
     ]
    }
   ],
   "source": [
    "print(\"With standardized distribution:\\n\")\n",
    "\n",
    "mean_p_z = presence_zscore.mean()\n",
    "mean_a_z = absence_zscore.mean()\n",
    "\n",
    "print(f\"Mean p: {mean_p_z}\")\n",
    "print(f\"Mean a: {mean_a_z}\")\n",
    "\n",
    "print(\"\\nTwo-sample t test:\")\n",
    "print(\"H0: μₚ = μₐ\")\n",
    "print(\"H1: μₚ ≠ μₐ\")\n",
    "\n",
    "t_stat, p_value = stats.ttest_ind(presence_zscore, absence_zscore)\n",
    "print(f\"\\np-value = {p_value}\\n\")\n",
    "\n",
    "if p_value < 0.05:\n",
    "    print(r\"We reject the null hypothesis (H0) at 5% significance. There is a significant difference between the means.\")\n",
    "else:\n",
    "    print(r\"We do not reject the null hypothesis (H0). There is not enough evidence to conclude a difference between the means.\")\n"
   ]
  },
  {
   "cell_type": "markdown",
   "metadata": {},
   "source": [
    "The non-standardised t-test shows a significant difference between the means, but after standardising the data, the t-test does not show a significant difference, because standardisation reduces the differences between the distributions, placing them both with mean 0 and standard deviation 1."
   ]
  },
  {
   "cell_type": "markdown",
   "metadata": {},
   "source": [
    "3. Test whether there are diferences in the mean elevation in the upstream catchment\n",
    "(Elevation_mean_catch) among the eight most sampled catchments. For which pairs of catchments are\n",
    "these diferences significant? Please state which is/are the null hypothesis of your test(s)."
   ]
  },
  {
   "cell_type": "code",
   "execution_count": 98,
   "metadata": {},
   "outputs": [
    {
     "name": "stdout",
     "output_type": "stream",
     "text": [
      "      Elevation_mean_catch Catchment_name\n",
      "1              1603.519424           Tejo\n",
      "2              1578.678579           Tejo\n",
      "3              1553.219128           Tejo\n",
      "4              1539.684999           Tejo\n",
      "5              1493.914010           Tejo\n",
      "...                    ...            ...\n",
      "4947            704.675069           Tejo\n",
      "4948            702.673201           Tejo\n",
      "4949            697.730192           Tejo\n",
      "4950            679.784324           Tejo\n",
      "4951            678.426582           Tejo\n",
      "\n",
      "[3976 rows x 2 columns]\n"
     ]
    }
   ],
   "source": [
    "catchment_counts = df['Catchment_name'].value_counts()\n",
    "top_8_catchments = catchment_counts.head(8).index\n",
    "filtered_df = df[df['Catchment_name'].isin(top_8_catchments)]\n",
    "filtered_df = filtered_df[['Elevation_mean_catch', 'Catchment_name']]\n",
    "elev = filtered_df.dropna()\n",
    "\n",
    "print(elev)\n"
   ]
  },
  {
   "cell_type": "markdown",
   "metadata": {},
   "source": [
    "The null hypothesis (H0) states that there is no significant difference in mean elevation in the upstream catchment between the two catchment sites and the alternative hypothesis (H1) states that there is."
   ]
  },
  {
   "cell_type": "code",
   "execution_count": 100,
   "metadata": {},
   "outputs": [
    {
     "name": "stdout",
     "output_type": "stream",
     "text": [
      "         Multiple Comparison of Means - Tukey HSD, FWER=0.05         \n",
      "=====================================================================\n",
      "   group1       group2     meandiff p-adj    lower     upper   reject\n",
      "---------------------------------------------------------------------\n",
      "  Cantabrica       Catala   50.1883 0.7208  -42.1585  142.5351  False\n",
      "  Cantabrica        Douro  268.1584    0.0  190.9443  345.3726   True\n",
      "  Cantabrica         Ebro  467.4299    0.0   399.797  535.0628   True\n",
      "  Cantabrica Galiza-Norte -184.2794    0.0   -252.02 -116.5388   True\n",
      "  Cantabrica       Guadia -168.8947    0.0 -251.7428  -86.0466   True\n",
      "  Cantabrica        Minho  290.9895    0.0  223.2126  358.7663   True\n",
      "  Cantabrica         Tejo  168.3227    0.0    95.179  241.4664   True\n",
      "      Catala        Douro  217.9701    0.0  124.2303  311.7099   True\n",
      "      Catala         Ebro  417.2415    0.0  331.2221  503.2609   True\n",
      "      Catala Galiza-Norte -234.4677    0.0 -320.5718 -148.3636   True\n",
      "      Catala       Guadia -219.0831    0.0 -317.5154 -120.6507   True\n",
      "      Catala        Minho  240.8011    0.0  154.6685  326.9338   True\n",
      "      Catala         Tejo  118.1344 0.0019    27.718  208.5507   True\n",
      "       Douro         Ebro  199.2714    0.0  129.7486  268.7943   True\n",
      "       Douro Galiza-Norte -452.4378    0.0 -522.0655 -382.8102   True\n",
      "       Douro       Guadia -437.0532    0.0 -521.4512 -352.6552   True\n",
      "       Douro        Minho    22.831 0.9754  -46.8319    92.494  False\n",
      "       Douro         Tejo  -99.8357 0.0014 -174.7304   -24.941   True\n",
      "        Ebro Galiza-Norte -651.7093    0.0 -710.5327 -592.8859   True\n",
      "        Ebro       Guadia -636.3246    0.0 -712.0557 -560.5934   True\n",
      "        Ebro        Minho -176.4404    0.0 -235.3056 -117.5752   True\n",
      "        Ebro         Tejo -299.1072    0.0 -364.0795 -234.1349   True\n",
      "Galiza-Norte       Guadia   15.3847 0.9987  -60.4427    91.212  False\n",
      "Galiza-Norte        Minho  475.2688    0.0    416.28  534.2577   True\n",
      "Galiza-Norte         Tejo  352.6021    0.0  287.5177  417.6865   True\n",
      "      Guadia        Minho  459.8842    0.0  384.0244  535.7439   True\n",
      "      Guadia         Tejo  337.2174    0.0  256.5267  417.9081   True\n",
      "       Minho         Tejo -122.6668    0.0 -187.7889  -57.5446   True\n",
      "---------------------------------------------------------------------\n"
     ]
    }
   ],
   "source": [
    "tukey_result = pairwise_tukeyhsd(endog=elev['Elevation_mean_catch'], \n",
    "                                 groups=elev['Catchment_name'], \n",
    "                                 alpha=0.05)\n",
    "\n",
    "print(tukey_result.summary())\n"
   ]
  },
  {
   "cell_type": "markdown",
   "metadata": {},
   "source": [
    "While most catchment sites have distinct mean elevations the pairs: Cantabrica and Catala, Douro and Minho, and Galiza-Norte and Guadia do not differ significantly."
   ]
  },
  {
   "cell_type": "markdown",
   "metadata": {},
   "source": [
    "4. Which potential problems did you identified in the data that could limit the conclusions derived from the performed tests?"
   ]
  },
  {
   "cell_type": "markdown",
   "metadata": {},
   "source": [
    "The non-normal distribution of the data can limit the conclusions of the tests carried out. In addition, the same effect can be present if the observations are not independent and identically distributed or if there are outliers in these observations."
   ]
  }
 ],
 "metadata": {
  "kernelspec": {
   "display_name": "Python 3",
   "language": "python",
   "name": "python3"
  },
  "language_info": {
   "codemirror_mode": {
    "name": "ipython",
    "version": 3
   },
   "file_extension": ".py",
   "mimetype": "text/x-python",
   "name": "python",
   "nbconvert_exporter": "python",
   "pygments_lexer": "ipython3",
   "version": "3.13.2"
  }
 },
 "nbformat": 4,
 "nbformat_minor": 2
}
