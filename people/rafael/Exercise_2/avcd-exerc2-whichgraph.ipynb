{
 "cells": [
  {
   "cell_type": "markdown",
   "metadata": {},
   "source": [
    "# Analysis and Visualization of Complex Agro-Environmental Data\n",
    "---\n",
    "## Exercise 02 - Best charts to represent different data or dataset types.\n",
    "\n",
    "Each type of data or datasets is best visualized by certain kinds of charts, depending on both the targeted audience as well as the personal preferences of the data visualizer. In this exercise you will first simulate different types of data and datasets in python. Randomizations are useful to understand certain statistical concepts and also as a basis for random sampling, which may be required when dealing with big data. Based on these simulated data, the exercise will consist on choosing the type of chart that you find more adequate to represent the different types of data and datasets.\n",
    "\n",
    "The objectives of this exercise are to:\n",
    "1. identify each type of variables and tables that were created.\n",
    "\n",
    "2. try your best to interpret each line of the code provided. \n",
    "\n",
    "2. based on these simulated data, insert markdown boxes to this notebook writing the type of chart that you find more adequate to represent the different types of data and datasets, justifying your choices. You should identify the different axis of the plot, if applicable. Don't forget that drawing sketches might help! You may get some help from this site: https://datavizproject.com/\n",
    "\n",
    "You will use two modules that provide pseudo-random number generators to implement random sampling routines. Have a look [here](https://docs.python.org/3/library/random.html) (random module) and [here](https://numpy.org/doc/stable/reference/random/index.html) (numpy.random module). Both allow to simulate data and take random samples, although np.random allows more pseudo-random generator methods to be implemented.\n",
    "\n",
    "To run the simulations, you should first import pandas, numpy and random modules (in case you still did not installed these modules, you will need to install beforehand).\n"
   ]
  },
  {
   "cell_type": "code",
   "execution_count": 1,
   "metadata": {},
   "outputs": [],
   "source": [
    "import pandas as pd\n",
    "import numpy as np\n",
    "import random"
   ]
  },
  {
   "cell_type": "code",
   "execution_count": 2,
   "metadata": {},
   "outputs": [
    {
     "name": "stdout",
     "output_type": "stream",
     "text": [
      "['Pasture', 'Managed Forest', 'Natural Forest', 'Managed Forest', 'Natural Forest', 'Managed Forest', 'Irrigated crops', 'Managed Forest', 'Agro-Forestry system', 'Permanent crops', 'Shrubland', 'Shrubland', 'Irrigated crops', 'Permanent crops', 'Managed Forest', 'Shrubland', 'Shrubland', 'Agro-Forestry system', 'Shrubland', 'Irrigated crops', 'Agro-Forestry system', 'Managed Forest', 'Urban', 'Agro-Forestry system', 'Irrigated crops', 'Urban', 'Permanent crops', 'Natural Forest', 'Urban', 'Urban', 'Irrigated crops', 'Agro-Forestry system', 'Irrigated crops', 'Natural Forest', 'Managed Forest', 'Shrubland', 'Agro-Forestry system', 'Agro-Forestry system', 'Agro-Forestry system', 'Natural Forest', 'Irrigated crops', 'Shrubland', 'Managed Forest', 'Managed Forest', 'Urban', 'Shrubland', 'Natural Forest', 'Managed Forest', 'Shrubland', 'Agro-Forestry system', 'Natural Forest', 'Natural Forest', 'Irrigated crops', 'Managed Forest', 'Agro-Forestry system', 'Urban', 'Natural Forest', 'Pasture', 'Natural Forest', 'Agro-Forestry system', 'Pasture', 'Irrigated crops', 'Shrubland', 'Urban', 'Urban', 'Agro-Forestry system', 'Managed Forest', 'Pasture', 'Urban', 'Natural Forest', 'Urban', 'Permanent crops', 'Permanent crops', 'Shrubland', 'Urban', 'Shrubland', 'Shrubland', 'Irrigated crops', 'Permanent crops', 'Irrigated crops', 'Urban', 'Pasture', 'Pasture', 'Shrubland', 'Pasture', 'Pasture', 'Natural Forest', 'Agro-Forestry system', 'Agro-Forestry system', 'Urban', 'Agro-Forestry system', 'Managed Forest', 'Urban', 'Irrigated crops', 'Permanent crops', 'Agro-Forestry system', 'Permanent crops', 'Pasture', 'Pasture', 'Pasture']\n"
     ]
    }
   ],
   "source": [
    "# Simulate var1\n",
    "var1 = []\n",
    "random.seed(24) # optional: used to fix the seed of the pseudo-random number generator (use any number of your choice)\n",
    "levels = [\"Permanent crops\", \"Irrigated crops\", \"Managed Forest\", \"Natural Forest\", \"Agro-Forestry system\", \"Urban\", \"Pasture\", \"Shrubland\" ]\n",
    "for _ in range(100): # a loop is needed because random.sample selects unique elements (with no replacement)\n",
    "    var1 += random.sample(levels, 1) # var1.append(random.sample(levels, 1)) would also work\n",
    "print(var1)"
   ]
  },
  {
   "cell_type": "code",
   "execution_count": 3,
   "metadata": {},
   "outputs": [
    {
     "name": "stdout",
     "output_type": "stream",
     "text": [
      "['Pasture' 'Managed Forest' 'Urban' 'Managed Forest' 'Managed Forest'\n",
      " 'Permanent crops' 'Urban' 'Agro-Forestry system' 'Pasture'\n",
      " 'Irrigated crops' 'Irrigated crops' 'Agro-Forestry system'\n",
      " 'Natural Forest' 'Shrubland' 'Permanent crops' 'Urban' 'Permanent crops'\n",
      " 'Pasture' 'Irrigated crops' 'Irrigated crops' 'Managed Forest' 'Pasture'\n",
      " 'Natural Forest' 'Shrubland' 'Urban' 'Managed Forest' 'Shrubland'\n",
      " 'Agro-Forestry system' 'Irrigated crops' 'Agro-Forestry system' 'Pasture'\n",
      " 'Pasture' 'Pasture' 'Pasture' 'Pasture' 'Permanent crops' 'Pasture'\n",
      " 'Natural Forest' 'Urban' 'Irrigated crops' 'Pasture' 'Pasture' 'Urban'\n",
      " 'Natural Forest' 'Managed Forest' 'Managed Forest' 'Irrigated crops'\n",
      " 'Shrubland' 'Shrubland' 'Shrubland' 'Natural Forest' 'Shrubland'\n",
      " 'Permanent crops' 'Urban' 'Irrigated crops' 'Urban' 'Urban'\n",
      " 'Natural Forest' 'Managed Forest' 'Permanent crops' 'Shrubland'\n",
      " 'Permanent crops' 'Irrigated crops' 'Natural Forest' 'Urban' 'Shrubland'\n",
      " 'Urban' 'Irrigated crops' 'Urban' 'Shrubland' 'Shrubland'\n",
      " 'Natural Forest' 'Natural Forest' 'Natural Forest' 'Agro-Forestry system'\n",
      " 'Urban' 'Pasture' 'Shrubland' 'Permanent crops' 'Natural Forest'\n",
      " 'Pasture' 'Agro-Forestry system' 'Permanent crops' 'Permanent crops'\n",
      " 'Irrigated crops' 'Managed Forest' 'Agro-Forestry system'\n",
      " 'Agro-Forestry system' 'Natural Forest' 'Pasture' 'Permanent crops'\n",
      " 'Shrubland' 'Urban' 'Urban' 'Permanent crops' 'Pasture' 'Natural Forest'\n",
      " 'Irrigated crops' 'Managed Forest' 'Natural Forest']\n"
     ]
    }
   ],
   "source": [
    "# alternative to run a random sampling with replacement (using numpy)\n",
    "levels = np.array([\"Permanent crops\", \"Irrigated crops\", \"Managed Forest\", \"Natural Forest\", \"Agro-Forestry system\", \"Urban\", \"Pasture\", \"Shrubland\"])\n",
    "sampler = np.random.randint(0, len(levels), 100) # 100 random values within an interval (0 to 7)\n",
    "var1 = levels.take(sampler) # use sampler to select values from \"levels\"; take - returns elements from array along the mentioned axis and indices\n",
    "print(var1)"
   ]
  },
  {
   "cell_type": "code",
   "execution_count": 4,
   "metadata": {},
   "outputs": [
    {
     "data": {
      "text/plain": [
       "numpy.ndarray"
      ]
     },
     "execution_count": 4,
     "metadata": {},
     "output_type": "execute_result"
    }
   ],
   "source": [
    "sampler = np.random.randint(0, len(levels), 100)\n",
    "type(sampler)"
   ]
  },
  {
   "cell_type": "code",
   "execution_count": 5,
   "metadata": {},
   "outputs": [
    {
     "name": "stdout",
     "output_type": "stream",
     "text": [
      "[96.00173033 69.95120499 99.98672926 22.00672998 36.1056354  73.98409902\n",
      " 99.64557251 31.63469778 13.65445798 38.39800102 32.05192836 36.64147531\n",
      " 70.96515626 90.01424305 53.41154392 24.72937649 67.18065626 56.17291073\n",
      " 54.25598767 89.34476037 84.27795496 30.60125899 63.11697775 68.02388604\n",
      " 97.04275604 89.35671519 94.24258614 64.22254812 61.46476338 22.76832544\n",
      " 48.6031869  80.72192994 84.42201535 53.46808662 75.77980499 49.96768861\n",
      " 85.03278966 61.96967754 86.16141791 23.16971966 40.22184146 62.43750622\n",
      " 14.30367059 12.27984836 41.68299108 55.68829821 94.14191754 40.92590225\n",
      " 73.67514494 99.54506744 91.66643492  0.20232726 97.13316932 88.90481767\n",
      " 69.94886062  9.75246685 57.34290389 82.00371163 56.08910506 35.07624607\n",
      " 54.34997561 87.95890917 11.40965649  3.14388054 95.28100604 28.87434744\n",
      " 44.19491709 25.90215323 59.68914437 65.5286046  27.56954606 85.79724579\n",
      " 88.87241464 28.50605911 65.95604191 97.21202594 79.68741126 17.94644012\n",
      " 78.46729779 97.01278886 36.2811769   8.78860648 34.38334237 57.11096457\n",
      " 16.55126825 63.16159389  6.55655353 91.28741912  8.86539792 19.93876783\n",
      " 47.1952698  44.09971802 76.55514267  1.27435337 68.06629642 27.56026399\n",
      " 60.39798213 54.59728462 20.97898106 13.61227537]\n"
     ]
    }
   ],
   "source": [
    "# Simulate var2\n",
    "np.random.seed(24) # optional: used to fix the seed of the pseudo-random number generator (use any number of your choice)\n",
    "var2 = np.random.uniform(0, 100, 100)\n",
    "print(var2)"
   ]
  },
  {
   "cell_type": "code",
   "execution_count": 6,
   "metadata": {},
   "outputs": [
    {
     "name": "stdout",
     "output_type": "stream",
     "text": [
      "                landuse  Frequency\n",
      "0               Pasture         16\n",
      "1                 Urban         15\n",
      "2        Natural Forest         14\n",
      "3             Shrubland         13\n",
      "4       Irrigated crops         12\n",
      "5       Permanent crops         12\n",
      "6        Managed Forest         10\n",
      "7  Agro-Forestry system          8\n"
     ]
    }
   ],
   "source": [
    "# Simulate table1\n",
    "table1 = pd.DataFrame(var1).value_counts(sort=True)\n",
    "table1 = table1.rename_axis(\"landuse\")\n",
    "table1 = table1.reset_index(name=\"Frequency\")\n",
    "print(table1)"
   ]
  },
  {
   "cell_type": "markdown",
   "metadata": {},
   "source": [
    "### This table should create a Vertical Bar Chart, it has 1 categorical and 1 numerical discrete variable"
   ]
  },
  {
   "cell_type": "code",
   "execution_count": 7,
   "metadata": {},
   "outputs": [
    {
     "name": "stdout",
     "output_type": "stream",
     "text": [
      "            landuse      cover\n",
      "0           Pasture  96.001730\n",
      "1    Managed Forest  69.951205\n",
      "2             Urban  99.986729\n",
      "3    Managed Forest  22.006730\n",
      "4    Managed Forest  36.105635\n",
      "..              ...        ...\n",
      "95          Pasture  27.560264\n",
      "96   Natural Forest  60.397982\n",
      "97  Irrigated crops  54.597285\n",
      "98   Managed Forest  20.978981\n",
      "99   Natural Forest  13.612275\n",
      "\n",
      "[100 rows x 2 columns]\n"
     ]
    }
   ],
   "source": [
    "# Simulate table2\n",
    "table2 = pd.DataFrame(list(zip(var1, var2)), columns = [\"landuse\", \"cover\"])\n",
    "print(table2)"
   ]
  },
  {
   "cell_type": "markdown",
   "metadata": {},
   "source": [
    "### This table should create a BoxPlot, it has 1 categorical and 1 numerical continuous variable"
   ]
  },
  {
   "attachments": {},
   "cell_type": "markdown",
   "metadata": {},
   "source": [
    "Note: The zip() function returns a zip object, which is an iterator of tuples where the first item in each passed iterator is paired together, and then the second item in each passed iterator are paired together, etc. The tuple() function displays a readable version of the result - try running: print(tuple(zip(var1,var2)))"
   ]
  },
  {
   "cell_type": "code",
   "execution_count": 8,
   "metadata": {},
   "outputs": [
    {
     "name": "stdout",
     "output_type": "stream",
     "text": [
      "((np.str_('Pasture'), np.float64(96.00173033359185)), (np.str_('Managed Forest'), np.float64(69.9512049949576)), (np.str_('Urban'), np.float64(99.98672926238793)), (np.str_('Managed Forest'), np.float64(22.00672997828518)), (np.str_('Managed Forest'), np.float64(36.1056353964058)), (np.str_('Permanent crops'), np.float64(73.9840990209437)), (np.str_('Urban'), np.float64(99.6455725089097)), (np.str_('Agro-Forestry system'), np.float64(31.63469777906084)), (np.str_('Pasture'), np.float64(13.654457982352463)), (np.str_('Irrigated crops'), np.float64(38.39800101516001)), (np.str_('Irrigated crops'), np.float64(32.05192835651931)), (np.str_('Agro-Forestry system'), np.float64(36.64147530835151)), (np.str_('Natural Forest'), np.float64(70.96515625881274)), (np.str_('Shrubland'), np.float64(90.01424305233735)), (np.str_('Permanent crops'), np.float64(53.41154391977205)), (np.str_('Urban'), np.float64(24.729376490994515)), (np.str_('Permanent crops'), np.float64(67.18065625770753)), (np.str_('Pasture'), np.float64(56.17291073131376)), (np.str_('Irrigated crops'), np.float64(54.25598767095098)), (np.str_('Irrigated crops'), np.float64(89.34476036949007)), (np.str_('Managed Forest'), np.float64(84.2779549565043)), (np.str_('Pasture'), np.float64(30.6012589949623)), (np.str_('Natural Forest'), np.float64(63.116977745519556)), (np.str_('Shrubland'), np.float64(68.02388604461551)), (np.str_('Urban'), np.float64(97.04275603953207)), (np.str_('Managed Forest'), np.float64(89.35671519207612)), (np.str_('Shrubland'), np.float64(94.24258613607806)), (np.str_('Agro-Forestry system'), np.float64(64.22254812227945)), (np.str_('Irrigated crops'), np.float64(61.46476338420842)), (np.str_('Agro-Forestry system'), np.float64(22.768325439797586)), (np.str_('Pasture'), np.float64(48.603186896637276)), (np.str_('Pasture'), np.float64(80.72192993884133)), (np.str_('Pasture'), np.float64(84.4220153522363)), (np.str_('Pasture'), np.float64(53.46808662299573)), (np.str_('Pasture'), np.float64(75.779804985444)), (np.str_('Permanent crops'), np.float64(49.967688610383945)), (np.str_('Pasture'), np.float64(85.0327896594962)), (np.str_('Natural Forest'), np.float64(61.96967753560718)), (np.str_('Urban'), np.float64(86.16141790501139)), (np.str_('Irrigated crops'), np.float64(23.169719664900036)), (np.str_('Pasture'), np.float64(40.221841458077115)), (np.str_('Pasture'), np.float64(62.43750621598855)), (np.str_('Urban'), np.float64(14.303670588390183)), (np.str_('Natural Forest'), np.float64(12.279848359327927)), (np.str_('Managed Forest'), np.float64(41.68299107625021)), (np.str_('Managed Forest'), np.float64(55.688298205196)), (np.str_('Irrigated crops'), np.float64(94.14191754394224)), (np.str_('Shrubland'), np.float64(40.925902250323055)), (np.str_('Shrubland'), np.float64(73.67514493829403)), (np.str_('Shrubland'), np.float64(99.54506743662492)), (np.str_('Natural Forest'), np.float64(91.66643492109677)), (np.str_('Shrubland'), np.float64(0.2023272594058212)), (np.str_('Permanent crops'), np.float64(97.13316932292896)), (np.str_('Urban'), np.float64(88.90481766987239)), (np.str_('Irrigated crops'), np.float64(69.948860623719)), (np.str_('Urban'), np.float64(9.75246685479263)), (np.str_('Urban'), np.float64(57.34290389184014)), (np.str_('Natural Forest'), np.float64(82.00371163300957)), (np.str_('Managed Forest'), np.float64(56.08910506455944)), (np.str_('Permanent crops'), np.float64(35.07624607204416)), (np.str_('Shrubland'), np.float64(54.34997560938548)), (np.str_('Permanent crops'), np.float64(87.95890917121208)), (np.str_('Irrigated crops'), np.float64(11.409656487218655)), (np.str_('Natural Forest'), np.float64(3.1438805443634976)), (np.str_('Urban'), np.float64(95.28100603730365)), (np.str_('Shrubland'), np.float64(28.874347436007174)), (np.str_('Urban'), np.float64(44.19491708850247)), (np.str_('Irrigated crops'), np.float64(25.902153226143167)), (np.str_('Urban'), np.float64(59.68914437271092)), (np.str_('Shrubland'), np.float64(65.52860459773096)), (np.str_('Shrubland'), np.float64(27.56954606457642)), (np.str_('Natural Forest'), np.float64(85.79724579391194)), (np.str_('Natural Forest'), np.float64(88.87241463838484)), (np.str_('Natural Forest'), np.float64(28.50605910653178)), (np.str_('Agro-Forestry system'), np.float64(65.95604191091032)), (np.str_('Urban'), np.float64(97.21202593668238)), (np.str_('Pasture'), np.float64(79.68741125563476)), (np.str_('Shrubland'), np.float64(17.94644011767761)), (np.str_('Permanent crops'), np.float64(78.46729778876521)), (np.str_('Natural Forest'), np.float64(97.01278885757159)), (np.str_('Pasture'), np.float64(36.28117689857211)), (np.str_('Agro-Forestry system'), np.float64(8.788606476009509)), (np.str_('Permanent crops'), np.float64(34.3833423729332)), (np.str_('Permanent crops'), np.float64(57.110964569110436)), (np.str_('Irrigated crops'), np.float64(16.551268246031935)), (np.str_('Managed Forest'), np.float64(63.16159388531115)), (np.str_('Agro-Forestry system'), np.float64(6.556553529884612)), (np.str_('Agro-Forestry system'), np.float64(91.28741912049831)), (np.str_('Natural Forest'), np.float64(8.865397922675456)), (np.str_('Pasture'), np.float64(19.938767830182723)), (np.str_('Permanent crops'), np.float64(47.19526979508824)), (np.str_('Shrubland'), np.float64(44.09971801977378)), (np.str_('Urban'), np.float64(76.55514266886347)), (np.str_('Urban'), np.float64(1.2743533666867535)), (np.str_('Permanent crops'), np.float64(68.06629641709289)), (np.str_('Pasture'), np.float64(27.560263992353818)), (np.str_('Natural Forest'), np.float64(60.39798212578415)), (np.str_('Irrigated crops'), np.float64(54.59728461872907)), (np.str_('Managed Forest'), np.float64(20.978981055078282)), (np.str_('Natural Forest'), np.float64(13.61227536800812)))\n"
     ]
    }
   ],
   "source": [
    "print(tuple(zip(var1,var2)))"
   ]
  },
  {
   "cell_type": "code",
   "execution_count": 9,
   "metadata": {},
   "outputs": [
    {
     "name": "stdout",
     "output_type": "stream",
     "text": [
      "    Year  Temperature\n",
      "0   1970    19.658424\n",
      "1   1971    15.459933\n",
      "2   1972    16.367439\n",
      "3   1973    15.018379\n",
      "4   1974    14.858367\n",
      "5   1975    14.122573\n",
      "6   1976    18.128834\n",
      "7   1977    17.591444\n",
      "8   1978    13.747192\n",
      "9   1979    17.439130\n",
      "10  1980    18.357610\n",
      "11  1981    20.778545\n",
      "12  1982    18.923077\n",
      "13  1983    17.208022\n",
      "14  1984    16.037669\n",
      "15  1985    18.700457\n",
      "16  1986    19.906849\n",
      "17  1987    19.115475\n",
      "18  1988    17.331123\n",
      "19  1989    18.030037\n",
      "20  1990    14.326129\n",
      "21  1991    18.125722\n",
      "22  1992    19.785710\n",
      "23  1993    16.873344\n",
      "24  1994    17.243337\n",
      "25  1995    19.415205\n",
      "26  1996    16.995920\n",
      "27  1997    20.255591\n",
      "28  1998    17.708986\n",
      "29  1999    19.075055\n",
      "30  2000    16.228633\n",
      "31  2001    18.039636\n",
      "32  2002    20.373166\n",
      "33  2003    14.348074\n",
      "34  2004    19.857967\n",
      "35  2005    12.821291\n",
      "36  2006    16.740360\n",
      "37  2007    18.263046\n",
      "38  2008    15.826924\n",
      "39  2009    17.581440\n",
      "40  2010    19.528207\n",
      "41  2011    17.580070\n",
      "42  2012    13.059423\n",
      "43  2013    18.607812\n",
      "44  2014    19.061101\n",
      "45  2015    17.236196\n",
      "46  2016    16.956293\n",
      "47  2017    17.093681\n",
      "48  2018    13.742494\n",
      "49  2019    16.215279\n",
      "50  2020    20.401945\n"
     ]
    }
   ],
   "source": [
    "# Simulate table3\n",
    "np.random.seed(24) # optional: used to fix the seed of the pseudo-random number generator (use any number of your choice)\n",
    "year = list(range(1970,2021))\n",
    "temp = np.random.normal(17,2,51)\n",
    "table3 = pd.DataFrame(list(zip(year, temp)), columns = [\"Year\", \"Temperature\"])\n",
    "print(table3)"
   ]
  },
  {
   "cell_type": "markdown",
   "metadata": {},
   "source": [
    "### This table should create a Line Plot, it has 1 time variable and 1 numerical continuous variable"
   ]
  },
  {
   "cell_type": "code",
   "execution_count": 10,
   "metadata": {},
   "outputs": [
    {
     "name": "stdout",
     "output_type": "stream",
     "text": [
      "    Mean Anual Temperature  Total Precipitation\n",
      "0                18.294961           909.201074\n",
      "1                18.556194           684.600944\n",
      "2                18.213491           840.320436\n",
      "3                18.157810           755.513792\n",
      "4                17.785119           824.875035\n",
      "..                     ...                  ...\n",
      "95               18.941036           608.551015\n",
      "96               18.339957           645.584342\n",
      "97               18.835738           610.889186\n",
      "98               18.311114           787.298732\n",
      "99               18.915846           691.382160\n",
      "\n",
      "[100 rows x 2 columns]\n"
     ]
    }
   ],
   "source": [
    "# Simulate table4\n",
    "xx = np.array([16,21])\n",
    "yy = np.array([300, 1200])\n",
    "means = [xx.mean(), yy.mean()]  \n",
    "stds = [xx.std() / 3, yy.std() / 3]\n",
    "corr = -0.7 # correlation\n",
    "covs = [[stds[0]**2          , stds[0]*stds[1]*corr], \n",
    "        [stds[0]*stds[1]*corr,           stds[1]**2]] # covariance matrix\n",
    "table4 = pd.DataFrame(np.random.multivariate_normal(means, covs, 100), columns = [\"Mean Anual Temperature\", \"Total Precipitation\"])\n",
    "print(table4)"
   ]
  },
  {
   "cell_type": "markdown",
   "metadata": {},
   "source": [
    "### This table should create a Scatter Plot, it has 2 numerical continuous variable"
   ]
  },
  {
   "cell_type": "code",
   "execution_count": 11,
   "metadata": {},
   "outputs": [
    {
     "name": "stdout",
     "output_type": "stream",
     "text": [
      "    Year               Landuse      Cover\n",
      "0   1900       Permanent crops  77.543675\n",
      "1   1900       Irrigated crops  38.634305\n",
      "2   1900        Managed Forest  36.945386\n",
      "3   1900        Natural Forest  69.217019\n",
      "4   1900  Agro-Forestry system   4.370542\n",
      "..   ...                   ...        ...\n",
      "83  2000        Natural Forest  32.942488\n",
      "84  2000  Agro-Forestry system  68.643865\n",
      "85  2000                 Urban  34.579609\n",
      "86  2000               Pasture  45.485347\n",
      "87  2000             Shrubland  53.094214\n",
      "\n",
      "[88 rows x 3 columns]\n"
     ]
    }
   ],
   "source": [
    "# Simulate table5\n",
    "col1 = pd.Series(list(range(1900,2010,10))).repeat(8)\n",
    "col2 = [\"Permanent crops\", \"Irrigated crops\", \"Managed Forest\", \"Natural Forest\", \"Agro-Forestry system\", \"Urban\", \"Pasture\", \"Shrubland\" ]*11\n",
    "col3 = np.random.uniform(0, 100, 90)\n",
    "table5 = pd.DataFrame(list(zip(col1, col2, col3)), columns = [\"Year\", \"Landuse\", \"Cover\"])\n",
    "print(table5)"
   ]
  },
  {
   "cell_type": "markdown",
   "metadata": {},
   "source": [
    "### This table should create a Stacked Area Chart, it has 1 time variable, 1 categorical and 1 numerical continuous variable"
   ]
  }
 ],
 "metadata": {
  "kernelspec": {
   "display_name": "Python 3",
   "language": "python",
   "name": "python3"
  },
  "language_info": {
   "codemirror_mode": {
    "name": "ipython",
    "version": 3
   },
   "file_extension": ".py",
   "mimetype": "text/x-python",
   "name": "python",
   "nbconvert_exporter": "python",
   "pygments_lexer": "ipython3",
   "version": "3.12.5"
  },
  "orig_nbformat": 4,
  "vscode": {
   "interpreter": {
    "hash": "f370ef58eb856835018c6f17435ba4383e967280d683e004a318f3d8dd5b0859"
   }
  }
 },
 "nbformat": 4,
 "nbformat_minor": 2
}
