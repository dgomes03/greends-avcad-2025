{
 "cells": [
  {
   "cell_type": "markdown",
   "id": "309ceb7f",
   "metadata": {},
   "source": [
    "# Exercise 6\n",
    "\n",
    "1. Using the EFIplus_medit.zip dataset, test if the frequency of sites with presence and absence of Salmo trutta fario (Brown Trout) are independent from the country. Please state which is/are the null hypothesis of your test(s). You may try to produce an alluvial plot."
   ]
  },
  {
   "cell_type": "code",
   "execution_count": 8,
   "id": "49f0073f",
   "metadata": {},
   "outputs": [],
   "source": [
    "import pandas as pd\n",
    "from scipy import stats\n",
    "from scipy.stats import chi2_contingency, chi2\n",
    "import plotly.graph_objects as go"
   ]
  },
  {
   "cell_type": "code",
   "execution_count": 3,
   "id": "3f7a1a93",
   "metadata": {},
   "outputs": [
    {
     "name": "stdout",
     "output_type": "stream",
     "text": [
      "    Site_code   Latitude  Longitude Country Catchment_name  Galiza  Subsample  \\\n",
      "1  ES_02_0001  40.530188  -1.887796   Spain           Tejo       0          1   \n",
      "2  ES_02_0002  40.595432  -1.928079   Spain           Tejo       0          1   \n",
      "3  ES_02_0003  40.656184  -1.989831   Spain           Tejo       0          1   \n",
      "4  ES_02_0004  40.676402  -2.036274   Spain           Tejo       0          1   \n",
      "5  ES_02_0005  40.732830  -2.078003   Spain           Tejo       0          1   \n",
      "\n",
      "   Calib_EFI_Medit  Calib_connect  Calib_hydrol  ...  Squalius malacitanus  \\\n",
      "1                1              1             1  ...                     0   \n",
      "2                1              1             1  ...                     0   \n",
      "3                1              1             1  ...                     0   \n",
      "4                1              1             1  ...                     0   \n",
      "5                1              1             1  ...                     0   \n",
      "\n",
      "   Squalius pyrenaicus  Squalius torgalensis  Thymallus thymallus  \\\n",
      "1                    0                     0                    0   \n",
      "2                    0                     0                    0   \n",
      "3                    0                     0                    0   \n",
      "4                    0                     0                    0   \n",
      "5                    0                     0                    0   \n",
      "\n",
      "   Tinca tinca Zingel asper Squalius sp  Barbatula sp Phoxinus sp  \\\n",
      "1            0            0           0             0           0   \n",
      "2            0            0           0             0           0   \n",
      "3            0            0           0             0           0   \n",
      "4            0            0           0             0           0   \n",
      "5            0            0           0             0           0   \n",
      "\n",
      "   Iberochondrostoma_sp  \n",
      "1                     0  \n",
      "2                     0  \n",
      "3                     0  \n",
      "4                     0  \n",
      "5                     0  \n",
      "\n",
      "[5 rows x 164 columns]\n"
     ]
    }
   ],
   "source": [
    "file_path = 'EFIplus_medit.zip'  # Path to the zip file\n",
    "df = pd.read_csv('EFIplus_medit.zip',compression='zip', sep=\";\")\n",
    "\n",
    "df_trout = df[df['Salmo trutta fario'] == 1]\n",
    "print(df_trout.head())"
   ]
  },
  {
   "cell_type": "markdown",
   "id": "5a11012d",
   "metadata": {},
   "source": [
    "Χ² test:\n",
    "\n",
    "H0: A presença ou ausência de Salmo trutta fario é independente do país.\n",
    "\n",
    "H1: A distribuição da truta castanha é igual entre os países considerados."
   ]
  },
  {
   "cell_type": "code",
   "execution_count": 4,
   "id": "160ef50c",
   "metadata": {},
   "outputs": [
    {
     "name": "stdout",
     "output_type": "stream",
     "text": [
      "Estatística do Qui-quadrado: 496.3724\n",
      "Graus de liberdade: 3\n",
      "Valor crítico (α = 0.05): 7.8147\n",
      "p-valor: 0.0000\n",
      "Rejeita-se H0: a presença da truta depende do país.\n"
     ]
    }
   ],
   "source": [
    "contingency_table = pd.crosstab(df['Country'], df['Salmo trutta fario'])\n",
    "chi2_stat, p_val, dof, expected = chi2_contingency(contingency_table)\n",
    "\n",
    "# Valor crítico para α = 0.05\n",
    "alpha = 0.05\n",
    "critical = chi2.ppf(q=1 - alpha, df=dof)\n",
    "\n",
    "# Imprimir resultados\n",
    "print(f'Estatística do Qui-quadrado: {chi2_stat:.4f}')\n",
    "print(f'Graus de liberdade: {dof}')\n",
    "print(f'Valor crítico (α = 0.05): {critical:.4f}')\n",
    "print(f'p-valor: {p_val:.4f}')\n",
    "\n",
    "# Interpretação manual\n",
    "if chi2_stat > critical:\n",
    "    print(\"Rejeita-se H0: a presença da truta depende do país.\")\n",
    "else:\n",
    "    print(\"Não se rejeita H0: não há evidência de dependência entre presença da truta e o país.\")\n"
   ]
  },
  {
   "cell_type": "code",
   "execution_count": 5,
   "id": "7326cbf6",
   "metadata": {},
   "outputs": [
    {
     "data": {
      "application/vnd.plotly.v1+json": {
       "config": {
        "plotlyServerURL": "https://plot.ly"
       },
       "data": [
        {
         "link": {
          "source": [
           0,
           0,
           1,
           1,
           2,
           2,
           3,
           3
          ],
          "target": [
           4,
           5,
           4,
           5,
           4,
           5,
           4,
           5
          ],
          "value": [
           13,
           59,
           109,
           76,
           615,
           252,
           1239,
           2648
          ]
         },
         "node": {
          "label": [
           "France",
           "Italy",
           "Portugal",
           "Spain",
           "Absent",
           "Present"
          ],
          "line": {
           "color": "black",
           "width": 0.5
          },
          "pad": 15,
          "thickness": 20
         },
         "type": "sankey"
        }
       ],
       "layout": {
        "font": {
         "size": 12
        },
        "template": {
         "data": {
          "bar": [
           {
            "error_x": {
             "color": "#2a3f5f"
            },
            "error_y": {
             "color": "#2a3f5f"
            },
            "marker": {
             "line": {
              "color": "#E5ECF6",
              "width": 0.5
             },
             "pattern": {
              "fillmode": "overlay",
              "size": 10,
              "solidity": 0.2
             }
            },
            "type": "bar"
           }
          ],
          "barpolar": [
           {
            "marker": {
             "line": {
              "color": "#E5ECF6",
              "width": 0.5
             },
             "pattern": {
              "fillmode": "overlay",
              "size": 10,
              "solidity": 0.2
             }
            },
            "type": "barpolar"
           }
          ],
          "carpet": [
           {
            "aaxis": {
             "endlinecolor": "#2a3f5f",
             "gridcolor": "white",
             "linecolor": "white",
             "minorgridcolor": "white",
             "startlinecolor": "#2a3f5f"
            },
            "baxis": {
             "endlinecolor": "#2a3f5f",
             "gridcolor": "white",
             "linecolor": "white",
             "minorgridcolor": "white",
             "startlinecolor": "#2a3f5f"
            },
            "type": "carpet"
           }
          ],
          "choropleth": [
           {
            "colorbar": {
             "outlinewidth": 0,
             "ticks": ""
            },
            "type": "choropleth"
           }
          ],
          "contour": [
           {
            "colorbar": {
             "outlinewidth": 0,
             "ticks": ""
            },
            "colorscale": [
             [
              0,
              "#0d0887"
             ],
             [
              0.1111111111111111,
              "#46039f"
             ],
             [
              0.2222222222222222,
              "#7201a8"
             ],
             [
              0.3333333333333333,
              "#9c179e"
             ],
             [
              0.4444444444444444,
              "#bd3786"
             ],
             [
              0.5555555555555556,
              "#d8576b"
             ],
             [
              0.6666666666666666,
              "#ed7953"
             ],
             [
              0.7777777777777778,
              "#fb9f3a"
             ],
             [
              0.8888888888888888,
              "#fdca26"
             ],
             [
              1,
              "#f0f921"
             ]
            ],
            "type": "contour"
           }
          ],
          "contourcarpet": [
           {
            "colorbar": {
             "outlinewidth": 0,
             "ticks": ""
            },
            "type": "contourcarpet"
           }
          ],
          "heatmap": [
           {
            "colorbar": {
             "outlinewidth": 0,
             "ticks": ""
            },
            "colorscale": [
             [
              0,
              "#0d0887"
             ],
             [
              0.1111111111111111,
              "#46039f"
             ],
             [
              0.2222222222222222,
              "#7201a8"
             ],
             [
              0.3333333333333333,
              "#9c179e"
             ],
             [
              0.4444444444444444,
              "#bd3786"
             ],
             [
              0.5555555555555556,
              "#d8576b"
             ],
             [
              0.6666666666666666,
              "#ed7953"
             ],
             [
              0.7777777777777778,
              "#fb9f3a"
             ],
             [
              0.8888888888888888,
              "#fdca26"
             ],
             [
              1,
              "#f0f921"
             ]
            ],
            "type": "heatmap"
           }
          ],
          "histogram": [
           {
            "marker": {
             "pattern": {
              "fillmode": "overlay",
              "size": 10,
              "solidity": 0.2
             }
            },
            "type": "histogram"
           }
          ],
          "histogram2d": [
           {
            "colorbar": {
             "outlinewidth": 0,
             "ticks": ""
            },
            "colorscale": [
             [
              0,
              "#0d0887"
             ],
             [
              0.1111111111111111,
              "#46039f"
             ],
             [
              0.2222222222222222,
              "#7201a8"
             ],
             [
              0.3333333333333333,
              "#9c179e"
             ],
             [
              0.4444444444444444,
              "#bd3786"
             ],
             [
              0.5555555555555556,
              "#d8576b"
             ],
             [
              0.6666666666666666,
              "#ed7953"
             ],
             [
              0.7777777777777778,
              "#fb9f3a"
             ],
             [
              0.8888888888888888,
              "#fdca26"
             ],
             [
              1,
              "#f0f921"
             ]
            ],
            "type": "histogram2d"
           }
          ],
          "histogram2dcontour": [
           {
            "colorbar": {
             "outlinewidth": 0,
             "ticks": ""
            },
            "colorscale": [
             [
              0,
              "#0d0887"
             ],
             [
              0.1111111111111111,
              "#46039f"
             ],
             [
              0.2222222222222222,
              "#7201a8"
             ],
             [
              0.3333333333333333,
              "#9c179e"
             ],
             [
              0.4444444444444444,
              "#bd3786"
             ],
             [
              0.5555555555555556,
              "#d8576b"
             ],
             [
              0.6666666666666666,
              "#ed7953"
             ],
             [
              0.7777777777777778,
              "#fb9f3a"
             ],
             [
              0.8888888888888888,
              "#fdca26"
             ],
             [
              1,
              "#f0f921"
             ]
            ],
            "type": "histogram2dcontour"
           }
          ],
          "mesh3d": [
           {
            "colorbar": {
             "outlinewidth": 0,
             "ticks": ""
            },
            "type": "mesh3d"
           }
          ],
          "parcoords": [
           {
            "line": {
             "colorbar": {
              "outlinewidth": 0,
              "ticks": ""
             }
            },
            "type": "parcoords"
           }
          ],
          "pie": [
           {
            "automargin": true,
            "type": "pie"
           }
          ],
          "scatter": [
           {
            "fillpattern": {
             "fillmode": "overlay",
             "size": 10,
             "solidity": 0.2
            },
            "type": "scatter"
           }
          ],
          "scatter3d": [
           {
            "line": {
             "colorbar": {
              "outlinewidth": 0,
              "ticks": ""
             }
            },
            "marker": {
             "colorbar": {
              "outlinewidth": 0,
              "ticks": ""
             }
            },
            "type": "scatter3d"
           }
          ],
          "scattercarpet": [
           {
            "marker": {
             "colorbar": {
              "outlinewidth": 0,
              "ticks": ""
             }
            },
            "type": "scattercarpet"
           }
          ],
          "scattergeo": [
           {
            "marker": {
             "colorbar": {
              "outlinewidth": 0,
              "ticks": ""
             }
            },
            "type": "scattergeo"
           }
          ],
          "scattergl": [
           {
            "marker": {
             "colorbar": {
              "outlinewidth": 0,
              "ticks": ""
             }
            },
            "type": "scattergl"
           }
          ],
          "scattermap": [
           {
            "marker": {
             "colorbar": {
              "outlinewidth": 0,
              "ticks": ""
             }
            },
            "type": "scattermap"
           }
          ],
          "scattermapbox": [
           {
            "marker": {
             "colorbar": {
              "outlinewidth": 0,
              "ticks": ""
             }
            },
            "type": "scattermapbox"
           }
          ],
          "scatterpolar": [
           {
            "marker": {
             "colorbar": {
              "outlinewidth": 0,
              "ticks": ""
             }
            },
            "type": "scatterpolar"
           }
          ],
          "scatterpolargl": [
           {
            "marker": {
             "colorbar": {
              "outlinewidth": 0,
              "ticks": ""
             }
            },
            "type": "scatterpolargl"
           }
          ],
          "scatterternary": [
           {
            "marker": {
             "colorbar": {
              "outlinewidth": 0,
              "ticks": ""
             }
            },
            "type": "scatterternary"
           }
          ],
          "surface": [
           {
            "colorbar": {
             "outlinewidth": 0,
             "ticks": ""
            },
            "colorscale": [
             [
              0,
              "#0d0887"
             ],
             [
              0.1111111111111111,
              "#46039f"
             ],
             [
              0.2222222222222222,
              "#7201a8"
             ],
             [
              0.3333333333333333,
              "#9c179e"
             ],
             [
              0.4444444444444444,
              "#bd3786"
             ],
             [
              0.5555555555555556,
              "#d8576b"
             ],
             [
              0.6666666666666666,
              "#ed7953"
             ],
             [
              0.7777777777777778,
              "#fb9f3a"
             ],
             [
              0.8888888888888888,
              "#fdca26"
             ],
             [
              1,
              "#f0f921"
             ]
            ],
            "type": "surface"
           }
          ],
          "table": [
           {
            "cells": {
             "fill": {
              "color": "#EBF0F8"
             },
             "line": {
              "color": "white"
             }
            },
            "header": {
             "fill": {
              "color": "#C8D4E3"
             },
             "line": {
              "color": "white"
             }
            },
            "type": "table"
           }
          ]
         },
         "layout": {
          "annotationdefaults": {
           "arrowcolor": "#2a3f5f",
           "arrowhead": 0,
           "arrowwidth": 1
          },
          "autotypenumbers": "strict",
          "coloraxis": {
           "colorbar": {
            "outlinewidth": 0,
            "ticks": ""
           }
          },
          "colorscale": {
           "diverging": [
            [
             0,
             "#8e0152"
            ],
            [
             0.1,
             "#c51b7d"
            ],
            [
             0.2,
             "#de77ae"
            ],
            [
             0.3,
             "#f1b6da"
            ],
            [
             0.4,
             "#fde0ef"
            ],
            [
             0.5,
             "#f7f7f7"
            ],
            [
             0.6,
             "#e6f5d0"
            ],
            [
             0.7,
             "#b8e186"
            ],
            [
             0.8,
             "#7fbc41"
            ],
            [
             0.9,
             "#4d9221"
            ],
            [
             1,
             "#276419"
            ]
           ],
           "sequential": [
            [
             0,
             "#0d0887"
            ],
            [
             0.1111111111111111,
             "#46039f"
            ],
            [
             0.2222222222222222,
             "#7201a8"
            ],
            [
             0.3333333333333333,
             "#9c179e"
            ],
            [
             0.4444444444444444,
             "#bd3786"
            ],
            [
             0.5555555555555556,
             "#d8576b"
            ],
            [
             0.6666666666666666,
             "#ed7953"
            ],
            [
             0.7777777777777778,
             "#fb9f3a"
            ],
            [
             0.8888888888888888,
             "#fdca26"
            ],
            [
             1,
             "#f0f921"
            ]
           ],
           "sequentialminus": [
            [
             0,
             "#0d0887"
            ],
            [
             0.1111111111111111,
             "#46039f"
            ],
            [
             0.2222222222222222,
             "#7201a8"
            ],
            [
             0.3333333333333333,
             "#9c179e"
            ],
            [
             0.4444444444444444,
             "#bd3786"
            ],
            [
             0.5555555555555556,
             "#d8576b"
            ],
            [
             0.6666666666666666,
             "#ed7953"
            ],
            [
             0.7777777777777778,
             "#fb9f3a"
            ],
            [
             0.8888888888888888,
             "#fdca26"
            ],
            [
             1,
             "#f0f921"
            ]
           ]
          },
          "colorway": [
           "#636efa",
           "#EF553B",
           "#00cc96",
           "#ab63fa",
           "#FFA15A",
           "#19d3f3",
           "#FF6692",
           "#B6E880",
           "#FF97FF",
           "#FECB52"
          ],
          "font": {
           "color": "#2a3f5f"
          },
          "geo": {
           "bgcolor": "white",
           "lakecolor": "white",
           "landcolor": "#E5ECF6",
           "showlakes": true,
           "showland": true,
           "subunitcolor": "white"
          },
          "hoverlabel": {
           "align": "left"
          },
          "hovermode": "closest",
          "mapbox": {
           "style": "light"
          },
          "paper_bgcolor": "white",
          "plot_bgcolor": "#E5ECF6",
          "polar": {
           "angularaxis": {
            "gridcolor": "white",
            "linecolor": "white",
            "ticks": ""
           },
           "bgcolor": "#E5ECF6",
           "radialaxis": {
            "gridcolor": "white",
            "linecolor": "white",
            "ticks": ""
           }
          },
          "scene": {
           "xaxis": {
            "backgroundcolor": "#E5ECF6",
            "gridcolor": "white",
            "gridwidth": 2,
            "linecolor": "white",
            "showbackground": true,
            "ticks": "",
            "zerolinecolor": "white"
           },
           "yaxis": {
            "backgroundcolor": "#E5ECF6",
            "gridcolor": "white",
            "gridwidth": 2,
            "linecolor": "white",
            "showbackground": true,
            "ticks": "",
            "zerolinecolor": "white"
           },
           "zaxis": {
            "backgroundcolor": "#E5ECF6",
            "gridcolor": "white",
            "gridwidth": 2,
            "linecolor": "white",
            "showbackground": true,
            "ticks": "",
            "zerolinecolor": "white"
           }
          },
          "shapedefaults": {
           "line": {
            "color": "#2a3f5f"
           }
          },
          "ternary": {
           "aaxis": {
            "gridcolor": "white",
            "linecolor": "white",
            "ticks": ""
           },
           "baxis": {
            "gridcolor": "white",
            "linecolor": "white",
            "ticks": ""
           },
           "bgcolor": "#E5ECF6",
           "caxis": {
            "gridcolor": "white",
            "linecolor": "white",
            "ticks": ""
           }
          },
          "title": {
           "x": 0.05
          },
          "xaxis": {
           "automargin": true,
           "gridcolor": "white",
           "linecolor": "white",
           "ticks": "",
           "title": {
            "standoff": 15
           },
           "zerolinecolor": "white",
           "zerolinewidth": 2
          },
          "yaxis": {
           "automargin": true,
           "gridcolor": "white",
           "linecolor": "white",
           "ticks": "",
           "title": {
            "standoff": 15
           },
           "zerolinecolor": "white",
           "zerolinewidth": 2
          }
         }
        },
        "title": {
         "text": "Distribuição de Presença/Ausência da Truta Castanha por País"
        }
       }
      }
     },
     "metadata": {},
     "output_type": "display_data"
    }
   ],
   "source": [
    "# Mapear a coluna 'Salmo trutta fario' para 'Present' (1) e 'Absent' (0)\n",
    "df['trout_presence'] = df['Salmo trutta fario'].map({1: 'Present', 0: 'Absent'})\n",
    "\n",
    "# Contar combinações entre 'Country' e 'trout_presence'\n",
    "grouped = df.groupby(['Country', 'trout_presence']).size().reset_index(name='count')\n",
    "\n",
    "# Criar listas únicas para labels (nós)\n",
    "countries = list(grouped['Country'].unique())\n",
    "presence = list(grouped['trout_presence'].unique())\n",
    "labels = countries + presence\n",
    "\n",
    "# Mapear os índices dos países e das categorias de presença/ausência\n",
    "country_index = {country: i for i, country in enumerate(countries)}\n",
    "presence_index = {status: i + len(countries) for i, status in enumerate(presence)}\n",
    "\n",
    "# Criar as ligações (source, target, value)\n",
    "sources = [country_index[c] for c in grouped['Country']]\n",
    "targets = [presence_index[p] for p in grouped['trout_presence']]\n",
    "values = grouped['count'].tolist()\n",
    "\n",
    "# Criar o gráfico alluvial (Sankey diagram)\n",
    "fig = go.Figure(data=[go.Sankey(\n",
    "    node=dict(\n",
    "        pad=15,\n",
    "        thickness=20,\n",
    "        line=dict(color=\"black\", width=0.5),\n",
    "        label=labels\n",
    "    ),\n",
    "    link=dict(\n",
    "        source=sources,\n",
    "        target=targets,\n",
    "        value=values\n",
    "    ))])\n",
    "\n",
    "# Adicionar título e exibir o gráfico\n",
    "fig.update_layout(title_text=\"Distribuição de Presença/Ausência da Truta Castanha por País\", font_size=12)\n",
    "fig.show()"
   ]
  },
  {
   "cell_type": "markdown",
   "id": "531a4b6d",
   "metadata": {},
   "source": [
    "2. Run the non-parametric equivalent of the test you used in exercise 5.3 and compare with the ANOVA \n",
    "test (5.3: Test whether there are differences in the mean elevation in the upstream catchment \n",
    "(Elevation_mean_catch) among the eight most sampled catchments. For which pairs of catchments are \n",
    "these diferences significant? Please state which is/are the null hypothesis of your test(s))"
   ]
  },
  {
   "cell_type": "code",
   "execution_count": 6,
   "id": "1589f5ea",
   "metadata": {},
   "outputs": [
    {
     "name": "stdout",
     "output_type": "stream",
     "text": [
      "      Elevation_mean_catch Catchment_name\n",
      "1              1603.519424           Tejo\n",
      "2              1578.678579           Tejo\n",
      "3              1553.219128           Tejo\n",
      "4              1539.684999           Tejo\n",
      "5              1493.914010           Tejo\n",
      "...                    ...            ...\n",
      "4947            704.675069           Tejo\n",
      "4948            702.673201           Tejo\n",
      "4949            697.730192           Tejo\n",
      "4950            679.784324           Tejo\n",
      "4951            678.426582           Tejo\n",
      "\n",
      "[3976 rows x 2 columns]\n"
     ]
    }
   ],
   "source": [
    "catchment_counts = df['Catchment_name'].value_counts()\n",
    "top_8_catchments = catchment_counts.head(8).index\n",
    "filtered_df = df[df['Catchment_name'].isin(top_8_catchments)]\n",
    "filtered_df = filtered_df[['Elevation_mean_catch', 'Catchment_name']]\n",
    "elev = filtered_df.dropna()\n",
    "\n",
    "print(elev)\n"
   ]
  },
  {
   "cell_type": "code",
   "execution_count": 10,
   "id": "d3c92079",
   "metadata": {},
   "outputs": [
    {
     "name": "stdout",
     "output_type": "stream",
     "text": [
      "Resultado do teste ANOVA:\n",
      "F-statistic: 227.95, P-value: 0.0\n",
      "\n",
      "\n",
      "Resultado do teste Kruskal-Wallis:\n",
      "Estatística do teste: 1335.37, P-value: 0.0\n"
     ]
    }
   ],
   "source": [
    "f_stat, anova_p_value = stats.f_oneway(\n",
    "    *[elev[elev['Catchment_name'] == catchment]['Elevation_mean_catch'] for catchment in top_8_catchments]\n",
    ")\n",
    "\n",
    "kruskal_stat, kruskal_p_value = stats.kruskal(\n",
    "    *[elev[elev['Catchment_name'] == catchment]['Elevation_mean_catch'] for catchment in top_8_catchments]\n",
    ")\n",
    "\n",
    "f_stat_rounded = round(f_stat, 2)\n",
    "anova_p_value_rounded = round(anova_p_value, 2)\n",
    "\n",
    "kruskal_stat_rounded = round(kruskal_stat, 2)\n",
    "kruskal_p_value_rounded = round(kruskal_p_value, 2)\n",
    "\n",
    "# Exibir os resultados arredondados\n",
    "print(f\"Resultado do teste ANOVA:\")\n",
    "print(f\"F-statistic: {f_stat_rounded}, P-value: {anova_p_value_rounded}\")\n",
    "print(\"\\n\")\n",
    "\n",
    "print(f\"Resultado do teste Kruskal-Wallis:\")\n",
    "print(f\"Estatística do teste: {kruskal_stat_rounded}, P-value: {kruskal_p_value_rounded}\")"
   ]
  },
  {
   "cell_type": "markdown",
   "id": "73bb69b4",
   "metadata": {},
   "source": [
    "Ambos os testes (ANOVA e Kruskal-Wallis) indicam que há diferenças significativas nas distribuições de elevação entre os 8 catchments mais amostrados. O p-valor de 0.0 nos dois testes indica que é altamente improvável que as diferenças observadas tenham ocorrido por acaso. Em resumo, as elevações médias ou as distribuições de elevação variam de forma estatisticamente significativa entre os catchments."
   ]
  },
  {
   "cell_type": "markdown",
   "id": "fcc3eb48",
   "metadata": {},
   "source": [
    "3. Using the winequality_red.csv file in the examples folder of the github repository, test which wine \n",
    "parameters discriminate the best between wine quality scores categorized into two classes using value \n",
    "5 as the threshold value (quality>5=“good” and quality<5=“bad”)."
   ]
  },
  {
   "cell_type": "code",
   "execution_count": 12,
   "id": "6f852d38",
   "metadata": {},
   "outputs": [
    {
     "name": "stdout",
     "output_type": "stream",
     "text": [
      "   fixed acidity  volatile acidity  citric acid  residual sugar  chlorides  \\\n",
      "0            7.4              0.70         0.00             1.9      0.076   \n",
      "1            7.8              0.88         0.00             2.6      0.098   \n",
      "2            7.8              0.76         0.04             2.3      0.092   \n",
      "3           11.2              0.28         0.56             1.9      0.075   \n",
      "4            7.4              0.70         0.00             1.9      0.076   \n",
      "\n",
      "   free sulfur dioxide  total sulfur dioxide  density    pH  sulphates  \\\n",
      "0                 11.0                  34.0   0.9978  3.51       0.56   \n",
      "1                 25.0                  67.0   0.9968  3.20       0.68   \n",
      "2                 15.0                  54.0   0.9970  3.26       0.65   \n",
      "3                 17.0                  60.0   0.9980  3.16       0.58   \n",
      "4                 11.0                  34.0   0.9978  3.51       0.56   \n",
      "\n",
      "   alcohol  quality quality_class  \n",
      "0      9.4        5           bad  \n",
      "1      9.8        5           bad  \n",
      "2      9.8        5           bad  \n",
      "3      9.8        6          good  \n",
      "4      9.4        5           bad  \n"
     ]
    }
   ],
   "source": [
    "df = pd.read_csv('winequality_red.csv')\n",
    "df['quality_class'] = df['quality'].apply(lambda x: 'good' if x > 5 else 'bad')\n",
    "print(df.head())"
   ]
  },
  {
   "cell_type": "code",
   "execution_count": 13,
   "id": "20b74b95",
   "metadata": {},
   "outputs": [
    {
     "name": "stdout",
     "output_type": "stream",
     "text": [
      "\n",
      "Parâmetro: fixed acidity\n",
      "Teste: Mann-Whitney U test\n",
      "Estatística do teste: 347895.50, P-value: 0.0012\n",
      "Diferença significativa entre as classes.\n",
      "\n",
      "Parâmetro: volatile acidity\n",
      "Teste: Mann-Whitney U test\n",
      "Estatística do teste: 197208.00, P-value: 0.0000\n",
      "Diferença significativa entre as classes.\n",
      "\n",
      "Parâmetro: citric acid\n",
      "Teste: Mann-Whitney U test\n",
      "Estatística do teste: 376272.50, P-value: 0.0000\n",
      "Diferença significativa entre as classes.\n",
      "\n",
      "Parâmetro: residual sugar\n",
      "Teste: Mann-Whitney U test\n",
      "Estatística do teste: 323150.50, P-value: 0.5797\n",
      "Nenhuma diferença significativa entre as classes.\n",
      "\n",
      "Parâmetro: chlorides\n",
      "Teste: Mann-Whitney U test\n",
      "Estatística do teste: 254091.00, P-value: 0.0000\n",
      "Diferença significativa entre as classes.\n",
      "\n",
      "Parâmetro: free sulfur dioxide\n",
      "Teste: Mann-Whitney U test\n",
      "Estatística do teste: 298401.50, P-value: 0.0326\n",
      "Diferença significativa entre as classes.\n",
      "\n",
      "Parâmetro: total sulfur dioxide\n",
      "Teste: Mann-Whitney U test\n",
      "Estatística do teste: 245006.00, P-value: 0.0000\n",
      "Diferença significativa entre as classes.\n",
      "\n",
      "Parâmetro: density\n",
      "Teste: Mann-Whitney U test\n",
      "Estatística do teste: 257552.00, P-value: 0.0000\n",
      "Diferença significativa entre as classes.\n",
      "\n",
      "Parâmetro: pH\n",
      "Teste: Mann-Whitney U test\n",
      "Estatística do teste: 316157.50, P-value: 0.8363\n",
      "Nenhuma diferença significativa entre as classes.\n",
      "\n",
      "Parâmetro: sulphates\n",
      "Teste: Mann-Whitney U test\n",
      "Estatística do teste: 440968.00, P-value: 0.0000\n",
      "Diferença significativa entre as classes.\n",
      "\n",
      "Parâmetro: alcohol\n",
      "Teste: Mann-Whitney U test\n",
      "Estatística do teste: 481313.00, P-value: 0.0000\n",
      "Diferença significativa entre as classes.\n"
     ]
    }
   ],
   "source": [
    "parameters = df.drop(columns=['quality', 'quality_class'])\n",
    "\n",
    "# Realizar o teste para cada parâmetro\n",
    "for param in parameters.columns:\n",
    "    good = df[df['quality_class'] == 'good'][param]\n",
    "    bad = df[df['quality_class'] == 'bad'][param]\n",
    "    \n",
    "    # Testar a normalidade dos dados (Shapiro-Wilk)\n",
    "    _, p_normal_good = stats.shapiro(good)\n",
    "    _, p_normal_bad = stats.shapiro(bad)\n",
    "\n",
    "    # Se ambos os grupos forem normais, usamos o teste t de Student\n",
    "    if p_normal_good > 0.05 and p_normal_bad > 0.05:\n",
    "        t_stat, p_value = stats.ttest_ind(good, bad)\n",
    "        test_type = 't-test'\n",
    "    else:\n",
    "        # Caso contrário, usamos o teste Mann-Whitney U\n",
    "        u_stat, p_value = stats.mannwhitneyu(good, bad)\n",
    "        t_stat = u_stat\n",
    "        test_type = 'Mann-Whitney U test'\n",
    "    \n",
    "    # Exibir os resultados para o parâmetro\n",
    "    print(f\"\\nParâmetro: {param}\")\n",
    "    print(f\"Teste: {test_type}\")\n",
    "    print(f\"Estatística do teste: {t_stat:.2f}, P-value: {p_value:.4f}\")\n",
    "\n",
    "    # Determinar se a diferença é significativa\n",
    "    if p_value < 0.05:\n",
    "        print(\"Diferença significativa entre as classes.\")\n",
    "    else:\n",
    "        print(\"Nenhuma diferença significativa entre as classes.\")"
   ]
  }
 ],
 "metadata": {
  "kernelspec": {
   "display_name": "Python 3",
   "language": "python",
   "name": "python3"
  },
  "language_info": {
   "codemirror_mode": {
    "name": "ipython",
    "version": 3
   },
   "file_extension": ".py",
   "mimetype": "text/x-python",
   "name": "python",
   "nbconvert_exporter": "python",
   "pygments_lexer": "ipython3",
   "version": "3.13.2"
  }
 },
 "nbformat": 4,
 "nbformat_minor": 5
}
