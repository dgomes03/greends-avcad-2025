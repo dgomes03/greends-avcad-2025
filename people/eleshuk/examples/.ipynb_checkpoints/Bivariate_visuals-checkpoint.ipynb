{
 "cells": [
  {
   "attachments": {},
   "cell_type": "markdown",
   "metadata": {},
   "source": [
    "# Analysis and Visualization of Complex Agro-Environmental Data\n",
    "---\n",
    "## Bivariate analysis and visualization"
   ]
  },
  {
   "cell_type": "code",
   "execution_count": null,
   "metadata": {},
   "outputs": [],
   "source": [
    "import pandas as pd\n",
    "import zipfile\n",
    "import seaborn as sns # For plotting\n",
    "import matplotlib.pyplot as plt # For showing plots"
   ]
  },
  {
   "cell_type": "code",
   "execution_count": null,
   "metadata": {},
   "outputs": [],
   "source": [
    "df = pd.read_csv('EFIplus_medit.zip',compression='zip', sep=\";\")"
   ]
  },
  {
   "cell_type": "code",
   "execution_count": null,
   "metadata": {},
   "outputs": [],
   "source": [
    "# clean up the dataset to remove unnecessary columns (eg. REG) \n",
    "df.drop(df.iloc[:,5:15], axis=1, inplace=True)\n",
    "\n",
    "# let's rename some columns so that they make sense\n",
    "df.rename(columns={'Sum of Run1_number_all':'Total_fish_individuals'}, inplace=True) # inplace=\"True\" means that df will be updated\n",
    "\n",
    "# for sake of consistency, let's also make all column labels of type string\n",
    "df.columns = list(map(str, df.columns))"
   ]
  },
  {
   "cell_type": "code",
   "execution_count": null,
   "metadata": {},
   "outputs": [],
   "source": [
    "# Check data types\n",
    "pd.options.display.max_rows = 154 # maximum number of rows displayed.\n",
    "df.dtypes"
   ]
  },
  {
   "attachments": {},
   "cell_type": "markdown",
   "metadata": {},
   "source": [
    "### Visualizing pairs of `categorical` variables"
   ]
  },
  {
   "attachments": {},
   "cell_type": "markdown",
   "metadata": {},
   "source": [
    "#### Crosstabulate categorical data"
   ]
  },
  {
   "cell_type": "code",
   "execution_count": null,
   "metadata": {},
   "outputs": [],
   "source": [
    "ctab = pd.crosstab(df['Eutrophication'], df['Salmo trutta fario'])\n",
    "print(ctab)"
   ]
  },
  {
   "attachments": {},
   "cell_type": "markdown",
   "metadata": {},
   "source": [
    "#### Barplot"
   ]
  },
  {
   "cell_type": "code",
   "execution_count": null,
   "metadata": {},
   "outputs": [],
   "source": [
    "\n",
    "# Creating barplot from crosstable\n",
    "barplot = ctab.plot.bar(rot=0)"
   ]
  },
  {
   "attachments": {},
   "cell_type": "markdown",
   "metadata": {},
   "source": [
    "### visualizing `categorical` *versus* `continuous` variables"
   ]
  },
  {
   "attachments": {},
   "cell_type": "markdown",
   "metadata": {},
   "source": [
    "#### Barplots\n",
    "\n",
    "`Barplots` are typically used to visualize quantitative variables against categorical variables. This visualization is preferred when there is a limited number of categories and are used when the focus is on comparing quantities. If each category has a correspondent sample of observations, then barplots must show error bars to express data variability."
   ]
  },
  {
   "cell_type": "code",
   "execution_count": null,
   "metadata": {},
   "outputs": [],
   "source": [
    "sns.barplot(data=df, x=\"Country\", y=\"prec_ann_catch\")\n",
    "plt.ylabel( \"Mean Total Annual Precipitation \\n in the Upstream Catchment\" , size = 10) \n",
    "plt.show()"
   ]
  },
  {
   "cell_type": "code",
   "execution_count": null,
   "metadata": {},
   "outputs": [],
   "source": [
    "sns.barplot(data=df, x=\"Catchment_name\", y=\"prec_ann_catch\")\n",
    "plt.xlabel( \"Catchment\" , size = 10) \n",
    "plt.ylabel( \"Mean Total Annual Precipitation \\n in the Upstream Catchment\" , size = 10) \n",
    "plt.xticks(rotation=90)\n",
    "plt.show()"
   ]
  },
  {
   "cell_type": "code",
   "execution_count": null,
   "metadata": {},
   "outputs": [],
   "source": [
    "sns.barplot(data=df, x=\"Catchment_name\", y=\"prec_ann_catch\", color=\"skyblue\")\n",
    "plt.xlabel( \"Catchment\" , size = 10) \n",
    "plt.ylabel( \"Mean Total Annual Precipitation \\n in the Upstream Catchment\" , size = 10) \n",
    "plt.xticks(rotation=90)\n",
    "plt.show()"
   ]
  },
  {
   "attachments": {},
   "cell_type": "markdown",
   "metadata": {
    "vscode": {
     "languageId": "python"
    }
   },
   "source": [
    "#### Boxplots\n",
    "\n",
    "`Boxplots` are also often use to visualize quantitative variables against categorical variables but now the focus is on analysing overlap among samples' distributions."
   ]
  },
  {
   "cell_type": "code",
   "execution_count": null,
   "metadata": {},
   "outputs": [],
   "source": [
    "sns.boxplot(x=\"Country\", y=\"prec_ann_catch\", data=df)\n",
    "plt.ylabel( \"Mean Total Annual Precipitation \\n in the Upstream Catchment\" , size = 10) \n",
    "plt.show()"
   ]
  },
  {
   "attachments": {},
   "cell_type": "markdown",
   "metadata": {},
   "source": [
    "#### violin plots\n",
    "\n",
    "`violin plots` are increasingly used over boxplot to analyse overlap among samples. The probability distribution allows more detail on analysing overlap among samples.  "
   ]
  },
  {
   "cell_type": "code",
   "execution_count": null,
   "metadata": {},
   "outputs": [],
   "source": [
    "dfsub = df[(df['Catchment_name']=='Mondego') | \n",
    "    (df['Catchment_name']=='Douro') |\n",
    "    (df['Catchment_name']=='Minho') |\n",
    "    (df['Catchment_name']=='Tejo')\n",
    "    ]\n",
    "sns.violinplot(\n",
    "    data= dfsub,\n",
    "    x='temp_ann',\n",
    "    y='Catchment_name',\n",
    "    color='#219ebc', # HEX color picked from here: https://coolors.co/palettes/trending - don't forget to start by \"#\"\n",
    "    )\n",
    "plt.tick_params(left=False) # removes tickmarks\n",
    "sns.despine(left=True)\n",
    "plt.xlabel('Mean Annual Temperature')\n",
    "plt.ylabel('')\n",
    "plt.show()"
   ]
  },
  {
   "attachments": {},
   "cell_type": "markdown",
   "metadata": {},
   "source": [
    "#### Stripplots\n",
    "\n",
    "`Stripplots` are used with the same end as boxplots and violin plots. A `jitter` function is used to randomly display data points along an axis that is perpendicular to the continuous variable axis, which forms a strip of variable width where obervations are plotted. "
   ]
  },
  {
   "cell_type": "code",
   "execution_count": null,
   "metadata": {},
   "outputs": [],
   "source": [
    "dfsub = df[(df['Catchment_name']=='Mondego') | \n",
    "    (df['Catchment_name']=='Douro') |\n",
    "    (df['Catchment_name']=='Minho') |\n",
    "    (df['Catchment_name']=='Tejo')\n",
    "    ]\n",
    "\n",
    "sns.stripplot(\n",
    "    data= dfsub,\n",
    "    x='temp_ann',\n",
    "    y='Catchment_name',\n",
    "    jitter=0.3, # the ammount of jitter (i.e. random point dispersion along the x-axis).\n",
    "    linewidth=0, # no line around the points\n",
    "    color='#c490d1', # HEX color picked from here: https://coolors.co/palettes/trending - don't forget to start by \"#\"\n",
    "    alpha=.7,\n",
    "    s=5 # point size\n",
    "    )\n",
    "plt.tick_params(left=False) # removes bottom tickmarks\n",
    "sns.despine(left=True)\n",
    "plt.xlabel('Mean Annual Temperature')\n",
    "plt.ylabel('')\n",
    "plt.show()"
   ]
  },
  {
   "attachments": {},
   "cell_type": "markdown",
   "metadata": {},
   "source": [
    "#### Mixed visualizations\n",
    "\n",
    "It is becoming frequent to mix visualizations such as boxplots, violin plots and strip plots in the same plot, offering complementary information about the data."
   ]
  },
  {
   "attachments": {},
   "cell_type": "markdown",
   "metadata": {},
   "source": [
    "##### Box plots with jitter"
   ]
  },
  {
   "cell_type": "code",
   "execution_count": null,
   "metadata": {},
   "outputs": [],
   "source": [
    "\n",
    "dfsub = df[(df['Catchment_name']=='Mondego') | \n",
    "    (df['Catchment_name']=='Douro') |\n",
    "    (df['Catchment_name']=='Minho') |\n",
    "    (df['Catchment_name']=='Tejo')\n",
    "    ]\n",
    "sns.boxplot(\n",
    "    data= dfsub,\n",
    "    x='temp_ann',\n",
    "    y='Catchment_name',\n",
    "    width=0.4,\n",
    "    fliersize=0,\n",
    "    color='#219ebc', # HEX color picked from here: https://coolors.co/palettes/trending - don't forget to start by \"#\"\n",
    "    )\n",
    "sns.stripplot(\n",
    "    data= dfsub,\n",
    "    x='temp_ann',\n",
    "    y='Catchment_name',\n",
    "    jitter=0.1, # the ammount of jitter (i.e. random point dispersion along the x-axis).\n",
    "    linewidth=0, # no line around the poits\n",
    "    color='#9e2a2b', # HEX color picked from here: https://coolors.co/palettes/trending - don't forget to start by \"#\"\n",
    "    alpha=.3,\n",
    "    s=3, # point size\n",
    "    )\n",
    "plt.tick_params(left=False) # removes tickmarks\n",
    "sns.despine(left=True)\n",
    "plt.xlabel('Mean Annual Temperature')\n",
    "plt.ylabel('')\n",
    "plt.show()"
   ]
  },
  {
   "cell_type": "markdown",
   "metadata": {},
   "source": [
    "##### Raincloud plots"
   ]
  },
  {
   "cell_type": "code",
   "execution_count": null,
   "metadata": {},
   "outputs": [],
   "source": [
    "import ptitprince as pt\n",
    "\n",
    "pt.RainCloud(x='Country', y=\"prec_ann_catch\", data=df, \n",
    "             bw=0.2, # defines how smooth is the distribution curve of the violin plot (cloud)\n",
    "             width_viol=1.2, # width of the half violin (cloud)\n",
    "             width_box=0.15, # wdth of the box\n",
    "             orient='h', # orientation\n",
    "             move=0.15, #position of the strip plot\n",
    "             offset=0,# relative position of the half violin (cloud) in relation to the boxplot\n",
    "             jitter=0.09) # allows to define the width of the strip plot (rain)\n",
    "\n",
    "plt.title(\"Raincloud plot of Total Annual Precipitation\")\n",
    "plt.xlabel( \"Mean Total Annual Precipitation in the Upstream Catchment\" , size = 10)\n",
    "plt.ylabel(\"\")\n",
    "plt.show()"
   ]
  },
  {
   "attachments": {},
   "cell_type": "markdown",
   "metadata": {},
   "source": [
    "### visualizing pairs of `continuous` variables"
   ]
  },
  {
   "attachments": {},
   "cell_type": "markdown",
   "metadata": {},
   "source": [
    "#### Line plot\n",
    "\n",
    "Line plots are typically used to plot a variable against time.\n",
    "\n",
    "But it can make some sense in other situations, such as in the following example:"
   ]
  },
  {
   "cell_type": "code",
   "execution_count": null,
   "metadata": {},
   "outputs": [],
   "source": [
    "sns.lineplot(data=df, x='temp_ann', y='Elevation_mean_catch')\n",
    "plt.xlabel( \"Mean Annual Temperature\" , size = 10) \n",
    "plt.ylabel( \"Mean Elevation \\n in the Upstream Catchment\" , size = 10) \n",
    "plt.show()"
   ]
  },
  {
   "attachments": {},
   "cell_type": "markdown",
   "metadata": {},
   "source": [
    "#### Scatter plots\n",
    "\n",
    "`scatter plots` are a useful method of comparing continuous variables against each other. They often are used to map independent and dependent variables on a 2D graph. The data in a scatter plot is considered to express a trend. With further analysis using tools like regression, we can mathematically calculate this relationship and use it to predict trends outside the dataset."
   ]
  },
  {
   "cell_type": "code",
   "execution_count": null,
   "metadata": {},
   "outputs": [],
   "source": [
    "sns.scatterplot(data=df, x='Elevation_mean_catch', y='prec_ann_catch')\n",
    "plt.xlabel( \"Mean Elevation \\n in the Upstream Catchment\" , size = 10) \n",
    "plt.ylabel( \"Mean Total Annual Precipitation \\n in the Upstream Catchment\" , size = 10) \n",
    "plt.show()"
   ]
  },
  {
   "cell_type": "markdown",
   "metadata": {},
   "source": [
    "#### Joint plots\n",
    "\n",
    "A Jointplot is a figure that showcases the relationship between two variables, combining scatter plots, hexbin plots, regression plots, or 2D kernel density plots with histograms, KDE (Kernel Density Estimate) plots, or other representations of the univariate distribution of each variable on the margins.\n",
    "\n",
    "Run codes bellow for some examples using Mean Total Annual Precipitation against Mean Elevation:"
   ]
  },
  {
   "cell_type": "code",
   "execution_count": null,
   "metadata": {},
   "outputs": [],
   "source": [
    "# Scatter plot with histograms\n",
    "\n",
    "g = sns.jointplot(data=df, x='Elevation_mean_catch', y='prec_ann_catch')\n",
    "g.ax_joint.set_xlabel('Mean Elevation \\n in the Upstream Catchment') # NOTE: it's not possible to use plt.xlabel to change axis titles in the case of jointplots\n",
    "g.ax_joint.set_ylabel('Mean Total Annual Precipitation \\n in the Upstream Catchment')\n",
    "plt.show()"
   ]
  },
  {
   "cell_type": "code",
   "execution_count": null,
   "metadata": {},
   "outputs": [],
   "source": [
    "# Scatter plot with boxplots\n",
    "\n",
    "g = sns.JointGrid(data=df, x='Elevation_mean_catch', y='prec_ann_catch')\n",
    "g.plot(sns.scatterplot, sns.boxplot)\n",
    "g.ax_joint.set_xlabel('Mean Elevation \\n in the Upstream Catchment') # NOTE: it's not possible to use plt.xlabel to change axis titles\n",
    "g.ax_joint.set_ylabel('Mean Total Annual Precipitation \\n in the Upstream Catchment')\n",
    "plt.show()"
   ]
  },
  {
   "cell_type": "code",
   "execution_count": null,
   "metadata": {},
   "outputs": [],
   "source": [
    "# Scatter plot with regression line and boxplots\n",
    "\n",
    "g = sns.JointGrid(data=df[df['Catchment_name']=='Mondego'], x='Elevation_mean_catch', y='prec_ann_catch')\n",
    "g.plot(sns.regplot, sns.boxplot)\n",
    "g.ax_joint.set_xlabel('Mean Elevation \\n in the Upstream Catchment') # NOTE: it's not possible to use plt.xlabel to change axis titles\n",
    "g.ax_joint.set_ylabel('Mean Total Annual Precipitation \\n in the Upstream Catchment')\n",
    "plt.show()"
   ]
  },
  {
   "cell_type": "code",
   "execution_count": null,
   "metadata": {},
   "outputs": [],
   "source": [
    "# Heat plot and histograms\n",
    "g = sns.jointplot(data=df, x='Elevation_mean_catch', y='prec_ann_catch', kind=\"hist\")\n",
    "g.ax_joint.set_xlabel('Mean Elevation \\n in the Upstream Catchment') # NOTE: it's not possible to use plt.xlabel to change axis titles\n",
    "g.ax_joint.set_ylabel('Mean Total Annual Precipitation \\n in the Upstream Catchment')\n",
    "plt.show()"
   ]
  },
  {
   "cell_type": "code",
   "execution_count": null,
   "metadata": {},
   "outputs": [],
   "source": [
    "# Hexbin plot with histogram\n",
    "\n",
    "g = sns.jointplot(data=df, x='Elevation_mean_catch', y='prec_ann_catch', kind=\"hex\")\n",
    "g.ax_joint.set_xlabel('Mean Elevation \\n in the Upstream Catchment') # NOTE: it's not possible to use plt.xlabel to change axis titles\n",
    "g.ax_joint.set_ylabel('Mean Total Annual Precipitation \\n in the Upstream Catchment')\n",
    "plt.show()"
   ]
  },
  {
   "cell_type": "code",
   "execution_count": null,
   "metadata": {},
   "outputs": [],
   "source": [
    "# KDE plots with rugplots and histograms\n",
    "\n",
    "g = sns.jointplot(data=df, x='Elevation_mean_catch', y='prec_ann_catch')\n",
    "g.plot_joint(sns.kdeplot, color=\"r\", zorder=1, levels=6)\n",
    "g.plot_marginals(sns.rugplot, color=\"r\", height=-.15, clip_on=False)\n",
    "g.ax_joint.set_xlabel('Mean Elevation \\n in the Upstream Catchment') # NOTE: it's not possible to use plt.xlabel to change axis titles\n",
    "g.ax_joint.set_ylabel('Mean Total Annual Precipitation \\n in the Upstream Catchment')\n",
    "plt.show()"
   ]
  },
  {
   "cell_type": "code",
   "execution_count": null,
   "metadata": {},
   "outputs": [],
   "source": [
    "# Scatterplots with categorical variable\n",
    "\n",
    "sns.scatterplot(data=df, x='Elevation_mean_catch', y='prec_ann_catch', hue='Country', palette=\"colorblind\")\n",
    "plt.xlabel( \"Mean Elevation \\n in the Upstream Catchment\" , size = 10) \n",
    "plt.ylabel( \"Mean Total Annual Precipitation \\n in the Upstream Catchment\" , size = 10) \n",
    "plt.show()"
   ]
  },
  {
   "cell_type": "code",
   "execution_count": null,
   "metadata": {},
   "outputs": [],
   "source": [
    "# Scatter plot with categorical variable and univariate KDE plot\n",
    "\n",
    "g = sns.jointplot(data=df, x='Elevation_mean_catch', y='prec_ann_catch', hue='Country')\n",
    "g.ax_joint.set_xlabel('Mean Elevation \\n in the Upstream Catchment') # NOTE: it's not possible to use plt.xlabel to change axis titles\n",
    "g.ax_joint.set_ylabel('Mean Total Annual Precipitation \\n in the Upstream Catchment')\n",
    "plt.show()"
   ]
  },
  {
   "cell_type": "code",
   "execution_count": null,
   "metadata": {},
   "outputs": [],
   "source": [
    "# Bivariate and univariate KDE plots\n",
    "\n",
    "g = sns.jointplot(data=df, x='Elevation_mean_catch', y='prec_ann_catch', hue='Country', kind=\"kde\")\n",
    "g.ax_joint.set_xlabel('Mean Elevation \\n in the Upstream Catchment') # NOTE: it's not possible to use plt.xlabel to change axis titles\n",
    "g.ax_joint.set_ylabel('Mean Total Annual Precipitation \\n in the Upstream Catchment')\n",
    "plt.show()"
   ]
  }
 ],
 "metadata": {
  "kernelspec": {
   "display_name": "Python 3",
   "language": "python",
   "name": "python3"
  },
  "language_info": {
   "codemirror_mode": {
    "name": "ipython",
    "version": 3
   },
   "file_extension": ".py",
   "mimetype": "text/x-python",
   "name": "python",
   "nbconvert_exporter": "python",
   "pygments_lexer": "ipython3",
   "version": "3.11.2"
  },
  "orig_nbformat": 4
 },
 "nbformat": 4,
 "nbformat_minor": 2
}
