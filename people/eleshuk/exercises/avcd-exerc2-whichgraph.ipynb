{
 "cells": [
  {
   "cell_type": "markdown",
   "metadata": {},
   "source": [
    "## Exercise 02 - Best charts to represent different data or dataset types.\n",
    "Each type of data or datasets is best visualized by certain kinds of charts, depending on both the targeted audience as well as the personal preferences of the data visualizer. In this exercise you will first simulate different types of data and datasets in python. Randomizations are useful to understand certain statistical concepts and also as a basis for random sampling, which may be required when dealing with big data. Based on these simulated data, the exercise will consist on choosing the type of chart that you find more adequate to represent the different types of data and datasets.\n",
    "\n",
    "The objectives of this exercise are to:\n",
    "\n",
    "1. identify each type of variables and tables that were created.\n",
    "2. try your best to interpret each line of the code provided.\n",
    "3. based on these simulated data, insert markdown boxes to this notebook writing the type of chart that you find more adequate to represent the different types of data and datasets, justifying your choices. You should identify the different axis of the plot, if applicable. Don't forget that drawing sketches might help! You may get some help from this site: https://datavizproject.com/\n",
    "\n",
    "You will use two modules that provide pseudo-random number generators to implement random sampling routines. Have a look here (random module) and here (numpy.random module). Both allow to simulate data and take random samples, although np.random allows more pseudo-random generator methods to be implemented.\n",
    "\n",
    "To run the simulations, you should first import pandas, numpy and random modules (in case you still did not installed these modules, you will need to install beforehand)."
   ]
  },
  {
   "cell_type": "code",
   "execution_count": 1,
   "metadata": {},
   "outputs": [],
   "source": [
    "import pandas as pd\n",
    "import numpy as np\n",
    "import random"
   ]
  },
  {
   "cell_type": "code",
   "execution_count": 2,
   "metadata": {},
   "outputs": [
    {
     "name": "stdout",
     "output_type": "stream",
     "text": [
      "['Pasture', 'Managed Forest', 'Natural Forest', 'Managed Forest', 'Natural Forest', 'Managed Forest', 'Irrigated crops', 'Managed Forest', 'Agro-Forestry system', 'Permanent crops', 'Shrubland', 'Shrubland', 'Irrigated crops', 'Permanent crops', 'Managed Forest', 'Shrubland', 'Shrubland', 'Agro-Forestry system', 'Shrubland', 'Irrigated crops', 'Agro-Forestry system', 'Managed Forest', 'Urban', 'Agro-Forestry system', 'Irrigated crops', 'Urban', 'Permanent crops', 'Natural Forest', 'Urban', 'Urban', 'Irrigated crops', 'Agro-Forestry system', 'Irrigated crops', 'Natural Forest', 'Managed Forest', 'Shrubland', 'Agro-Forestry system', 'Agro-Forestry system', 'Agro-Forestry system', 'Natural Forest', 'Irrigated crops', 'Shrubland', 'Managed Forest', 'Managed Forest', 'Urban', 'Shrubland', 'Natural Forest', 'Managed Forest', 'Shrubland', 'Agro-Forestry system', 'Natural Forest', 'Natural Forest', 'Irrigated crops', 'Managed Forest', 'Agro-Forestry system', 'Urban', 'Natural Forest', 'Pasture', 'Natural Forest', 'Agro-Forestry system', 'Pasture', 'Irrigated crops', 'Shrubland', 'Urban', 'Urban', 'Agro-Forestry system', 'Managed Forest', 'Pasture', 'Urban', 'Natural Forest', 'Urban', 'Permanent crops', 'Permanent crops', 'Shrubland', 'Urban', 'Shrubland', 'Shrubland', 'Irrigated crops', 'Permanent crops', 'Irrigated crops', 'Urban', 'Pasture', 'Pasture', 'Shrubland', 'Pasture', 'Pasture', 'Natural Forest', 'Agro-Forestry system', 'Agro-Forestry system', 'Urban', 'Agro-Forestry system', 'Managed Forest', 'Urban', 'Irrigated crops', 'Permanent crops', 'Agro-Forestry system', 'Permanent crops', 'Pasture', 'Pasture', 'Pasture']\n"
     ]
    }
   ],
   "source": [
    "# Simulate var1\n",
    "var1 = []\n",
    "random.seed(24) # optional: used to fix the seed of the pseudo-random number generator (use any number of your choice)\n",
    "levels = [\"Permanent crops\", \"Irrigated crops\", \"Managed Forest\", \"Natural Forest\", \"Agro-Forestry system\", \"Urban\", \"Pasture\", \"Shrubland\"]\n",
    "for _ in range(100): # a loop is needed because random.sample selects unique elements (with no replacement)\n",
    "    var1 += random.sample(levels, 1) # var1.append(random.sample(levels, 1)) would also work\n",
    "print(var1)"
   ]
  },
  {
   "cell_type": "code",
   "execution_count": 23,
   "metadata": {},
   "outputs": [],
   "source": [
    "# alternative to run a random sampling with replacement (using numpy)\n",
    "levels = np.array([\"Permanent crops\", \"Irrigated crops\", \"Managed Forest\", \"Natural Forest\", \"Agro-Forestry system\", \"Urban\", \"Pasture\", \"Shrubland\"])\n",
    "sampler = np.random.randint(0, len(levels), 100) # 100 random values within an interval (0 to 7)\n",
    "var1 = levels.take(sampler) # use sampler to select values from \"levels\"; take - returns elements from array along the mentioned axis and indices\n",
    "# print(var1)"
   ]
  },
  {
   "cell_type": "code",
   "execution_count": 14,
   "metadata": {},
   "outputs": [
    {
     "data": {
      "text/plain": [
       "numpy.ndarray"
      ]
     },
     "execution_count": 14,
     "metadata": {},
     "output_type": "execute_result"
    }
   ],
   "source": [
    "sampler = np.random.randint(0, len(levels), 100)\n",
    "type(sampler)"
   ]
  },
  {
   "cell_type": "code",
   "execution_count": 24,
   "metadata": {},
   "outputs": [],
   "source": [
    "# Simulate var2\n",
    "np.random.seed(24) # optional: used to fix the seed of the pseudo-random number generator (use any number of your choice)\n",
    "var2 = np.random.uniform(0, 100, 100)\n",
    "# print(var2)"
   ]
  },
  {
   "cell_type": "code",
   "execution_count": 16,
   "metadata": {},
   "outputs": [
    {
     "name": "stdout",
     "output_type": "stream",
     "text": [
      "                landuse  Frequency\n",
      "0       Permanent crops         17\n",
      "1  Agro-Forestry system         15\n",
      "2               Pasture         14\n",
      "3             Shrubland         13\n",
      "4        Natural Forest         12\n",
      "5       Irrigated crops         11\n",
      "6        Managed Forest         10\n",
      "7                 Urban          8\n"
     ]
    }
   ],
   "source": [
    "# Simulate table1\n",
    "table1 = pd.DataFrame(var1).value_counts(sort=True)\n",
    "table1 = table1.rename_axis(\"landuse\")\n",
    "table1 = table1.reset_index(name=\"Frequency\")\n",
    "print(table1)"
   ]
  },
  {
   "cell_type": "markdown",
   "metadata": {},
   "source": [
    "### My notes\n",
    "1. Variables: landuse, number of times each landuse type appears in the table\n",
    "2. Code interpretation:\n",
    "    - A df is being made using the land use categories that were defined earlier, counting the amount of each type, and ordering decending\n",
    "    - The var1 column is being renamed to \"landuse\"\n",
    "    - The index is named \"Frequency\"\n",
    "3. Best type of chart: bar chart with land use on the x-axis and the count of each land use type on the y-axis\n",
    "    - Good for comparing categorical data, easy to visually identify occurences of each landuse type"
   ]
  },
  {
   "cell_type": "code",
   "execution_count": 7,
   "metadata": {},
   "outputs": [
    {
     "name": "stdout",
     "output_type": "stream",
     "text": [
      "                 landuse      cover\n",
      "0   Agro-Forestry system  96.001730\n",
      "1                  Urban  69.951205\n",
      "2   Agro-Forestry system  99.986729\n",
      "3                Pasture  22.006730\n",
      "4        Permanent crops  36.105635\n",
      "..                   ...        ...\n",
      "95       Irrigated crops  27.560264\n",
      "96       Irrigated crops  60.397982\n",
      "97                 Urban  54.597285\n",
      "98        Natural Forest  20.978981\n",
      "99  Agro-Forestry system  13.612275\n",
      "\n",
      "[100 rows x 2 columns]\n"
     ]
    }
   ],
   "source": [
    "# Simulate table2\n",
    "table2 = pd.DataFrame(list(zip(var1, var2)), columns = [\"landuse\", \"cover\"])\n",
    "print(table2)"
   ]
  },
  {
   "cell_type": "markdown",
   "metadata": {},
   "source": [
    "### My notes\n",
    "1. Variables: landuse, area of each landuse type\n",
    "2. Code interpretation:\n",
    "    - A df is being made using the land use categories that were defined earlier, and a value for cover is assigned based on the var2 numbers\n",
    "        - The zip() function is being used to paid a land use variable with a cover variable\n",
    "    - Column names are assigned\n",
    "3. Best type of chart:\n",
    "    - Bar chart with land use on the x-axis and cover on the y-axis. Could also use a pie chart if you wanted to indicate the proportion of each land use cover type\n",
    "    - Bar chart is best for comparing the cover of each land type\n",
    "    - Pie chart isn't as good for comparing exact proportions of land cover types, but gives a good general idea"
   ]
  },
  {
   "attachments": {},
   "cell_type": "markdown",
   "metadata": {},
   "source": [
    "Note: The zip() function returns a zip object, which is an iterator of tuples where the first item in each passed iterator is paired together, and then the second item in each passed iterator are paired together, etc. The tuple() function displays a readable version of the result - try running: print(tuple(zip(var1,var2)))"
   ]
  },
  {
   "cell_type": "code",
   "execution_count": 17,
   "metadata": {},
   "outputs": [],
   "source": [
    "# print(tuple(zip(var1,var2)))"
   ]
  },
  {
   "cell_type": "code",
   "execution_count": 22,
   "metadata": {},
   "outputs": [
    {
     "data": {
      "text/html": [
       "<div>\n",
       "<style scoped>\n",
       "    .dataframe tbody tr th:only-of-type {\n",
       "        vertical-align: middle;\n",
       "    }\n",
       "\n",
       "    .dataframe tbody tr th {\n",
       "        vertical-align: top;\n",
       "    }\n",
       "\n",
       "    .dataframe thead th {\n",
       "        text-align: right;\n",
       "    }\n",
       "</style>\n",
       "<table border=\"1\" class=\"dataframe\">\n",
       "  <thead>\n",
       "    <tr style=\"text-align: right;\">\n",
       "      <th></th>\n",
       "      <th>Year</th>\n",
       "      <th>Temperature</th>\n",
       "    </tr>\n",
       "  </thead>\n",
       "  <tbody>\n",
       "    <tr>\n",
       "      <th>0</th>\n",
       "      <td>1970</td>\n",
       "      <td>19.658424</td>\n",
       "    </tr>\n",
       "    <tr>\n",
       "      <th>1</th>\n",
       "      <td>1971</td>\n",
       "      <td>15.459933</td>\n",
       "    </tr>\n",
       "    <tr>\n",
       "      <th>2</th>\n",
       "      <td>1972</td>\n",
       "      <td>16.367439</td>\n",
       "    </tr>\n",
       "    <tr>\n",
       "      <th>3</th>\n",
       "      <td>1973</td>\n",
       "      <td>15.018379</td>\n",
       "    </tr>\n",
       "    <tr>\n",
       "      <th>4</th>\n",
       "      <td>1974</td>\n",
       "      <td>14.858367</td>\n",
       "    </tr>\n",
       "  </tbody>\n",
       "</table>\n",
       "</div>"
      ],
      "text/plain": [
       "   Year  Temperature\n",
       "0  1970    19.658424\n",
       "1  1971    15.459933\n",
       "2  1972    16.367439\n",
       "3  1973    15.018379\n",
       "4  1974    14.858367"
      ]
     },
     "execution_count": 22,
     "metadata": {},
     "output_type": "execute_result"
    }
   ],
   "source": [
    "# Simulate table3\n",
    "np.random.seed(24) # optional: used to fix the seed of the pseudo-random number generator (use any number of your choice)\n",
    "year = list(range(1970,2021))\n",
    "temp = np.random.normal(17,2,51)\n",
    "table3 = pd.DataFrame(list(zip(year, temp)), columns = [\"Year\", \"Temperature\"])\n",
    "table3.head()"
   ]
  },
  {
   "cell_type": "markdown",
   "metadata": {},
   "source": [
    "### My notes\n",
    "1. Variables: year, temperature\n",
    "2. Code interpretation:\n",
    "   - Create a list of numbers (years) between 1970 and 2021\n",
    "   - Create a list of 51 temperature values with a SD of 2 and an average of 17\n",
    "   - Creating a df by zipping a year to a temperature value\n",
    "   - Assigning column names\n",
    "4. Best type of chart:\n",
    "    - Line chart - x = year, y = temperature\n",
    "        - Good for visualizing temperature change over time\n",
    "    - Scatterplot - x = year, y = temperature\n",
    "        - Same as with line plot, just wouldn't have a line connecting the data points"
   ]
  },
  {
   "cell_type": "code",
   "execution_count": 10,
   "metadata": {},
   "outputs": [
    {
     "name": "stdout",
     "output_type": "stream",
     "text": [
      "    Mean Anual Temperature  Total Precipitation\n",
      "0                18.294961           909.201074\n",
      "1                18.556194           684.600944\n",
      "2                18.213491           840.320436\n",
      "3                18.157810           755.513792\n",
      "4                17.785119           824.875035\n",
      "..                     ...                  ...\n",
      "95               18.941036           608.551015\n",
      "96               18.339957           645.584342\n",
      "97               18.835738           610.889186\n",
      "98               18.311114           787.298732\n",
      "99               18.915846           691.382160\n",
      "\n",
      "[100 rows x 2 columns]\n"
     ]
    }
   ],
   "source": [
    "# Simulate table4\n",
    "xx = np.array([16,21])\n",
    "yy = np.array([300, 1200])\n",
    "means = [xx.mean(), yy.mean()]  \n",
    "stds = [xx.std() / 3, yy.std() / 3]\n",
    "corr = -0.7 # correlation\n",
    "covs = [[stds[0]**2          , stds[0]*stds[1]*corr], \n",
    "        [stds[0]*stds[1]*corr,           stds[1]**2]] # covariance matrix\n",
    "table4 = pd.DataFrame(np.random.multivariate_normal(means, covs, 100), columns = [\"Mean Anual Temperature\", \"Total Precipitation\"])\n",
    "print(table4)"
   ]
  },
  {
   "cell_type": "markdown",
   "metadata": {},
   "source": [
    "### My notes\n",
    "1. Variables: mean annual temperature, total precipitation\n",
    "2. Code interpretation:\n",
    "    - create two arrays\n",
    "    - Generate the means, standard deviation, assigne correlation coefficient, and a covariance matrix\n",
    "    - Create a df by generating 100 values using the means and covariance matrix\n",
    "4. Best type of chart:\n",
    "    - Scatterplot - x = mean annual temp, y = precipitation\n",
    "        - Allows for visualization of correlation between the two variables"
   ]
  },
  {
   "cell_type": "code",
   "execution_count": 11,
   "metadata": {},
   "outputs": [
    {
     "name": "stdout",
     "output_type": "stream",
     "text": [
      "    Year               Landuse      Cover\n",
      "0   1900       Permanent crops  77.543675\n",
      "1   1900       Irrigated crops  38.634305\n",
      "2   1900        Managed Forest  36.945386\n",
      "3   1900        Natural Forest  69.217019\n",
      "4   1900  Agro-Forestry system   4.370542\n",
      "..   ...                   ...        ...\n",
      "83  2000        Natural Forest  32.942488\n",
      "84  2000  Agro-Forestry system  68.643865\n",
      "85  2000                 Urban  34.579609\n",
      "86  2000               Pasture  45.485347\n",
      "87  2000             Shrubland  53.094214\n",
      "\n",
      "[88 rows x 3 columns]\n"
     ]
    }
   ],
   "source": [
    "# Simulate table5\n",
    "col1 = pd.Series(list(range(1900,2010,10))).repeat(8)\n",
    "col2 = [\"Permanent crops\", \"Irrigated crops\", \"Managed Forest\", \"Natural Forest\", \"Agro-Forestry system\", \"Urban\", \"Pasture\", \"Shrubland\" ]*11\n",
    "col3 = np.random.uniform(0, 100, 90)\n",
    "table5 = pd.DataFrame(list(zip(col1, col2, col3)), columns = [\"Year\", \"Landuse\", \"Cover\"])\n",
    "print(table5)"
   ]
  },
  {
   "cell_type": "markdown",
   "metadata": {},
   "source": [
    "### My notes\n",
    "1. Variables: year, landuse, cover\n",
    "2. Code interpretation:\n",
    "    - Creating a range of years to be used (col1)\n",
    "    - Assign land use type values (col2)\n",
    "    - Create a list of 90 numbers between 0 and 100 where each value has an equal opportunity to be selected. Decimals.\n",
    "    - Create a df by zipping three variables together and assigning column names\n",
    "4. Best type of chart:\n",
    "    - Stacked area plot\n",
    "        - x = year, y = cover\n",
    "        - Each year would have a piece of the stacked bar assigned to it to allow the viewer to see how the land use was distributed by year\n",
    "    - Line plot\n",
    "        - x = year, y = cover\n",
    "        - Each line would represent a different land use type, which allows for easy visualization of how land use changes over time"
   ]
  },
  {
   "cell_type": "code",
   "execution_count": null,
   "metadata": {},
   "outputs": [],
   "source": []
  },
  {
   "cell_type": "code",
   "execution_count": null,
   "metadata": {},
   "outputs": [],
   "source": []
  }
 ],
 "metadata": {
  "kernelspec": {
   "display_name": "Python 3 (ipykernel)",
   "language": "python",
   "name": "python3"
  },
  "language_info": {
   "codemirror_mode": {
    "name": "ipython",
    "version": 3
   },
   "file_extension": ".py",
   "mimetype": "text/x-python",
   "name": "python",
   "nbconvert_exporter": "python",
   "pygments_lexer": "ipython3",
   "version": "3.12.6"
  },
  "vscode": {
   "interpreter": {
    "hash": "f370ef58eb856835018c6f17435ba4383e967280d683e004a318f3d8dd5b0859"
   }
  }
 },
 "nbformat": 4,
 "nbformat_minor": 4
}
