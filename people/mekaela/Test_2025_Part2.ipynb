{
 "cells": [
  {
   "cell_type": "markdown",
   "metadata": {},
   "source": [
    "## Analysis and Visualization of Complex Agro-Environmental Data\n",
    "### 1st Test - 4 April 2025 - Part 2\n",
    "\n",
    "Full name: Mekaela Jade Stevenson\n",
    "\n",
    "Student number: 28525"
   ]
  },
  {
   "cell_type": "markdown",
   "metadata": {},
   "source": [
    "Preliminary steps:\n",
    "\n",
    "1. Import the necessary packages:"
   ]
  },
  {
   "cell_type": "code",
   "execution_count": 2,
   "metadata": {},
   "outputs": [],
   "source": [
    "import numpy as np\n",
    "import pandas as pd\n",
    "import matplotlib.pyplot as plt\n",
    "import seaborn as sns\n",
    "import scipy.stats as sts\n",
    "import zipfile\n",
    "import scikit_posthocs as sp\n",
    "import statsmodels.stats as stm\n",
    "from statsmodels.graphics.gofplots import qqplot\n",
    "import math"
   ]
  },
  {
   "cell_type": "markdown",
   "metadata": {},
   "source": [
    "\n",
    "2. Import the file named 'greenhouse_gas_inventory_data.zip' from here: https://github.com/isa-ulisboa/greends-avcad-2025/tree/main/examples to a Pandas Dataframe. \n",
    "\n",
    "The dataset is the Greenhouse Gas (GHG) Inventory Data, which contains information on anthropogenic emissions (in *kilotonne_co2_equivalent*) by sources of the following GHGs (carbon dioxide (CO2), methane (CH4), nitrous oxide (N2O), hydrofluorocarbons (HFCs), perfluorocarbons (PFCs), unspecified mix of HFCs and PFCs, sulphur hexafluoride (SF6) and nitrogen triflouride (NF3)) that are not controlled by the Montreal Protocol.\n",
    "It includes the following variables:\n",
    "\n",
    "\n",
    "| Index  | Variable           | Type                       | Description |\n",
    "|--------|--------------------|----------------------------|-------------|\n",
    "|0       | country_or_area    | Categorical variable       | Country name\n",
    "|1       |year                |Integer                     |Year\n",
    "|2       |value               |Continuous                  |GHG emmision value\n",
    "|3       |category            |Categorical                 |Type of GHG\n",
    "\n",
    "\n"
   ]
  },
  {
   "cell_type": "code",
   "execution_count": 4,
   "metadata": {},
   "outputs": [],
   "source": [
    "df = pd.read_csv('./greenhouse_gas_inventory_data.csv', sep=\",\")"
   ]
  },
  {
   "cell_type": "code",
   "execution_count": 5,
   "metadata": {},
   "outputs": [
    {
     "data": {
      "text/html": [
       "<div>\n",
       "<style scoped>\n",
       "    .dataframe tbody tr th:only-of-type {\n",
       "        vertical-align: middle;\n",
       "    }\n",
       "\n",
       "    .dataframe tbody tr th {\n",
       "        vertical-align: top;\n",
       "    }\n",
       "\n",
       "    .dataframe thead th {\n",
       "        text-align: right;\n",
       "    }\n",
       "</style>\n",
       "<table border=\"1\" class=\"dataframe\">\n",
       "  <thead>\n",
       "    <tr style=\"text-align: right;\">\n",
       "      <th></th>\n",
       "      <th>country_or_area</th>\n",
       "      <th>year</th>\n",
       "      <th>value</th>\n",
       "      <th>category</th>\n",
       "    </tr>\n",
       "  </thead>\n",
       "  <tbody>\n",
       "    <tr>\n",
       "      <th>0</th>\n",
       "      <td>Australia</td>\n",
       "      <td>2014</td>\n",
       "      <td>393126.946994</td>\n",
       "      <td>carbon_dioxide_co2_emissions_without_land_use_...</td>\n",
       "    </tr>\n",
       "    <tr>\n",
       "      <th>1</th>\n",
       "      <td>Australia</td>\n",
       "      <td>2013</td>\n",
       "      <td>396913.936530</td>\n",
       "      <td>carbon_dioxide_co2_emissions_without_land_use_...</td>\n",
       "    </tr>\n",
       "    <tr>\n",
       "      <th>2</th>\n",
       "      <td>Australia</td>\n",
       "      <td>2012</td>\n",
       "      <td>406462.847704</td>\n",
       "      <td>carbon_dioxide_co2_emissions_without_land_use_...</td>\n",
       "    </tr>\n",
       "    <tr>\n",
       "      <th>3</th>\n",
       "      <td>Australia</td>\n",
       "      <td>2011</td>\n",
       "      <td>403705.528314</td>\n",
       "      <td>carbon_dioxide_co2_emissions_without_land_use_...</td>\n",
       "    </tr>\n",
       "    <tr>\n",
       "      <th>4</th>\n",
       "      <td>Australia</td>\n",
       "      <td>2010</td>\n",
       "      <td>406200.993184</td>\n",
       "      <td>carbon_dioxide_co2_emissions_without_land_use_...</td>\n",
       "    </tr>\n",
       "  </tbody>\n",
       "</table>\n",
       "</div>"
      ],
      "text/plain": [
       "  country_or_area  year          value  \\\n",
       "0       Australia  2014  393126.946994   \n",
       "1       Australia  2013  396913.936530   \n",
       "2       Australia  2012  406462.847704   \n",
       "3       Australia  2011  403705.528314   \n",
       "4       Australia  2010  406200.993184   \n",
       "\n",
       "                                            category  \n",
       "0  carbon_dioxide_co2_emissions_without_land_use_...  \n",
       "1  carbon_dioxide_co2_emissions_without_land_use_...  \n",
       "2  carbon_dioxide_co2_emissions_without_land_use_...  \n",
       "3  carbon_dioxide_co2_emissions_without_land_use_...  \n",
       "4  carbon_dioxide_co2_emissions_without_land_use_...  "
      ]
     },
     "execution_count": 5,
     "metadata": {},
     "output_type": "execute_result"
    }
   ],
   "source": [
    "df.head()"
   ]
  },
  {
   "cell_type": "markdown",
   "metadata": {},
   "source": [
    "##### Q1 - Explore the dataset, including the number of records, variable names, and the presence of missing values."
   ]
  },
  {
   "cell_type": "code",
   "execution_count": 6,
   "metadata": {},
   "outputs": [
    {
     "data": {
      "text/html": [
       "<div>\n",
       "<style scoped>\n",
       "    .dataframe tbody tr th:only-of-type {\n",
       "        vertical-align: middle;\n",
       "    }\n",
       "\n",
       "    .dataframe tbody tr th {\n",
       "        vertical-align: top;\n",
       "    }\n",
       "\n",
       "    .dataframe thead th {\n",
       "        text-align: right;\n",
       "    }\n",
       "</style>\n",
       "<table border=\"1\" class=\"dataframe\">\n",
       "  <thead>\n",
       "    <tr style=\"text-align: right;\">\n",
       "      <th></th>\n",
       "      <th>year</th>\n",
       "      <th>value</th>\n",
       "    </tr>\n",
       "  </thead>\n",
       "  <tbody>\n",
       "    <tr>\n",
       "      <th>count</th>\n",
       "      <td>8406.000000</td>\n",
       "      <td>8.406000e+03</td>\n",
       "    </tr>\n",
       "    <tr>\n",
       "      <th>mean</th>\n",
       "      <td>2002.188437</td>\n",
       "      <td>2.055472e+05</td>\n",
       "    </tr>\n",
       "    <tr>\n",
       "      <th>std</th>\n",
       "      <td>7.151605</td>\n",
       "      <td>8.041504e+05</td>\n",
       "    </tr>\n",
       "    <tr>\n",
       "      <th>min</th>\n",
       "      <td>1990.000000</td>\n",
       "      <td>1.103750e-06</td>\n",
       "    </tr>\n",
       "    <tr>\n",
       "      <th>25%</th>\n",
       "      <td>1996.000000</td>\n",
       "      <td>2.976980e+02</td>\n",
       "    </tr>\n",
       "    <tr>\n",
       "      <th>50%</th>\n",
       "      <td>2002.000000</td>\n",
       "      <td>7.840318e+03</td>\n",
       "    </tr>\n",
       "    <tr>\n",
       "      <th>75%</th>\n",
       "      <td>2008.000000</td>\n",
       "      <td>6.589885e+04</td>\n",
       "    </tr>\n",
       "    <tr>\n",
       "      <th>max</th>\n",
       "      <td>2014.000000</td>\n",
       "      <td>7.422208e+06</td>\n",
       "    </tr>\n",
       "  </tbody>\n",
       "</table>\n",
       "</div>"
      ],
      "text/plain": [
       "              year         value\n",
       "count  8406.000000  8.406000e+03\n",
       "mean   2002.188437  2.055472e+05\n",
       "std       7.151605  8.041504e+05\n",
       "min    1990.000000  1.103750e-06\n",
       "25%    1996.000000  2.976980e+02\n",
       "50%    2002.000000  7.840318e+03\n",
       "75%    2008.000000  6.589885e+04\n",
       "max    2014.000000  7.422208e+06"
      ]
     },
     "execution_count": 6,
     "metadata": {},
     "output_type": "execute_result"
    }
   ],
   "source": [
    "df.describe()"
   ]
  },
  {
   "cell_type": "code",
   "execution_count": 8,
   "metadata": {},
   "outputs": [
    {
     "data": {
      "text/plain": [
       "Index(['country_or_area', 'year', 'value', 'category'], dtype='object')"
      ]
     },
     "execution_count": 8,
     "metadata": {},
     "output_type": "execute_result"
    }
   ],
   "source": [
    "df.columns"
   ]
  },
  {
   "cell_type": "code",
   "execution_count": 9,
   "metadata": {},
   "outputs": [
    {
     "data": {
      "text/plain": [
       "country_or_area    0\n",
       "year               0\n",
       "value              0\n",
       "category           0\n",
       "dtype: int64"
      ]
     },
     "execution_count": 9,
     "metadata": {},
     "output_type": "execute_result"
    }
   ],
   "source": [
    "df.isnull().sum()"
   ]
  },
  {
   "cell_type": "markdown",
   "metadata": {},
   "source": [
    "##### Q2 - Plot the mean GHG emission values of CO<sub>2</sub> per country. Include an error bar.\n",
    "(NOTE:The CO<sub>2</sub> emission is coded in the variable named `category` as `carbon_dioxide_co2_emissions_without_land_use_land_use_change_and_forestry_lulucf_in_kilotonne_co2_equivalent`)."
   ]
  },
  {
   "cell_type": "code",
   "execution_count": 10,
   "metadata": {},
   "outputs": [
    {
     "data": {
      "text/html": [
       "<div>\n",
       "<style scoped>\n",
       "    .dataframe tbody tr th:only-of-type {\n",
       "        vertical-align: middle;\n",
       "    }\n",
       "\n",
       "    .dataframe tbody tr th {\n",
       "        vertical-align: top;\n",
       "    }\n",
       "\n",
       "    .dataframe thead th {\n",
       "        text-align: right;\n",
       "    }\n",
       "</style>\n",
       "<table border=\"1\" class=\"dataframe\">\n",
       "  <thead>\n",
       "    <tr style=\"text-align: right;\">\n",
       "      <th></th>\n",
       "      <th>country_or_area</th>\n",
       "      <th>year</th>\n",
       "      <th>value</th>\n",
       "      <th>category</th>\n",
       "    </tr>\n",
       "  </thead>\n",
       "  <tbody>\n",
       "    <tr>\n",
       "      <th>0</th>\n",
       "      <td>Australia</td>\n",
       "      <td>2014</td>\n",
       "      <td>393126.946994</td>\n",
       "      <td>carbon_dioxide_co2_emissions_without_land_use_...</td>\n",
       "    </tr>\n",
       "    <tr>\n",
       "      <th>1</th>\n",
       "      <td>Australia</td>\n",
       "      <td>2013</td>\n",
       "      <td>396913.936530</td>\n",
       "      <td>carbon_dioxide_co2_emissions_without_land_use_...</td>\n",
       "    </tr>\n",
       "    <tr>\n",
       "      <th>2</th>\n",
       "      <td>Australia</td>\n",
       "      <td>2012</td>\n",
       "      <td>406462.847704</td>\n",
       "      <td>carbon_dioxide_co2_emissions_without_land_use_...</td>\n",
       "    </tr>\n",
       "    <tr>\n",
       "      <th>3</th>\n",
       "      <td>Australia</td>\n",
       "      <td>2011</td>\n",
       "      <td>403705.528314</td>\n",
       "      <td>carbon_dioxide_co2_emissions_without_land_use_...</td>\n",
       "    </tr>\n",
       "    <tr>\n",
       "      <th>4</th>\n",
       "      <td>Australia</td>\n",
       "      <td>2010</td>\n",
       "      <td>406200.993184</td>\n",
       "      <td>carbon_dioxide_co2_emissions_without_land_use_...</td>\n",
       "    </tr>\n",
       "  </tbody>\n",
       "</table>\n",
       "</div>"
      ],
      "text/plain": [
       "  country_or_area  year          value  \\\n",
       "0       Australia  2014  393126.946994   \n",
       "1       Australia  2013  396913.936530   \n",
       "2       Australia  2012  406462.847704   \n",
       "3       Australia  2011  403705.528314   \n",
       "4       Australia  2010  406200.993184   \n",
       "\n",
       "                                            category  \n",
       "0  carbon_dioxide_co2_emissions_without_land_use_...  \n",
       "1  carbon_dioxide_co2_emissions_without_land_use_...  \n",
       "2  carbon_dioxide_co2_emissions_without_land_use_...  \n",
       "3  carbon_dioxide_co2_emissions_without_land_use_...  \n",
       "4  carbon_dioxide_co2_emissions_without_land_use_...  "
      ]
     },
     "execution_count": 10,
     "metadata": {},
     "output_type": "execute_result"
    }
   ],
   "source": [
    "# make df for only this category\n",
    "df_co2 = df[(df['category']=='carbon_dioxide_co2_emissions_without_land_use_land_use_change_and_forestry_lulucf_in_kilotonne_co2_equivalent')]\n",
    "df_co2.head(5)\n"
   ]
  },
  {
   "cell_type": "code",
   "execution_count": 63,
   "metadata": {},
   "outputs": [
    {
     "data": {
      "text/html": [
       "<div>\n",
       "<style scoped>\n",
       "    .dataframe tbody tr th:only-of-type {\n",
       "        vertical-align: middle;\n",
       "    }\n",
       "\n",
       "    .dataframe tbody tr th {\n",
       "        vertical-align: top;\n",
       "    }\n",
       "\n",
       "    .dataframe thead th {\n",
       "        text-align: right;\n",
       "    }\n",
       "</style>\n",
       "<table border=\"1\" class=\"dataframe\">\n",
       "  <thead>\n",
       "    <tr style=\"text-align: right;\">\n",
       "      <th></th>\n",
       "      <th>year</th>\n",
       "      <th>value</th>\n",
       "    </tr>\n",
       "    <tr>\n",
       "      <th>country_or_area</th>\n",
       "      <th></th>\n",
       "      <th></th>\n",
       "    </tr>\n",
       "  </thead>\n",
       "  <tbody>\n",
       "    <tr>\n",
       "      <th>Australia</th>\n",
       "      <td>2002.0</td>\n",
       "      <td>3.542080e+05</td>\n",
       "    </tr>\n",
       "    <tr>\n",
       "      <th>Austria</th>\n",
       "      <td>2002.0</td>\n",
       "      <td>6.892309e+04</td>\n",
       "    </tr>\n",
       "    <tr>\n",
       "      <th>Belarus</th>\n",
       "      <td>2002.0</td>\n",
       "      <td>6.371334e+04</td>\n",
       "    </tr>\n",
       "    <tr>\n",
       "      <th>Belgium</th>\n",
       "      <td>2002.0</td>\n",
       "      <td>1.195297e+05</td>\n",
       "    </tr>\n",
       "    <tr>\n",
       "      <th>Bulgaria</th>\n",
       "      <td>2002.0</td>\n",
       "      <td>5.222841e+04</td>\n",
       "    </tr>\n",
       "    <tr>\n",
       "      <th>Canada</th>\n",
       "      <td>2002.0</td>\n",
       "      <td>5.410325e+05</td>\n",
       "    </tr>\n",
       "    <tr>\n",
       "      <th>Croatia</th>\n",
       "      <td>2002.0</td>\n",
       "      <td>2.027852e+04</td>\n",
       "    </tr>\n",
       "    <tr>\n",
       "      <th>Cyprus</th>\n",
       "      <td>2002.0</td>\n",
       "      <td>6.918025e+03</td>\n",
       "    </tr>\n",
       "    <tr>\n",
       "      <th>Czech Republic</th>\n",
       "      <td>2002.0</td>\n",
       "      <td>1.252604e+05</td>\n",
       "    </tr>\n",
       "    <tr>\n",
       "      <th>Denmark</th>\n",
       "      <td>2002.0</td>\n",
       "      <td>5.531533e+04</td>\n",
       "    </tr>\n",
       "    <tr>\n",
       "      <th>Estonia</th>\n",
       "      <td>2002.0</td>\n",
       "      <td>1.895362e+04</td>\n",
       "    </tr>\n",
       "    <tr>\n",
       "      <th>European Union</th>\n",
       "      <td>2002.0</td>\n",
       "      <td>4.124879e+06</td>\n",
       "    </tr>\n",
       "    <tr>\n",
       "      <th>Finland</th>\n",
       "      <td>2002.0</td>\n",
       "      <td>5.958769e+04</td>\n",
       "    </tr>\n",
       "    <tr>\n",
       "      <th>France</th>\n",
       "      <td>2002.0</td>\n",
       "      <td>4.032314e+05</td>\n",
       "    </tr>\n",
       "    <tr>\n",
       "      <th>Germany</th>\n",
       "      <td>2002.0</td>\n",
       "      <td>8.959934e+05</td>\n",
       "    </tr>\n",
       "    <tr>\n",
       "      <th>Greece</th>\n",
       "      <td>2002.0</td>\n",
       "      <td>9.675776e+04</td>\n",
       "    </tr>\n",
       "    <tr>\n",
       "      <th>Hungary</th>\n",
       "      <td>2002.0</td>\n",
       "      <td>5.845013e+04</td>\n",
       "    </tr>\n",
       "    <tr>\n",
       "      <th>Iceland</th>\n",
       "      <td>2002.0</td>\n",
       "      <td>2.783201e+03</td>\n",
       "    </tr>\n",
       "    <tr>\n",
       "      <th>Ireland</th>\n",
       "      <td>2002.0</td>\n",
       "      <td>4.063074e+04</td>\n",
       "    </tr>\n",
       "    <tr>\n",
       "      <th>Italy</th>\n",
       "      <td>2002.0</td>\n",
       "      <td>4.431543e+05</td>\n",
       "    </tr>\n",
       "    <tr>\n",
       "      <th>Japan</th>\n",
       "      <td>2002.0</td>\n",
       "      <td>1.247796e+06</td>\n",
       "    </tr>\n",
       "    <tr>\n",
       "      <th>Latvia</th>\n",
       "      <td>2002.0</td>\n",
       "      <td>9.345028e+03</td>\n",
       "    </tr>\n",
       "    <tr>\n",
       "      <th>Liechtenstein</th>\n",
       "      <td>2002.0</td>\n",
       "      <td>2.086244e+02</td>\n",
       "    </tr>\n",
       "    <tr>\n",
       "      <th>Lithuania</th>\n",
       "      <td>2002.0</td>\n",
       "      <td>1.614659e+04</td>\n",
       "    </tr>\n",
       "    <tr>\n",
       "      <th>Luxembourg</th>\n",
       "      <td>2002.0</td>\n",
       "      <td>1.058220e+04</td>\n",
       "    </tr>\n",
       "    <tr>\n",
       "      <th>Malta</th>\n",
       "      <td>2002.0</td>\n",
       "      <td>2.488720e+03</td>\n",
       "    </tr>\n",
       "    <tr>\n",
       "      <th>Monaco</th>\n",
       "      <td>2001.5</td>\n",
       "      <td>9.121347e+01</td>\n",
       "    </tr>\n",
       "    <tr>\n",
       "      <th>Netherlands</th>\n",
       "      <td>2002.0</td>\n",
       "      <td>1.731541e+05</td>\n",
       "    </tr>\n",
       "    <tr>\n",
       "      <th>New Zealand</th>\n",
       "      <td>2002.0</td>\n",
       "      <td>3.279236e+04</td>\n",
       "    </tr>\n",
       "    <tr>\n",
       "      <th>Norway</th>\n",
       "      <td>2002.0</td>\n",
       "      <td>4.189804e+04</td>\n",
       "    </tr>\n",
       "    <tr>\n",
       "      <th>Poland</th>\n",
       "      <td>2002.0</td>\n",
       "      <td>3.392741e+05</td>\n",
       "    </tr>\n",
       "    <tr>\n",
       "      <th>Portugal</th>\n",
       "      <td>2002.0</td>\n",
       "      <td>5.766898e+04</td>\n",
       "    </tr>\n",
       "    <tr>\n",
       "      <th>Romania</th>\n",
       "      <td>2002.0</td>\n",
       "      <td>1.074209e+05</td>\n",
       "    </tr>\n",
       "    <tr>\n",
       "      <th>Russian Federation</th>\n",
       "      <td>2002.0</td>\n",
       "      <td>1.706497e+06</td>\n",
       "    </tr>\n",
       "    <tr>\n",
       "      <th>Slovakia</th>\n",
       "      <td>2002.0</td>\n",
       "      <td>4.289341e+04</td>\n",
       "    </tr>\n",
       "    <tr>\n",
       "      <th>Slovenia</th>\n",
       "      <td>2002.0</td>\n",
       "      <td>1.580914e+04</td>\n",
       "    </tr>\n",
       "    <tr>\n",
       "      <th>Spain</th>\n",
       "      <td>2002.0</td>\n",
       "      <td>2.919198e+05</td>\n",
       "    </tr>\n",
       "    <tr>\n",
       "      <th>Sweden</th>\n",
       "      <td>2002.0</td>\n",
       "      <td>5.446792e+04</td>\n",
       "    </tr>\n",
       "    <tr>\n",
       "      <th>Switzerland</th>\n",
       "      <td>2002.0</td>\n",
       "      <td>4.386936e+04</td>\n",
       "    </tr>\n",
       "    <tr>\n",
       "      <th>Turkey</th>\n",
       "      <td>2002.0</td>\n",
       "      <td>2.505737e+05</td>\n",
       "    </tr>\n",
       "    <tr>\n",
       "      <th>Ukraine</th>\n",
       "      <td>2002.0</td>\n",
       "      <td>3.539101e+05</td>\n",
       "    </tr>\n",
       "    <tr>\n",
       "      <th>United Kingdom</th>\n",
       "      <td>2002.0</td>\n",
       "      <td>5.458207e+05</td>\n",
       "    </tr>\n",
       "    <tr>\n",
       "      <th>United States of America</th>\n",
       "      <td>2002.0</td>\n",
       "      <td>5.664365e+06</td>\n",
       "    </tr>\n",
       "  </tbody>\n",
       "</table>\n",
       "</div>"
      ],
      "text/plain": [
       "                            year         value\n",
       "country_or_area                               \n",
       "Australia                 2002.0  3.542080e+05\n",
       "Austria                   2002.0  6.892309e+04\n",
       "Belarus                   2002.0  6.371334e+04\n",
       "Belgium                   2002.0  1.195297e+05\n",
       "Bulgaria                  2002.0  5.222841e+04\n",
       "Canada                    2002.0  5.410325e+05\n",
       "Croatia                   2002.0  2.027852e+04\n",
       "Cyprus                    2002.0  6.918025e+03\n",
       "Czech Republic            2002.0  1.252604e+05\n",
       "Denmark                   2002.0  5.531533e+04\n",
       "Estonia                   2002.0  1.895362e+04\n",
       "European Union            2002.0  4.124879e+06\n",
       "Finland                   2002.0  5.958769e+04\n",
       "France                    2002.0  4.032314e+05\n",
       "Germany                   2002.0  8.959934e+05\n",
       "Greece                    2002.0  9.675776e+04\n",
       "Hungary                   2002.0  5.845013e+04\n",
       "Iceland                   2002.0  2.783201e+03\n",
       "Ireland                   2002.0  4.063074e+04\n",
       "Italy                     2002.0  4.431543e+05\n",
       "Japan                     2002.0  1.247796e+06\n",
       "Latvia                    2002.0  9.345028e+03\n",
       "Liechtenstein             2002.0  2.086244e+02\n",
       "Lithuania                 2002.0  1.614659e+04\n",
       "Luxembourg                2002.0  1.058220e+04\n",
       "Malta                     2002.0  2.488720e+03\n",
       "Monaco                    2001.5  9.121347e+01\n",
       "Netherlands               2002.0  1.731541e+05\n",
       "New Zealand               2002.0  3.279236e+04\n",
       "Norway                    2002.0  4.189804e+04\n",
       "Poland                    2002.0  3.392741e+05\n",
       "Portugal                  2002.0  5.766898e+04\n",
       "Romania                   2002.0  1.074209e+05\n",
       "Russian Federation        2002.0  1.706497e+06\n",
       "Slovakia                  2002.0  4.289341e+04\n",
       "Slovenia                  2002.0  1.580914e+04\n",
       "Spain                     2002.0  2.919198e+05\n",
       "Sweden                    2002.0  5.446792e+04\n",
       "Switzerland               2002.0  4.386936e+04\n",
       "Turkey                    2002.0  2.505737e+05\n",
       "Ukraine                   2002.0  3.539101e+05\n",
       "United Kingdom            2002.0  5.458207e+05\n",
       "United States of America  2002.0  5.664365e+06"
      ]
     },
     "execution_count": 63,
     "metadata": {},
     "output_type": "execute_result"
    }
   ],
   "source": [
    "mean_co2 = df_co2.groupby('country_or_area').mean('value')\n",
    "mean_co2"
   ]
  },
  {
   "cell_type": "code",
   "execution_count": 72,
   "metadata": {},
   "outputs": [
    {
     "data": {
      "text/plain": [
       "np.float64(1059768.175824186)"
      ]
     },
     "execution_count": 72,
     "metadata": {},
     "output_type": "execute_result"
    }
   ],
   "source": [
    "std = df_co2['value'].std()\n"
   ]
  },
  {
   "cell_type": "code",
   "execution_count": 78,
   "metadata": {},
   "outputs": [
    {
     "data": {
      "image/png": "[encoded data removed]",
      "text/plain": [
       "<Figure size 640x480 with 1 Axes>"
      ]
     },
     "metadata": {},
     "output_type": "display_data"
    }
   ],
   "source": [
    "sns.barplot(data=df_co2, x='country_or_area', y='value')\n",
    "plt.xticks(rotation=90)\n",
    "plt.show()"
   ]
  },
  {
   "cell_type": "code",
   "execution_count": null,
   "metadata": {},
   "outputs": [],
   "source": [
    "# not super sure on the error bar, not working, so started a draft\n",
    "plt.errorbar(df_co2['value'].count(), df_co2['value'].mean(), yerr=std, fmt='-o', capsize=5, label=\"Mean Temp_ann ± Std Dev\")"
   ]
  },
  {
   "cell_type": "markdown",
   "metadata": {},
   "source": [
    "would also be better ordered, but ran out of time"
   ]
  },
  {
   "cell_type": "markdown",
   "metadata": {},
   "source": [
    "##### Q3 - Compute the mean, minimum, maximum, quartiles and standard deviation of GHG emmission values of CO<sub>2</sub> (carbon_dioxide_co2_emissions_without_land_use_land_use_change_and_forestry_lulucf_in_kilotonne_co2_equivalent) separately for Portugal and Greece."
   ]
  },
  {
   "cell_type": "code",
   "execution_count": 44,
   "metadata": {},
   "outputs": [
    {
     "data": {
      "text/html": [
       "<div>\n",
       "<style scoped>\n",
       "    .dataframe tbody tr th:only-of-type {\n",
       "        vertical-align: middle;\n",
       "    }\n",
       "\n",
       "    .dataframe tbody tr th {\n",
       "        vertical-align: top;\n",
       "    }\n",
       "\n",
       "    .dataframe thead th {\n",
       "        text-align: right;\n",
       "    }\n",
       "</style>\n",
       "<table border=\"1\" class=\"dataframe\">\n",
       "  <thead>\n",
       "    <tr style=\"text-align: right;\">\n",
       "      <th></th>\n",
       "      <th>year</th>\n",
       "      <th>value</th>\n",
       "    </tr>\n",
       "  </thead>\n",
       "  <tbody>\n",
       "    <tr>\n",
       "      <th>count</th>\n",
       "      <td>50.000000</td>\n",
       "      <td>50.000000</td>\n",
       "    </tr>\n",
       "    <tr>\n",
       "      <th>mean</th>\n",
       "      <td>2002.000000</td>\n",
       "      <td>77213.370592</td>\n",
       "    </tr>\n",
       "    <tr>\n",
       "      <th>std</th>\n",
       "      <td>7.284314</td>\n",
       "      <td>21931.207074</td>\n",
       "    </tr>\n",
       "    <tr>\n",
       "      <th>min</th>\n",
       "      <td>1990.000000</td>\n",
       "      <td>45809.071410</td>\n",
       "    </tr>\n",
       "    <tr>\n",
       "      <th>25%</th>\n",
       "      <td>1996.000000</td>\n",
       "      <td>56091.707536</td>\n",
       "    </tr>\n",
       "    <tr>\n",
       "      <th>50%</th>\n",
       "      <td>2002.000000</td>\n",
       "      <td>74831.401904</td>\n",
       "    </tr>\n",
       "    <tr>\n",
       "      <th>75%</th>\n",
       "      <td>2008.000000</td>\n",
       "      <td>96302.048066</td>\n",
       "    </tr>\n",
       "    <tr>\n",
       "      <th>max</th>\n",
       "      <td>2014.000000</td>\n",
       "      <td>114127.554271</td>\n",
       "    </tr>\n",
       "  </tbody>\n",
       "</table>\n",
       "</div>"
      ],
      "text/plain": [
       "              year          value\n",
       "count    50.000000      50.000000\n",
       "mean   2002.000000   77213.370592\n",
       "std       7.284314   21931.207074\n",
       "min    1990.000000   45809.071410\n",
       "25%    1996.000000   56091.707536\n",
       "50%    2002.000000   74831.401904\n",
       "75%    2008.000000   96302.048066\n",
       "max    2014.000000  114127.554271"
      ]
     },
     "execution_count": 44,
     "metadata": {},
     "output_type": "execute_result"
    }
   ],
   "source": [
    "# Portugal and Greece\n",
    "df_portugal_greece = df_co2[(df_co2['country_or_area']=='Portugal') | \n",
    "   (df_co2['country_or_area']=='Greece')\n",
    "   ]\n",
    "\n",
    "df_portugal_greece.describe()"
   ]
  },
  {
   "cell_type": "code",
   "execution_count": 45,
   "metadata": {},
   "outputs": [
    {
     "data": {
      "text/html": [
       "<div>\n",
       "<style scoped>\n",
       "    .dataframe tbody tr th:only-of-type {\n",
       "        vertical-align: middle;\n",
       "    }\n",
       "\n",
       "    .dataframe tbody tr th {\n",
       "        vertical-align: top;\n",
       "    }\n",
       "\n",
       "    .dataframe thead th {\n",
       "        text-align: right;\n",
       "    }\n",
       "</style>\n",
       "<table border=\"1\" class=\"dataframe\">\n",
       "  <thead>\n",
       "    <tr style=\"text-align: right;\">\n",
       "      <th></th>\n",
       "      <th>year</th>\n",
       "      <th>value</th>\n",
       "    </tr>\n",
       "  </thead>\n",
       "  <tbody>\n",
       "    <tr>\n",
       "      <th>count</th>\n",
       "      <td>25.000000</td>\n",
       "      <td>25.000000</td>\n",
       "    </tr>\n",
       "    <tr>\n",
       "      <th>mean</th>\n",
       "      <td>2002.000000</td>\n",
       "      <td>57668.976503</td>\n",
       "    </tr>\n",
       "    <tr>\n",
       "      <th>std</th>\n",
       "      <td>7.359801</td>\n",
       "      <td>7854.713780</td>\n",
       "    </tr>\n",
       "    <tr>\n",
       "      <th>min</th>\n",
       "      <td>1990.000000</td>\n",
       "      <td>45809.071410</td>\n",
       "    </tr>\n",
       "    <tr>\n",
       "      <th>25%</th>\n",
       "      <td>1996.000000</td>\n",
       "      <td>51303.204149</td>\n",
       "    </tr>\n",
       "    <tr>\n",
       "      <th>50%</th>\n",
       "      <td>2002.000000</td>\n",
       "      <td>55454.211057</td>\n",
       "    </tr>\n",
       "    <tr>\n",
       "      <th>75%</th>\n",
       "      <td>2008.000000</td>\n",
       "      <td>65465.419716</td>\n",
       "    </tr>\n",
       "    <tr>\n",
       "      <th>max</th>\n",
       "      <td>2014.000000</td>\n",
       "      <td>70034.529408</td>\n",
       "    </tr>\n",
       "  </tbody>\n",
       "</table>\n",
       "</div>"
      ],
      "text/plain": [
       "              year         value\n",
       "count    25.000000     25.000000\n",
       "mean   2002.000000  57668.976503\n",
       "std       7.359801   7854.713780\n",
       "min    1990.000000  45809.071410\n",
       "25%    1996.000000  51303.204149\n",
       "50%    2002.000000  55454.211057\n",
       "75%    2008.000000  65465.419716\n",
       "max    2014.000000  70034.529408"
      ]
     },
     "execution_count": 45,
     "metadata": {},
     "output_type": "execute_result"
    }
   ],
   "source": [
    "# For Portugal\n",
    "df_portugal = df_co2[(df_co2['country_or_area']=='Portugal')\n",
    "   ]\n",
    "\n",
    "df_portugal.describe()"
   ]
  },
  {
   "cell_type": "code",
   "execution_count": 46,
   "metadata": {},
   "outputs": [
    {
     "data": {
      "text/html": [
       "<div>\n",
       "<style scoped>\n",
       "    .dataframe tbody tr th:only-of-type {\n",
       "        vertical-align: middle;\n",
       "    }\n",
       "\n",
       "    .dataframe tbody tr th {\n",
       "        vertical-align: top;\n",
       "    }\n",
       "\n",
       "    .dataframe thead th {\n",
       "        text-align: right;\n",
       "    }\n",
       "</style>\n",
       "<table border=\"1\" class=\"dataframe\">\n",
       "  <thead>\n",
       "    <tr style=\"text-align: right;\">\n",
       "      <th></th>\n",
       "      <th>year</th>\n",
       "      <th>value</th>\n",
       "    </tr>\n",
       "  </thead>\n",
       "  <tbody>\n",
       "    <tr>\n",
       "      <th>count</th>\n",
       "      <td>25.000000</td>\n",
       "      <td>25.000000</td>\n",
       "    </tr>\n",
       "    <tr>\n",
       "      <th>mean</th>\n",
       "      <td>2002.000000</td>\n",
       "      <td>96757.764681</td>\n",
       "    </tr>\n",
       "    <tr>\n",
       "      <th>std</th>\n",
       "      <td>7.359801</td>\n",
       "      <td>11158.014015</td>\n",
       "    </tr>\n",
       "    <tr>\n",
       "      <th>min</th>\n",
       "      <td>1990.000000</td>\n",
       "      <td>79628.274399</td>\n",
       "    </tr>\n",
       "    <tr>\n",
       "      <th>25%</th>\n",
       "      <td>1996.000000</td>\n",
       "      <td>86425.856512</td>\n",
       "    </tr>\n",
       "    <tr>\n",
       "      <th>50%</th>\n",
       "      <td>2002.000000</td>\n",
       "      <td>97035.082760</td>\n",
       "    </tr>\n",
       "    <tr>\n",
       "      <th>75%</th>\n",
       "      <td>2008.000000</td>\n",
       "      <td>105407.307598</td>\n",
       "    </tr>\n",
       "    <tr>\n",
       "      <th>max</th>\n",
       "      <td>2014.000000</td>\n",
       "      <td>114127.554271</td>\n",
       "    </tr>\n",
       "  </tbody>\n",
       "</table>\n",
       "</div>"
      ],
      "text/plain": [
       "              year          value\n",
       "count    25.000000      25.000000\n",
       "mean   2002.000000   96757.764681\n",
       "std       7.359801   11158.014015\n",
       "min    1990.000000   79628.274399\n",
       "25%    1996.000000   86425.856512\n",
       "50%    2002.000000   97035.082760\n",
       "75%    2008.000000  105407.307598\n",
       "max    2014.000000  114127.554271"
      ]
     },
     "execution_count": 46,
     "metadata": {},
     "output_type": "execute_result"
    }
   ],
   "source": [
    "#  For greece\n",
    "df_greece = df_co2[(df_co2['country_or_area']=='Greece')\n",
    "   ]\n",
    "\n",
    "df_greece.describe()"
   ]
  },
  {
   "cell_type": "markdown",
   "metadata": {},
   "source": [
    "##### Q4 - Produce a plot that shows differences/similarities between the two countries in the GHG annual emission values."
   ]
  },
  {
   "cell_type": "code",
   "execution_count": 47,
   "metadata": {},
   "outputs": [
    {
     "data": {
      "image/png": "[encoded data removed]",
      "text/plain": [
       "<Figure size 640x480 with 1 Axes>"
      ]
     },
     "metadata": {},
     "output_type": "display_data"
    }
   ],
   "source": [
    "# plot using df_portugal_greece\n",
    "sns.scatterplot(df_portugal_greece, x='year', y='value', hue='country_or_area')\n",
    "plt.show()"
   ]
  },
  {
   "cell_type": "code",
   "execution_count": 48,
   "metadata": {},
   "outputs": [
    {
     "data": {
      "image/png": "[encoded data removed]",
      "text/plain": [
       "<Figure size 640x480 with 1 Axes>"
      ]
     },
     "metadata": {},
     "output_type": "display_data"
    }
   ],
   "source": [
    "# looking at the data, a lineplot makes more sense:\n",
    "sns.lineplot(df_portugal_greece, x='year', y='value', hue='country_or_area')\n",
    "plt.show()"
   ]
  },
  {
   "cell_type": "markdown",
   "metadata": {},
   "source": [
    "##### Q5 - Carefully analyse the central tendency estimates of GHG emmisions you computed on Q3. Is the relationship between the mean and the median the same between countries? Comment your response taking into account the plot produced in Q4."
   ]
  },
  {
   "cell_type": "markdown",
   "metadata": {},
   "source": [
    "Looking at the values column (because the years column is irrelevant - we don't need these values for the years), Greece has much higher values for all central tendency estimates. This is consistent with the graph, which shows much higher values. The peak of emissions appears later for Greece than Portugal. The graph also seems to show that the difference between maximum and minimum values is greater for Greece than for Portugal. "
   ]
  },
  {
   "cell_type": "markdown",
   "metadata": {},
   "source": [
    "##### Q6 - Assuming that annual CO<sub>2</sub> GHG emission values follow a normal distribution (even if not necessarily true), which statistical test would be appropriate to compare the values between the Portugal and Greece, given the data characteristics? Define the null hypothesis of the test you want to run, the critical *p-value*, run the test and justify briefly your choice."
   ]
  },
  {
   "cell_type": "code",
   "execution_count": 34,
   "metadata": {},
   "outputs": [
    {
     "name": "stdout",
     "output_type": "stream",
     "text": [
      "p_value: \n",
      "The two populations are significantly different (p-value: 0.007948018793641865 )\n"
     ]
    }
   ],
   "source": [
    "# The null hypothesis is that the CO2 GHG emissions between Portugal and Greece do not differ significantly. \n",
    "# The critical p-value would be 0.05\n",
    "# the test to run would be two tailed (as it doesn't matter if it significatly higher or lower)\n",
    "# Could use Mann-Whitney. It doesn't assume the underlying distribution, so there are likely others that could be chosen, \n",
    "# which do assume normal, but as we're not testing that assumption, I have chosen Mann-Whitney\n",
    "\n",
    "from scipy.stats import mannwhitneyu\n",
    "\n",
    "alpha = 0.05\n",
    "statistic, p_value = mannwhitneyu(df_portugal['value'], df_greece['value'])\n",
    "\n",
    "print('p_value: ')\n",
    "\n",
    "if p_value < alpha:\n",
    "    print(\"The two populations are significantly different (p-value:\", p_value, \")\")\n",
    "else:\n",
    "    print(\"The two populations are not significantly different (p-value:\", p_value, \")\")"
   ]
  },
  {
   "cell_type": "markdown",
   "metadata": {},
   "source": [
    "Using this test, we can see that the null hypothesis is rejected, and the two populations have a significantly different distribution at a p-value of 0.05."
   ]
  },
  {
   "cell_type": "markdown",
   "metadata": {},
   "source": [
    "##### Q7 - Run an analysis that tests the following null Hypothesis: *H0 - the annual GH Gas Emmision values of Portugal and Greece between 1990 and 2014 follows the same probability distribution*. Use a critical *p-value* of 0.05."
   ]
  },
  {
   "cell_type": "code",
   "execution_count": 33,
   "metadata": {},
   "outputs": [
    {
     "name": "stdout",
     "output_type": "stream",
     "text": [
      "p_value: \n",
      "The two populations are significantly different (p-value: 0.007948018793641865 )\n"
     ]
    }
   ],
   "source": [
    "# Same as above. Not sure if it was meant to be run above or not?\n",
    "from scipy.stats import mannwhitneyu\n",
    "\n",
    "alpha = 0.05\n",
    "statistic, p_value = mannwhitneyu(df_portugal['value'], df_greece['value'])\n",
    "\n",
    "print('p_value: ')\n",
    "\n",
    "if p_value < alpha:\n",
    "    print(\"The two populations are significantly different (p-value:\", p_value, \")\")\n",
    "else:\n",
    "    print(\"The two populations are not significantly different (p-value:\", p_value, \")\")"
   ]
  },
  {
   "cell_type": "markdown",
   "metadata": {},
   "source": [
    "Using this test, we can see that the null hypothesis is rejected, and the two populations have a significantly different distribution at a p-value of 0.05."
   ]
  },
  {
   "cell_type": "markdown",
   "metadata": {},
   "source": [
    "##### Q8 - Now imagine you wanted to test if GHG emmission values of CO<sub>2</sub>  changed over the years 1990, 1995, 2000, 2005 and 2010 considering all countries with data. Specify the null and alternative hypothesis of the performed test, the critical alpha used as well as the effect sizes. Check also if the direction of changes in the global emmissions were consistent between the time periods."
   ]
  },
  {
   "cell_type": "code",
   "execution_count": 54,
   "metadata": {},
   "outputs": [
    {
     "data": {
      "text/html": [
       "<div>\n",
       "<style scoped>\n",
       "    .dataframe tbody tr th:only-of-type {\n",
       "        vertical-align: middle;\n",
       "    }\n",
       "\n",
       "    .dataframe tbody tr th {\n",
       "        vertical-align: top;\n",
       "    }\n",
       "\n",
       "    .dataframe thead th {\n",
       "        text-align: right;\n",
       "    }\n",
       "</style>\n",
       "<table border=\"1\" class=\"dataframe\">\n",
       "  <thead>\n",
       "    <tr style=\"text-align: right;\">\n",
       "      <th></th>\n",
       "      <th>country_or_area</th>\n",
       "      <th>year</th>\n",
       "      <th>value</th>\n",
       "      <th>category</th>\n",
       "    </tr>\n",
       "  </thead>\n",
       "  <tbody>\n",
       "    <tr>\n",
       "      <th>4</th>\n",
       "      <td>Australia</td>\n",
       "      <td>2010</td>\n",
       "      <td>406200.993184</td>\n",
       "      <td>carbon_dioxide_co2_emissions_without_land_use_...</td>\n",
       "    </tr>\n",
       "    <tr>\n",
       "      <th>9</th>\n",
       "      <td>Australia</td>\n",
       "      <td>2005</td>\n",
       "      <td>385581.132806</td>\n",
       "      <td>carbon_dioxide_co2_emissions_without_land_use_...</td>\n",
       "    </tr>\n",
       "    <tr>\n",
       "      <th>14</th>\n",
       "      <td>Australia</td>\n",
       "      <td>2000</td>\n",
       "      <td>349885.433109</td>\n",
       "      <td>carbon_dioxide_co2_emissions_without_land_use_...</td>\n",
       "    </tr>\n",
       "    <tr>\n",
       "      <th>19</th>\n",
       "      <td>Australia</td>\n",
       "      <td>1995</td>\n",
       "      <td>305162.543549</td>\n",
       "      <td>carbon_dioxide_co2_emissions_without_land_use_...</td>\n",
       "    </tr>\n",
       "    <tr>\n",
       "      <th>24</th>\n",
       "      <td>Australia</td>\n",
       "      <td>1990</td>\n",
       "      <td>278265.898941</td>\n",
       "      <td>carbon_dioxide_co2_emissions_without_land_use_...</td>\n",
       "    </tr>\n",
       "  </tbody>\n",
       "</table>\n",
       "</div>"
      ],
      "text/plain": [
       "   country_or_area  year          value  \\\n",
       "4        Australia  2010  406200.993184   \n",
       "9        Australia  2005  385581.132806   \n",
       "14       Australia  2000  349885.433109   \n",
       "19       Australia  1995  305162.543549   \n",
       "24       Australia  1990  278265.898941   \n",
       "\n",
       "                                             category  \n",
       "4   carbon_dioxide_co2_emissions_without_land_use_...  \n",
       "9   carbon_dioxide_co2_emissions_without_land_use_...  \n",
       "14  carbon_dioxide_co2_emissions_without_land_use_...  \n",
       "19  carbon_dioxide_co2_emissions_without_land_use_...  \n",
       "24  carbon_dioxide_co2_emissions_without_land_use_...  "
      ]
     },
     "execution_count": 54,
     "metadata": {},
     "output_type": "execute_result"
    }
   ],
   "source": [
    "# create new df from original df, with each year.\n",
    "df_five_years = df_co2[(df_co2['year']==1990) | \n",
    "   (df_co2['year']==1995) | \n",
    "   (df_co2['year']==2000) | \n",
    "   (df_co2['year']==2005) | \n",
    "   (df_co2['year']==2010) \n",
    "   ]\n",
    "\n",
    "df_five_years.head()\n",
    "\n",
    "# null hypothesis is tha the GHG emission values are not significantly different over these years. \n",
    "# Alternative hypothesis is that the GHG emission values are significantly different over these years.\n",
    "# Critical alpha will be 0.05\n",
    "\n",
    "# years are categorical, GHG emissions are continuous. Use a one way ANOVA, to see if means are different over the years\n",
    "\n"
   ]
  },
  {
   "cell_type": "code",
   "execution_count": 58,
   "metadata": {},
   "outputs": [
    {
     "name": "stdout",
     "output_type": "stream",
     "text": [
      "ANOVA statistic: 0.008\n",
      "p-value: 1.000\n",
      "There is no significant difference in mean elevation among the 5 years.\n"
     ]
    },
    {
     "data": {
      "text/html": [
       "<table class=\"simpletable\">\n",
       "<caption>Test Multiple Comparison ttest_ind \n",
       "FWER=0.05 method=bonf\n",
       "alphacSidak=0.01, alphacBonf=0.005</caption>\n",
       "<tr>\n",
       "  <th>group1</th> <th>group2</th>  <th>stat</th>    <th>pval</th>  <th>pval_corr</th> <th>reject</th>\n",
       "</tr>\n",
       "<tr>\n",
       "   <td>1990</td>   <td>1995</td>  <td>0.1345</td>  <td>0.8933</td>    <td>1.0</td>     <td>False</td>\n",
       "</tr>\n",
       "<tr>\n",
       "   <td>1990</td>   <td>2000</td>  <td>0.0864</td>  <td>0.9313</td>    <td>1.0</td>     <td>False</td>\n",
       "</tr>\n",
       "<tr>\n",
       "   <td>1990</td>   <td>2005</td>  <td>0.0224</td>  <td>0.9822</td>    <td>1.0</td>     <td>False</td>\n",
       "</tr>\n",
       "<tr>\n",
       "   <td>1990</td>   <td>2010</td>  <td>0.1403</td>  <td>0.8888</td>    <td>1.0</td>     <td>False</td>\n",
       "</tr>\n",
       "<tr>\n",
       "   <td>1995</td>   <td>2000</td>  <td>-0.0449</td> <td>0.9643</td>    <td>1.0</td>     <td>False</td>\n",
       "</tr>\n",
       "<tr>\n",
       "   <td>1995</td>   <td>2005</td>  <td>-0.1079</td> <td>0.9143</td>    <td>1.0</td>     <td>False</td>\n",
       "</tr>\n",
       "<tr>\n",
       "   <td>1995</td>   <td>2010</td>  <td>0.0062</td>  <td>0.9951</td>    <td>1.0</td>     <td>False</td>\n",
       "</tr>\n",
       "<tr>\n",
       "   <td>2000</td>   <td>2005</td>  <td>-0.062</td>  <td>0.9507</td>    <td>1.0</td>     <td>False</td>\n",
       "</tr>\n",
       "<tr>\n",
       "   <td>2000</td>   <td>2010</td>  <td>0.0508</td>  <td>0.9596</td>    <td>1.0</td>     <td>False</td>\n",
       "</tr>\n",
       "<tr>\n",
       "   <td>2005</td>   <td>2010</td>  <td>0.1136</td>  <td>0.9098</td>    <td>1.0</td>     <td>False</td>\n",
       "</tr>\n",
       "</table>"
      ],
      "text/latex": [
       "\\begin{center}\n",
       "\\begin{tabular}{cccccc}\n",
       "\\toprule\n",
       "\\textbf{group1} & \\textbf{group2} & \\textbf{stat} & \\textbf{pval} & \\textbf{pval\\_corr} & \\textbf{reject}  \\\\\n",
       "\\midrule\n",
       "      1990      &       1995      &     0.1345    &     0.8933    &         1.0         &      False       \\\\\n",
       "      1990      &       2000      &     0.0864    &     0.9313    &         1.0         &      False       \\\\\n",
       "      1990      &       2005      &     0.0224    &     0.9822    &         1.0         &      False       \\\\\n",
       "      1990      &       2010      &     0.1403    &     0.8888    &         1.0         &      False       \\\\\n",
       "      1995      &       2000      &    -0.0449    &     0.9643    &         1.0         &      False       \\\\\n",
       "      1995      &       2005      &    -0.1079    &     0.9143    &         1.0         &      False       \\\\\n",
       "      1995      &       2010      &     0.0062    &     0.9951    &         1.0         &      False       \\\\\n",
       "      2000      &       2005      &     -0.062    &     0.9507    &         1.0         &      False       \\\\\n",
       "      2000      &       2010      &     0.0508    &     0.9596    &         1.0         &      False       \\\\\n",
       "      2005      &       2010      &     0.1136    &     0.9098    &         1.0         &      False       \\\\\n",
       "\\bottomrule\n",
       "\\end{tabular}\n",
       "%\\caption{Test Multiple Comparison ttest_ind \n",
       "FWER=0.05 method=bonf\n",
       "alphacSidak=0.01, alphacBonf=0.005}\n",
       "\\end{center}"
      ],
      "text/plain": [
       "<class 'statsmodels.iolib.table.SimpleTable'>"
      ]
     },
     "execution_count": 58,
     "metadata": {},
     "output_type": "execute_result"
    }
   ],
   "source": [
    "from scipy.stats import f_oneway\n",
    "\n",
    "\n",
    "# Perform ANOVA test\n",
    "alpha = 0.05\n",
    "groups = [df_five_years['value'][df_five_years['year'] == name] for name in [1990, 1995, 2000, 2005, 2010]]\n",
    "statistic, p_value = f_oneway(*groups)\n",
    "\n",
    "print(f\"ANOVA statistic: {statistic:.3f}\")\n",
    "print(f\"p-value: {p_value:.3f}\")\n",
    "\n",
    "if p_value < alpha:\n",
    "    print(\"There is a significant difference in mean elevation among the 5 years.\")\n",
    "else:\n",
    "    print(\"There is no significant difference in mean elevation among the 5 years.\")\n",
    "\n",
    "# Perform pairwise t-tests with Bonferroni correction\n",
    "from statsmodels.sandbox.stats.multicomp import MultiComparison\n",
    "\n",
    "# Apply the Bonferroni correction\n",
    "comparison = MultiComparison(df_five_years['value'], df_five_years['year'])\n",
    "result = comparison.allpairtest(sts.ttest_ind, method='bonf')\n",
    "\n",
    "result[0]"
   ]
  },
  {
   "cell_type": "markdown",
   "metadata": {},
   "source": [
    "I am surprised by these results, as this means we should not reject the null hypothesis that there is no significant change throught the years. If I have time, I will try to plot this also to get a better idea of if this appears true on a graph. "
   ]
  }
 ],
 "metadata": {
  "kernelspec": {
   "display_name": ".venv",
   "language": "python",
   "name": "python3"
  },
  "language_info": {
   "codemirror_mode": {
    "name": "ipython",
    "version": 3
   },
   "file_extension": ".py",
   "mimetype": "text/x-python",
   "name": "python",
   "nbconvert_exporter": "python",
   "pygments_lexer": "ipython3",
   "version": "3.13.1"
  }
 },
 "nbformat": 4,
 "nbformat_minor": 2
}
