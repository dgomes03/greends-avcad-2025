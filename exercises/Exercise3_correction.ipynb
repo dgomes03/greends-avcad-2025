{
 "cells": [
  {
   "attachments": {},
   "cell_type": "markdown",
   "metadata": {},
   "source": [
    "## Exercise #3\n",
    "- Plot strip plots, histograms and boxplots of Annual Mean Temperature (temp_ann) at each of the four catchments with the highest number of fish sampling sites. Try to fit each type of graph in a single window (4 graphs per window - check how to do it in previous examples that are available in github)."
   ]
  },
  {
   "cell_type": "code",
   "execution_count": null,
   "metadata": {},
   "outputs": [],
   "source": [
    "# The following command tells the IPython environment to draw the plots immediately after the current cell - In new ipython versions it is the default (run just %matplotlib to cancel)\n",
    "%matplotlib inline\n",
    "\n",
    "import pandas as pd\n",
    "import numpy as np\n",
    "import zipfile\n",
    "import seaborn as sns # For plotting\n",
    "import matplotlib.pyplot as plt # For showing plots"
   ]
  },
  {
   "cell_type": "code",
   "execution_count": null,
   "metadata": {},
   "outputs": [],
   "source": [
    "df = pd.read_csv('../examples/EFIplus_medit.zip',compression='zip', sep=\";\")"
   ]
  },
  {
   "cell_type": "code",
   "execution_count": null,
   "metadata": {},
   "outputs": [],
   "source": [
    "catchment_count = pd.crosstab(index = df['Catchment_name'], columns='count')\n",
    "catchment_count.sort_values(by=['count'], ascending=False).head(4)"
   ]
  },
  {
   "cell_type": "code",
   "execution_count": null,
   "metadata": {},
   "outputs": [],
   "source": [
    "# Apply the default theme\n",
    "sns.set_theme()"
   ]
  },
  {
   "attachments": {},
   "cell_type": "markdown",
   "metadata": {},
   "source": [
    "### Strip plots"
   ]
  },
  {
   "cell_type": "code",
   "execution_count": null,
   "metadata": {},
   "outputs": [],
   "source": [
    "dfa = df[df['Catchment_name']=='Ebro']\n",
    "dfb = df[df['Catchment_name']=='Galiza-Norte']\n",
    "dfc = df[df['Catchment_name']=='Minho']\n",
    "dfd = df[df['Catchment_name']=='Tejo']\n",
    "\n",
    "dfnames={'1': dfa, '2': dfb,'3': dfc, '4': dfd}\n",
    "catchnames = ['Ebro', 'Galiza-Norte', 'Minho', 'Tejo']\n",
    "\n",
    "fig, axes = plt.subplots(1, 4, sharex=True, sharey=True, figsize=(8, 4)) # number of graphs per column and line, share axis or not and figure size\n",
    "\n",
    "m = 0 # to iterate the name of the catchments (see code below)\n",
    "for i, ax in zip(dfnames, axes.flat): # .flat() - numpy function  used as a 1_D iterator over N-dimensional arrays\n",
    "# for loop with two variables\n",
    "# numpy.ndarray.flat() function is used as a 1_D iterator over N-dimensional arrays. ax in axes.flat returns the location of each plot in the 2x2 plot window\n",
    "    sns.stripplot(\n",
    "    data= dfnames[i],\n",
    "    y='temp_ann',\n",
    "    jitter=0.2, # the ammount of jitter (i.e. random point dispersion along the x-axis).\n",
    "    linewidth=0, # no line around the poits\n",
    "    alpha=.6,\n",
    "    ax=ax,\n",
    "    ).set_title(label = catchnames[m])\n",
    "    m = m+1 # in the next loop m=m+1 and the following catchment name will be set as the title\n",
    "    ax.tick_params(bottom=False) # removes bottom tickmarks\n",
    "sns.despine(bottom=True) # removes frame from plots; trim=True means that axis will be limited between min and max tick; offset defines space between axis and data.\n",
    "plt.show()"
   ]
  },
  {
   "attachments": {},
   "cell_type": "markdown",
   "metadata": {},
   "source": [
    "#### histograms"
   ]
  },
  {
   "cell_type": "code",
   "execution_count": null,
   "metadata": {},
   "outputs": [],
   "source": [
    "\n",
    "dfa = df[df['Catchment_name']=='Ebro']\n",
    "dfb = df[df['Catchment_name']=='Galiza-Norte']\n",
    "dfc = df[df['Catchment_name']=='Minho']\n",
    "dfd = df[df['Catchment_name']=='Tejo']\n",
    "\n",
    "dfnames={'1': dfa, '2': dfb,'3': dfc, '4': dfd}\n",
    "catchnames = ['Ebro', 'Galiza-Norte', 'Minho', 'Tejo']\n",
    "\n",
    "fig, axes = plt.subplots(2, 2, sharex=True, sharey=True, figsize=(8, 8)) # number of graphs per column and line, share axis or not and figure size\n",
    "\n",
    "m = 0 # to iterate the name of the catchments (see code below)\n",
    "for i, ax in zip(dfnames, axes.flat): \n",
    "# for loop with two variables\n",
    "# numpy.ndarray.flat() function is used as a 1_D iterator over N-dimensional arrays. ax in axes.flat returns the location of each plot in the 2x2 plot window\n",
    "    sns.histplot(\n",
    "    data= dfnames[i][\"temp_ann\"],\n",
    "    binwidth=0.25, # sets the width of each histogram bin (to uniformize the histograms among plots)\n",
    "    kde=True, # insert Kernel Density Estimate\n",
    "    kde_kws=dict(cut=3), # parameters controlling kde - defines the kde curve limits to be displayed\n",
    "    stat=\"density\", # method for the kde\n",
    "    alpha=.4, # sets transparency\n",
    "    edgecolor=(1, 1, 1, 0.4), # color of bar edges (red, green, blue, alpha) - white with o.4 transparency\n",
    "    ax=ax # to display each plot at a time (loop)\n",
    "    ).set_title(label = catchnames[m]) # set titles for each plot\n",
    "    m = m+1 # in the next loop m=m+1 and the following catchment name will be set as the title\n",
    "\n",
    "sns.despine() # removes frame from plots (check here for more: https://datagy.io/seaborn-despine/)\n",
    "plt.show()"
   ]
  },
  {
   "cell_type": "code",
   "execution_count": null,
   "metadata": {},
   "outputs": [],
   "source": [
    "# same with some more \"despine\" and simplifications\n",
    "\n",
    "dfa = df[df['Catchment_name']=='Ebro']\n",
    "dfb = df[df['Catchment_name']=='Galiza-Norte']\n",
    "dfc = df[df['Catchment_name']=='Minho']\n",
    "dfd = df[df['Catchment_name']=='Tejo']\n",
    "\n",
    "dfnames={'1': dfa, '2': dfb,'3': dfc, '4': dfd}\n",
    "catchnames = ['Ebro', 'Galiza-Norte', 'Minho', 'Tejo']\n",
    "\n",
    "fig, axes = plt.subplots(2, 2, sharex=True, sharey=True, figsize=(8, 8)) # number of graphs per column and line, share axis or not and figure size\n",
    "\n",
    "m = 0 # to iterate the name of the catchments (see code below)\n",
    "for i, ax in zip(dfnames, axes.flat): \n",
    "# for loop with two variables\n",
    "# numpy.ndarray.flat() function is used as a 1_D iterator over N-dimensional arrays. ax in axes.flat returns the location of each plot in the 2x2 plot window\n",
    "    sns.histplot(\n",
    "    data= dfnames[i][\"temp_ann\"],\n",
    "    binwidth=0.25, # sets the width of each histogram bin (to uniformize the histograms among plots)\n",
    "    kde=True,\n",
    "    stat=\"density\",\n",
    "    kde_kws=dict(cut=3),\n",
    "    alpha=.4,\n",
    "    edgecolor=None, # bar contour was removed\n",
    "    ax=ax,\n",
    "    ).set_title(label = catchnames[m])\n",
    "    m = m+1 # in the next loop m=m+1 and the following catchment name will be set as the title\n",
    "\n",
    "plt.yticks([0,0.2, 0.4, 0.6])\n",
    "sns.despine(trim=True, offset=3) # removes frame from plots; trim=True means that axis will be limited between min and max tick; offset defines space between axis and data.\n",
    "\n"
   ]
  },
  {
   "cell_type": "code",
   "execution_count": null,
   "metadata": {},
   "outputs": [],
   "source": [
    "# With even less code (now with a similar function - seaborn.displot())\n",
    "\n",
    "dfsub = df[(df['Catchment_name']=='Ebro') | \n",
    "    (df['Catchment_name']=='Galiza-Norte') |\n",
    "    (df['Catchment_name']=='Minho') |\n",
    "    (df['Catchment_name']=='Tejo')\n",
    "    ]\n",
    "\n",
    "sns.displot(\n",
    "    data=dfsub,\n",
    "    x='temp_ann',\n",
    "    kde=True,\n",
    "    col='Catchment_name',\n",
    "    stat=\"density\",\n",
    "    kde_kws=dict(cut=3),\n",
    "    alpha=.4,\n",
    "    edgecolor=None,\n",
    "    ).set(xlabel =\"Mean Annual Temperature (Cº)\")\n",
    "sns.despine(trim=True, offset=3)\n",
    "plt.show()\n",
    "\n"
   ]
  },
  {
   "cell_type": "code",
   "execution_count": null,
   "metadata": {},
   "outputs": [],
   "source": [
    "# all in a single plot\n",
    "\n",
    "dfa = df[df['Catchment_name']=='Ebro']\n",
    "dfb = df[df['Catchment_name']=='Galiza-Norte']\n",
    "dfc = df[df['Catchment_name']=='Minho']\n",
    "dfd = df[df['Catchment_name']=='Tejo']\n",
    "\n",
    "dfnames={'1': dfa, '2': dfb,'3': dfc, '4': dfd}\n",
    "catchnames = ['Ebro', 'Galiza-Norte', 'Minho', 'Tejo']\n",
    "\n",
    "k = 0\n",
    "l = 0\n",
    "m = 0\n",
    "for i in dfnames:\n",
    "    sns.histplot(\n",
    "    data= dfnames[i][\"temp_ann\"], \n",
    "    kde=True,\n",
    "    stat=\"density\",\n",
    "    kde_kws=dict(cut=3),\n",
    "    alpha=.4,\n",
    "    edgecolor=(1, 1, 1, 0.4),\n",
    "    )\n",
    "plt.xlabel('Mean Annual Temperature')\n",
    "plt.legend(labels=catchnames, frameon=False) # insert a legend with no box\n",
    "plt.show()"
   ]
  },
  {
   "cell_type": "code",
   "execution_count": null,
   "metadata": {},
   "outputs": [],
   "source": [
    "# all in a single plot - kde curve only\n",
    "\n",
    "dfa = df[df['Catchment_name']=='Ebro']\n",
    "dfb = df[df['Catchment_name']=='Galiza-Norte']\n",
    "dfc = df[df['Catchment_name']=='Minho']\n",
    "dfd = df[df['Catchment_name']=='Tejo']\n",
    "\n",
    "dfnames={'1': dfa, '2': dfb,'3': dfc, '4': dfd}\n",
    "catchnames = ['Ebro', 'Galiza-Norte', 'Minho', 'Tejo']\n",
    "\n",
    "k = 0\n",
    "l = 0\n",
    "m = 0\n",
    "for i in dfnames:\n",
    "    sns.kdeplot(\n",
    "    data= dfnames[i][\"temp_ann\"],\n",
    "    fill=True, # with filled curver; already transparent by default\n",
    "    ).set_ylim(0, 0.47) # change limits by trial and error\n",
    "\n",
    "plt.legend(labels=catchnames, frameon=False, loc='upper left') # insert a legend with no box in the upper left position\n",
    "plt.yticks([0,0.2, 0.4])\n",
    "plt.xlabel('Mean Annual Temperature')\n",
    "sns.despine(trim=True, offset=6)"
   ]
  },
  {
   "attachments": {},
   "cell_type": "markdown",
   "metadata": {},
   "source": [
    "### Box plots"
   ]
  },
  {
   "cell_type": "code",
   "execution_count": null,
   "metadata": {},
   "outputs": [],
   "source": [
    "dfa = df[df['Catchment_name']=='Ebro']\n",
    "dfb = df[df['Catchment_name']=='Galiza-Norte']\n",
    "dfc = df[df['Catchment_name']=='Minho']\n",
    "dfd = df[df['Catchment_name']=='Tejo']\n",
    "\n",
    "dfnames={'1': dfa, '2': dfb,'3': dfc, '4': dfd}\n",
    "catchnames = ['Ebro', 'Galiza-Norte', 'Minho', 'Tejo']\n",
    "\n",
    "fig, axes = plt.subplots(1, 4, sharex=True, sharey=True, figsize=(10, 5)) # number of graphs per column and line, share axis or not and figure size\n",
    "\n",
    "m = 0 # to iterate the name of the catchments (see code below)\n",
    "for i, ax in zip(dfnames, axes.flat): \n",
    "# for loop with two variables\n",
    "# numpy.ndarray.flat() function is used as a 1_D iterator over N-dimensional arrays. ax in axes.flat returns the location of each plot in the 2x2 plot window\n",
    "    sns.boxplot(\n",
    "    data= dfnames[i],\n",
    "    y='temp_ann',\n",
    "    width=0.4,\n",
    "    ax=ax,\n",
    "    ).set_title(label = catchnames[m])\n",
    "    m = m+1 # in the next loop m=m+1 and the following catchment name will be set as the title\n",
    "    ax.tick_params(bottom=False) # removes bottom tickmarks\n",
    "\n",
    "sns.despine(bottom=True) # removes frame from plots; trim=True means that axis will be limited between min and max tick; offset defines space between axis and data.\n"
   ]
  },
  {
   "cell_type": "markdown",
   "metadata": {},
   "source": [
    "#### Exercise 4.1\n",
    "\n",
    "Take 1000 random samples with replacement of increasing sample sizes (e.g. 10, 50, 100, 150, 200, 250, 300, 500 and 1000 observations), compute the mean Temp_ann of each sample and use an appropriate visualization to show how many samples will we need to have a good estimate of the population mean (this is a corrected version of the last challenge of the previous exercise).\n"
   ]
  },
  {
   "cell_type": "code",
   "execution_count": null,
   "metadata": {},
   "outputs": [],
   "source": [
    "import random\n",
    "\n",
    "num = [10, 50, 100, 150, 200, 250, 300, 500, 1000] \n",
    "\n",
    "temp = df['temp_ann']\n",
    "means = []\n",
    "\n",
    "for i in num:\n",
    "    # Generating seed so that we can get same result every time the loop is run...\n",
    "    np.random.seed(24)\n",
    "    # a loop that takes a random sample with i observations from temp and computes the mean, ...\n",
    "    # ... and repeat the process 1000 times\n",
    "    x = [np.mean( # compute mean\n",
    "        temp.take( # from temp ...\n",
    "        np.random.randint(0, len(temp), i)) # ... take a random sample of i observations ...\n",
    "        ) for _ in range(1000)] # ... 1000 times.\n",
    "    means.append(x)\n",
    "\n",
    "print(means) # means is a list of 9 lists with 1000 observations (means) each.\n",
    "type(means)\n",
    "\n",
    "# Produce boxplots\n",
    "ax = sns.boxplot(data= means)\n",
    "ax.set_xticklabels(num) # change x-axis tick labels\n",
    "ax.set_xlabel('Number of observations')\n",
    "ax.set_ylabel('Mean Annual Temperature') \n",
    "plt.axhline(y=np.mean(df['temp_ann']), color='r', linestyle='-') # plot line of mean Temp_ann using all data\n",
    "plt.show()"
   ]
  }
 ],
 "metadata": {
  "kernelspec": {
   "display_name": "Python 3",
   "language": "python",
   "name": "python3"
  },
  "language_info": {
   "codemirror_mode": {
    "name": "ipython",
    "version": 3
   },
   "file_extension": ".py",
   "mimetype": "text/x-python",
   "name": "python",
   "nbconvert_exporter": "python",
   "pygments_lexer": "ipython3",
   "version": "3.11.2"
  },
  "orig_nbformat": 4
 },
 "nbformat": 4,
 "nbformat_minor": 2
}
